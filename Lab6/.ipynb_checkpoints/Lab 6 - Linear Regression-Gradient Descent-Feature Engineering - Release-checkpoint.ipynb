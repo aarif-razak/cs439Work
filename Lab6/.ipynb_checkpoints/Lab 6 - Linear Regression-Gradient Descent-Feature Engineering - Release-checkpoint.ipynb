{
 "cells": [
  {
   "cell_type": "markdown",
   "metadata": {},
   "source": [
    "<div class=\"alert alert-block alert-info\">\n",
    "<h3>Student Information</h3> Please provide information about yourself.<br>\n",
    "<b>Name</b>: Aarif Razak<br>\n",
    "<b>NetID</b>:  ahr58 <br>\n",
    "<b>Recitation (01/02/90/91)</b>: 02<br>\n",
    "<b>Notes to Grader</b> (optional):<br>\n",
    "<br><br>\n",
    "<b>IMPORTANT</b>\n",
    "Your work will not be graded withour your initials below<br>\n",
    "I certify that this lab represents my own work and I have read the RU academic intergrity policies at<br>\n",
    "<a href=\"https://www.cs.rutgers.edu/academic-integrity/introduction\">https://www.cs.rutgers.edu/academic-integrity/introduction </a><br>\n",
    "<b>Initials</b>:     \n",
    "AR\n",
    "\n",
    "<h3>Grader Notes</h3>\n",
    "<b>Your Grade<b>:<br>\n",
    "<b>Grader Initials</b>:<br>\n",
    "<b>Grader Comments</b> (optional):<br>\n",
    "</div>"
   ]
  },
  {
   "cell_type": "markdown",
   "metadata": {},
   "source": [
    "# Lab 6: Linear Regression, Gradient Descent and Feature Engineering\n",
    "\n",
    "### Due Date: Sunday Dec 12, 2021 on or before 11:59 PM\n",
    "\n",
    "In this lab we will work through the process of:\n",
    "1. implementing a linear model\n",
    "2. defining loss functions using L1, L2 and Huber\n",
    "3. Implementing a gradient descent \n",
    "4. Experiment with Feature Engineering\n",
    "5. Examining regression using numeric libraries \n"
   ]
  },
  {
   "cell_type": "markdown",
   "metadata": {},
   "source": [
    "## Initialize"
   ]
  },
  {
   "cell_type": "code",
   "execution_count": 1,
   "metadata": {},
   "outputs": [],
   "source": [
    "import pandas as pd\n",
    "import numpy as np\n",
    "import seaborn as sns\n",
    "import matplotlib.pyplot as plt\n",
    "np.random.seed(42)\n",
    "plt.style.use('fivethirtyeight')\n",
    "sns.set()\n",
    "sns.set_context(\"talk\")\n",
    "%matplotlib inline"
   ]
  },
  {
   "cell_type": "markdown",
   "metadata": {},
   "source": [
    "# Univariate Linear Regression\n",
    "In this part of the lab, we will model linear regression based on a data set that contains grades from CS 205 course in fall 2018. The dataset (with no ID's) contain midterm and final exam grades (and other assignments). \n",
    "# Task 1 - Initialization\n",
    "Read the file into a dataframe and keep only the midtermRaw and FinaRaw columns. We will be doing univariate regression on input=midterm, output=finalExam\n",
    "The goal is to find a model that will allow us to predict the final exam score given the midterm score."
   ]
  },
  {
   "cell_type": "markdown",
   "metadata": {},
   "source": [
    "## Activity 1.1  Read Data"
   ]
  },
  {
   "cell_type": "code",
   "execution_count": 3,
   "metadata": {},
   "outputs": [
    {
     "data": {
      "text/html": [
       "<div>\n",
       "<style scoped>\n",
       "    .dataframe tbody tr th:only-of-type {\n",
       "        vertical-align: middle;\n",
       "    }\n",
       "\n",
       "    .dataframe tbody tr th {\n",
       "        vertical-align: top;\n",
       "    }\n",
       "\n",
       "    .dataframe thead th {\n",
       "        text-align: right;\n",
       "    }\n",
       "</style>\n",
       "<table border=\"1\" class=\"dataframe\">\n",
       "  <thead>\n",
       "    <tr style=\"text-align: right;\">\n",
       "      <th></th>\n",
       "      <th>midtermRaw</th>\n",
       "      <th>finalRaw</th>\n",
       "    </tr>\n",
       "  </thead>\n",
       "  <tbody>\n",
       "    <tr>\n",
       "      <th>3</th>\n",
       "      <td>45.5</td>\n",
       "      <td>62.0</td>\n",
       "    </tr>\n",
       "    <tr>\n",
       "      <th>4</th>\n",
       "      <td>58.0</td>\n",
       "      <td>60.5</td>\n",
       "    </tr>\n",
       "    <tr>\n",
       "      <th>5</th>\n",
       "      <td>68.0</td>\n",
       "      <td>32.0</td>\n",
       "    </tr>\n",
       "    <tr>\n",
       "      <th>6</th>\n",
       "      <td>64.5</td>\n",
       "      <td>50.5</td>\n",
       "    </tr>\n",
       "    <tr>\n",
       "      <th>7</th>\n",
       "      <td>74.0</td>\n",
       "      <td>51.0</td>\n",
       "    </tr>\n",
       "  </tbody>\n",
       "</table>\n",
       "</div>"
      ],
      "text/plain": [
       "   midtermRaw  finalRaw\n",
       "3        45.5      62.0\n",
       "4        58.0      60.5\n",
       "5        68.0      32.0\n",
       "6        64.5      50.5\n",
       "7        74.0      51.0"
      ]
     },
     "execution_count": 3,
     "metadata": {},
     "output_type": "execute_result"
    }
   ],
   "source": [
    "import pandas as pd\n",
    "df = pd.read_csv(\"data/CS205_grades_12_19_18_Final.csv\")\n",
    "df_cleaned = df[['midtermRaw','finalRaw']]\n",
    "# drop all undefined rows \n",
    "df_cleaned = df_cleaned.dropna() \n",
    "df_cleaned.head()"
   ]
  },
  {
   "cell_type": "markdown",
   "metadata": {},
   "source": [
    "## Activity 1.2 Normalize Data\n",
    "Normalize midterm and final scores to be between 0 and 1."
   ]
  },
  {
   "cell_type": "code",
   "execution_count": 4,
   "metadata": {},
   "outputs": [
    {
     "name": "stdout",
     "output_type": "stream",
     "text": [
      "[[0.37857143]\n",
      " [0.55714286]\n",
      " [0.7       ]\n",
      " [0.65      ]\n",
      " [0.78571429]\n",
      " [0.47857143]\n",
      " [0.32142857]\n",
      " [0.80714286]\n",
      " [0.58571429]\n",
      " [0.06428571]\n",
      " [0.53571429]\n",
      " [0.46428571]\n",
      " [0.42142857]\n",
      " [0.83571429]\n",
      " [0.35      ]\n",
      " [0.        ]\n",
      " [0.65      ]\n",
      " [0.48571429]\n",
      " [0.55      ]\n",
      " [0.49285714]\n",
      " [1.        ]\n",
      " [0.6       ]\n",
      " [0.31428571]\n",
      " [0.61428571]\n",
      " [0.55714286]\n",
      " [0.48571429]\n",
      " [0.04285714]\n",
      " [0.5       ]\n",
      " [0.23571429]\n",
      " [0.73571429]\n",
      " [0.59285714]\n",
      " [0.48571429]\n",
      " [0.15714286]\n",
      " [0.83571429]\n",
      " [0.14285714]\n",
      " [0.35      ]\n",
      " [0.41428571]\n",
      " [0.62142857]\n",
      " [1.        ]\n",
      " [0.70714286]\n",
      " [0.56428571]\n",
      " [0.9       ]\n",
      " [0.73571429]\n",
      " [0.24285714]\n",
      " [0.41428571]\n",
      " [0.65      ]\n",
      " [0.52142857]\n",
      " [0.65714286]\n",
      " [0.38571429]\n",
      " [0.4       ]\n",
      " [0.55      ]\n",
      " [0.52857143]\n",
      " [0.46428571]\n",
      " [0.81428571]\n",
      " [0.6       ]\n",
      " [0.54285714]\n",
      " [0.1       ]\n",
      " [0.50714286]\n",
      " [0.2       ]\n",
      " [0.63571429]\n",
      " [0.25714286]\n",
      " [0.94285714]\n",
      " [0.36428571]\n",
      " [0.53571429]\n",
      " [0.8       ]\n",
      " [0.34285714]\n",
      " [0.65      ]\n",
      " [0.67142857]\n",
      " [0.60714286]\n",
      " [0.31428571]\n",
      " [0.72142857]\n",
      " [0.55714286]\n",
      " [0.78571429]\n",
      " [0.31428571]\n",
      " [0.95714286]\n",
      " [0.17857143]\n",
      " [0.68571429]\n",
      " [0.44285714]\n",
      " [0.69285714]\n",
      " [0.17857143]\n",
      " [0.47142857]\n",
      " [0.52857143]\n",
      " [0.27142857]\n",
      " [0.45      ]\n",
      " [0.52857143]\n",
      " [0.48571429]\n",
      " [0.74285714]\n",
      " [0.25714286]\n",
      " [0.85714286]\n",
      " [0.29285714]\n",
      " [0.58571429]\n",
      " [0.70714286]\n",
      " [0.65714286]\n",
      " [0.27857143]\n",
      " [0.78571429]\n",
      " [0.25      ]\n",
      " [0.3       ]\n",
      " [0.58571429]\n",
      " [0.97142857]\n",
      " [0.02857143]\n",
      " [0.95      ]\n",
      " [0.44285714]\n",
      " [0.34285714]\n",
      " [0.48571429]\n",
      " [0.40714286]\n",
      " [0.7       ]\n",
      " [0.19285714]\n",
      " [0.37857143]\n",
      " [0.82142857]\n",
      " [0.87142857]\n",
      " [0.47857143]\n",
      " [0.04285714]\n",
      " [0.93571429]\n",
      " [0.47857143]\n",
      " [0.74285714]\n",
      " [0.63571429]\n",
      " [0.35714286]\n",
      " [0.82857143]\n",
      " [0.51428571]\n",
      " [0.22142857]\n",
      " [0.79285714]\n",
      " [0.92142857]\n",
      " [0.6       ]] [[0.79104478]\n",
      " [0.76865672]\n",
      " [0.34328358]\n",
      " [0.61940299]\n",
      " [0.62686567]\n",
      " [0.39552239]\n",
      " [0.43283582]\n",
      " [0.82835821]\n",
      " [0.6641791 ]\n",
      " [0.26119403]\n",
      " [0.74626866]\n",
      " [0.60447761]\n",
      " [0.79850746]\n",
      " [0.73134328]\n",
      " [0.36567164]\n",
      " [0.42537313]\n",
      " [0.63432836]\n",
      " [0.70895522]\n",
      " [0.81343284]\n",
      " [0.55223881]\n",
      " [0.76119403]\n",
      " [0.47014925]\n",
      " [0.53731343]\n",
      " [0.60447761]\n",
      " [0.20895522]\n",
      " [0.44776119]\n",
      " [0.17910448]\n",
      " [0.31343284]\n",
      " [0.35074627]\n",
      " [0.98507463]\n",
      " [0.5       ]\n",
      " [0.43283582]\n",
      " [0.5       ]\n",
      " [0.86567164]\n",
      " [0.40298507]\n",
      " [0.61940299]\n",
      " [0.6641791 ]\n",
      " [0.6119403 ]\n",
      " [1.        ]\n",
      " [0.45522388]\n",
      " [0.56716418]\n",
      " [0.65671642]\n",
      " [0.88059701]\n",
      " [0.45522388]\n",
      " [0.60447761]\n",
      " [0.53731343]\n",
      " [0.79850746]\n",
      " [0.44776119]\n",
      " [0.55970149]\n",
      " [0.76119403]\n",
      " [0.75373134]\n",
      " [0.67164179]\n",
      " [0.42537313]\n",
      " [0.7761194 ]\n",
      " [0.71641791]\n",
      " [0.6119403 ]\n",
      " [0.43283582]\n",
      " [0.61940299]\n",
      " [0.32835821]\n",
      " [0.46268657]\n",
      " [0.50746269]\n",
      " [0.47014925]\n",
      " [0.45522388]\n",
      " [0.48507463]\n",
      " [0.60447761]\n",
      " [0.47014925]\n",
      " [0.82089552]\n",
      " [0.88059701]\n",
      " [0.6641791 ]\n",
      " [0.38059701]\n",
      " [0.75373134]\n",
      " [0.50746269]\n",
      " [0.52238806]\n",
      " [0.53731343]\n",
      " [0.81343284]\n",
      " [0.26119403]\n",
      " [0.69402985]\n",
      " [0.51492537]\n",
      " [0.55223881]\n",
      " [0.49253731]\n",
      " [0.34328358]\n",
      " [0.51492537]\n",
      " [0.54477612]\n",
      " [0.34328358]\n",
      " [0.64179104]\n",
      " [0.74626866]\n",
      " [0.73134328]\n",
      " [0.15671642]\n",
      " [0.95522388]\n",
      " [0.53731343]\n",
      " [0.68656716]\n",
      " [0.40298507]\n",
      " [0.39552239]\n",
      " [0.37313433]\n",
      " [0.93283582]\n",
      " [0.31343284]\n",
      " [0.41791045]\n",
      " [0.38059701]\n",
      " [0.78358209]\n",
      " [0.        ]\n",
      " [0.81343284]\n",
      " [0.2761194 ]\n",
      " [0.50746269]\n",
      " [0.1641791 ]\n",
      " [0.49253731]\n",
      " [0.76119403]\n",
      " [0.51492537]\n",
      " [0.64925373]\n",
      " [0.92537313]\n",
      " [0.58955224]\n",
      " [0.82089552]\n",
      " [0.36567164]\n",
      " [0.85074627]\n",
      " [0.67910448]\n",
      " [0.6641791 ]\n",
      " [0.71641791]\n",
      " [0.44029851]\n",
      " [0.89552239]\n",
      " [0.67910448]\n",
      " [0.29850746]\n",
      " [0.76119403]\n",
      " [0.54477612]\n",
      " [0.44776119]]\n"
     ]
    }
   ],
   "source": [
    "# set of observations\n",
    "X = df_cleaned.dropna().iloc[:,[0]]\n",
    "# set of categories\n",
    "Y = df_cleaned.dropna().iloc[:,[1]]\n",
    "\n",
    "# normalize the numeric data\n",
    "from sklearn.preprocessing import MinMaxScaler\n",
    "scaler = MinMaxScaler() \n",
    "# BEGIN SOLUTION\n",
    "X_scaled_values = scaler.fit_transform(X)\n",
    "Y_scaled_values = scaler.fit_transform(Y)\n",
    "# END SOLUTION\n",
    "\n",
    "print(X_scaled_values, Y_scaled_values)"
   ]
  },
  {
   "cell_type": "markdown",
   "metadata": {},
   "source": [
    "## Activity 1.3 Plot the data to see if a linear regression line is a good fit"
   ]
  },
  {
   "cell_type": "code",
   "execution_count": 5,
   "metadata": {},
   "outputs": [
    {
     "data": {
      "text/plain": [
       "<matplotlib.collections.PathCollection at 0x7f9b3adc6730>"
      ]
     },
     "execution_count": 5,
     "metadata": {},
     "output_type": "execute_result"
    },
    {
     "data": {
      "image/png": "[encoded data removed]",
      "text/plain": [
       "<Figure size 432x288 with 1 Axes>"
      ]
     },
     "metadata": {
      "needs_background": "light"
     },
     "output_type": "display_data"
    }
   ],
   "source": [
    "import numpy as np\n",
    "import matplotlib.pyplot as plt\n",
    "\n",
    "# BEGIN SOLUTION\n",
    "\n",
    "plt.scatter(X_scaled_values, Y_scaled_values)\n",
    "\n",
    "# END SOLUTION"
   ]
  },
  {
   "cell_type": "markdown",
   "metadata": {},
   "source": [
    "### Question 1.3.1\n",
    "**Based on what you see in the plot, do you think it is fine to use linear regression?. Briefly explain below**\n",
    "\n",
    "***BEGIN SOLUTION*** \n",
    "\n",
    "There appears to be a consistent upward trend and lots of observations that follow this trend. It would be interesting to use linear regression here to map this relationship and possibly train it on more datasets for further accuracy.\n",
    "\n",
    "***END SOLUTION***"
   ]
  },
  {
   "cell_type": "markdown",
   "metadata": {},
   "source": [
    "# Task 2 Manual Exploration of Linear Regression Line\n",
    "In this task we will manually explore the linear regression line. This will give us a good intution about the process.\n",
    "The goal now is to fit a line \n",
    "$$\n",
    "h(\\theta) = \\theta_0 + \\theta_1*x \n",
    "$$\n",
    "for all data points (x,y), such that the error\n",
    "$$\n",
    "E(\\theta) = \\sum(h(\\theta)-y)^2 $$ is minimized. In this task we will manually change the values of theta0 and theta1 such that you obtained the smallest possible error. \n"
   ]
  },
  {
   "cell_type": "code",
   "execution_count": 6,
   "metadata": {},
   "outputs": [],
   "source": [
    "def h(theta0, theta1, x):\n",
    "    \"\"\"\n",
    "    Return the model theta0 + theta1*x\n",
    "    \n",
    "    \"\"\"\n",
    "   \n",
    "    return theta0+theta1*x"
   ]
  },
  {
   "cell_type": "markdown",
   "metadata": {},
   "source": [
    "## Activity 2.1 - Define the square error (L2) function\n",
    "Define the function, sqerror, that computes the error based on the two arguments provided. The function h($\\theta$) is as defined above. Assume that x and y are the observed vectors. We use the square error in this case."
   ]
  },
  {
   "cell_type": "code",
   "execution_count": 44,
   "metadata": {},
   "outputs": [
    {
     "data": {
      "text/plain": [
       "2.8891990884384056"
      ]
     },
     "execution_count": 44,
     "metadata": {},
     "output_type": "execute_result"
    }
   ],
   "source": [
    "import numpy as np\n",
    "\n",
    "def sqerror(theta0, theta1):\n",
    "    \"\"\"\n",
    "    Input: parameters theta0 and theta1 of the model \n",
    "    Returns: square error sum\n",
    "    Assumptions: x, y vectors global\n",
    "    \"\"\"\n",
    "    ## BEGIN SOLUTION\n",
    "    L = lambda a: a ** 2\n",
    "    y_pre = h(theta0, theta1, X_scaled_values)\n",
    "    err_lst = Y_scaled_values - y_pre\n",
    "    return float(sum(L(err_lst)))\n",
    "    ## END SOLUTION\n",
    "\n",
    "## testing\n",
    "sqerror(0.29,0.52)"
   ]
  },
  {
   "cell_type": "markdown",
   "metadata": {},
   "source": [
    "## Activity 2.2 - Define the L1 error function\n",
    "Define the function, abserror, that computes the average absolute error based on the two arguments provided. The function h($\\theta$) is as defined above. Assume that x and y are the observed vectors. We use the average abssolute error in this case."
   ]
  },
  {
   "cell_type": "code",
   "execution_count": 15,
   "metadata": {},
   "outputs": [
    {
     "data": {
      "text/plain": [
       "15.484200426439227"
      ]
     },
     "execution_count": 15,
     "metadata": {},
     "output_type": "execute_result"
    }
   ],
   "source": [
    "import numpy as np\n",
    "import math\n",
    "\n",
    "def abserror(theta0, theta1):\n",
    "    \"\"\"\n",
    "    Input: parameters theta0 and theta1 of the model \n",
    "    Returns: square error sum\n",
    "    Assumptions: x, y vectors global\n",
    "    \"\"\"\n",
    "    ## BEGIN SOLUTION\n",
    "    L = lambda a: abs(a)\n",
    "    y_pre = h(theta0, theta1, X_scaled_values)\n",
    "    err_lst = Y_scaled_values - y_pre\n",
    "    return float(sum(L(err_lst)))\n",
    "    \n",
    "    ## END SOLUTION\n",
    "\n",
    "## testing\n",
    "abserror(0.29,0.52)"
   ]
  },
  {
   "attachments": {
    "image.png": {
     "image/png": "[encoded data removed]"
    }
   },
   "cell_type": "markdown",
   "metadata": {},
   "source": [
    "## Activity 2.3 - Define the Pseudo Huber loss function\n",
    "Define the function, phuberror, that computes the pseudo huber error based on the two arguments provided. The function h($\\theta$) is as defined above. Assume that x and y are the observed vectors. We use the average huber error in this case. The equation for this function is given by \n",
    "![image.png](attachment:image.png)\n",
    "\n",
    "where a is the absolute difference between predicted and observed (that is, h($\\theta$) - y) "
   ]
  },
  {
   "cell_type": "code",
   "execution_count": 27,
   "metadata": {},
   "outputs": [
    {
     "data": {
      "text/plain": [
       "0.8602900328694063"
      ]
     },
     "execution_count": 27,
     "metadata": {},
     "output_type": "execute_result"
    }
   ],
   "source": [
    "import numpy as np\n",
    "import math\n",
    "\n",
    "def phuberror(theta0, theta1, delta):\n",
    "    \"\"\"\n",
    "    Input: parameters theta0 and theta1 of the model \n",
    "    Returns: square error sum\n",
    "    Assumptions: x, y vectors global\n",
    "    \"\"\"\n",
    "    ## BEGIN SOLUTION\n",
    "    #L = lambda a: math.sqrt(a)\n",
    "    y_pre = h(theta0, theta1, X_scaled_values)\n",
    "    err_lst = Y_scaled_values - y_pre\n",
    "    inside = np.sqrt(1+ (abs(err_lst)/delta)**2)\n",
    "    return float(sum((delta**2) * (inside-1)))\n",
    "    ## END SOLUTION\n",
    "\n",
    "## testing\n",
    "phuberror(0.29,0.52,0.1)"
   ]
  },
  {
   "cell_type": "markdown",
   "metadata": {},
   "source": [
    "## Activity 2.4 Interactive Exploration.\n",
    "Let us initialize the interactive widget (used in Lab5) to create sliders that allows us to change the values of theta0 and theta1 and see how things change. Complete the function f below. The function is expected to get two values alpha(theta0) and beta(theta1) and plot both the points and the line on the same plot. It also needs to compute the error and display and error."
   ]
  },
  {
   "cell_type": "code",
   "execution_count": 28,
   "metadata": {},
   "outputs": [
    {
     "name": "stdout",
     "output_type": "stream",
     "text": [
      "Enabling notebook extension jupyter-js-widgets/extension...\r\n",
      "      - Validating: \u001b[32mOK\u001b[0m\r\n"
     ]
    }
   ],
   "source": [
    "from ipywidgets import interact\n",
    "!jupyter nbextension enable --py widgetsnbextension"
   ]
  },
  {
   "cell_type": "code",
   "execution_count": 45,
   "metadata": {},
   "outputs": [
    {
     "data": {
      "application/vnd.jupyter.widget-view+json": {
       "model_id": "9677c9bdd85442ee814527393d45a99c",
       "version_major": 2,
       "version_minor": 0
      },
      "text/plain": [
       "interactive(children=(FloatSlider(value=0.0, description='theta0', max=1.0), FloatSlider(value=1.0, descriptio…"
      ]
     },
     "metadata": {},
     "output_type": "display_data"
    }
   ],
   "source": [
    "# interactive panel\n",
    "import pylab\n",
    "import numpy\n",
    "\n",
    "\n",
    "def f(theta0, theta1):\n",
    "    \"\"\"\n",
    "    Plot the line and points in an interactive panel\n",
    "    \"\"\"\n",
    "    # BEGIN SOLUTION\n",
    "    y_pre = h(theta0, theta1, X_scaled_values)\n",
    "    pylab.plot(X_scaled_values, y_pre)\n",
    "    pylab.scatter(X_scaled_values, Y_scaled_values, alpha=0.1)\n",
    "    sqerr = sqerror(theta0,theta1)\n",
    "    l1err = abserror(theta0,theta1)\n",
    "    huber = phuberror(theta0,theta1,0.1) #maintaining delta of 0.1\n",
    "    print(\"L2/Square Error: {} \".format(sqerr) )\n",
    "    print(\"L1/Abs Error: {} \".format(l1err) )\n",
    "    print(\"Huber Error: {} \".format(huber) )\n",
    "\n",
    "\n",
    "\n",
    "\n",
    "    # END SOLUTION\n",
    "\n",
    "interact(f, theta1=(0,3,0.1), theta0=(-0,1,0.1));\n"
   ]
  },
  {
   "cell_type": "markdown",
   "metadata": {},
   "source": [
    "## Activity 2.5 Record the best values for each error function\n",
    "Write the \"best\" values you found for theta0 (y-intercept) and theta1 (slope) and the error. \n",
    "This error is the minimum you have observed based on the manual exploration using the widget \n",
    "above."
   ]
  },
  {
   "cell_type": "code",
   "execution_count": 11,
   "metadata": {},
   "outputs": [],
   "source": [
    "# REPLACE THE DOTTED LINES WITH YOUR ANSWERS\n",
    "\n",
    "# BEST VALUES FOR SQUARE ERROR\n",
    "theta0 = 0.3\n",
    "theta1 = 0.5\n",
    "error = 2.89\n",
    "\n",
    "# BEST VALUES FOR ABS ERROR\n",
    "theta0 = 0.3\n",
    "theta1 = 0.5\n",
    "error = 15.5\n",
    "\n",
    "# BEST VALUES FOR HUBER ERROR\n",
    "theta0 = 0.3\n",
    "theta1 = 0.5\n",
    "error = 0.86"
   ]
  },
  {
   "cell_type": "markdown",
   "metadata": {},
   "source": [
    "# Task 3 - Gradient Descent\n",
    "In this task we use the Gradient descent methods to find a \"better\" values for theta0 and theta1 that minimizes the error. Gradient descent is an iterative algorithm. It computes values of theta0 and theta1 in the direction of reaching the minimum point in the graph. The iterative formulas are given by:\n",
    "$$\n",
    "\\theta_0 = \\theta_0 - \\alpha*(\\sum(\\theta_1*x_j + \\theta_0)-y_j)\n",
    "$$\n",
    "$$\n",
    "\\theta_1 = \\theta_1 - \\alpha*(\\sum(\\theta_1*x_j + \\theta_0 - y_j)*x_j\n",
    "$$\n",
    "\n",
    "The alpha ($\\alpha$) is called the \"learning rate\". It is important to pick a good value for alpha so that convergence is not too slow (small alpha) or at the risk of over shooting the minimum point (large alpha)"
   ]
  },
  {
   "cell_type": "markdown",
   "metadata": {},
   "source": [
    "## Activity 3.1 Compute Gradient Descent (L2)"
   ]
  },
  {
   "cell_type": "code",
   "execution_count": 47,
   "metadata": {},
   "outputs": [
    {
     "name": "stdout",
     "output_type": "stream",
     "text": [
      "(0.302348766725856, 0.5127565218727459)\n"
     ]
    }
   ],
   "source": [
    "# given the observed data (obsX,obsY), learning rate (alpha), and error threshold (how many decimals of accuracy) \n",
    "# the function returns theta0 and theta1\n",
    "# that minimizes the error.\n",
    "\n",
    "def gd2(obsX, obsY, alpha, threshold):\n",
    "    \"\"\"\n",
    "    Return theta0, and theta1 from Gradient Descent algorithm\n",
    "    \"\"\"\n",
    "    theta0, theta1 = 0, 0\n",
    "    # BEGIN SOLUTION\n",
    "    sum_theta0 = lambda a,b : float(sum(b*x+a-y for x,y in zip(obsX, obsY)))\n",
    "    sum_theta1 = lambda a,b : float(sum((b*x+a-y)*x for x,y in zip(obsX, obsY)))\n",
    "\n",
    "    prev_theta0, prev_theta1 = 0, 0\n",
    "    oldError = sqerror(prev_theta0, prev_theta1)\n",
    "    newError = oldError + 100\n",
    "    iterations = 0\n",
    "\n",
    "#print(f'iter_num = {iterations}, theta0 = {prev_theta0}, theta1 = {prev_theta1}')\n",
    "\n",
    "    while abs(newError - oldError) >= threshold:\n",
    "        theta0 = prev_theta0 - alpha*sum_theta0(prev_theta0, prev_theta1)\n",
    "        theta1 = prev_theta1 - alpha*sum_theta1(prev_theta0, prev_theta1)\n",
    "    \n",
    "        newError = sqerror(theta0, theta1)\n",
    "        oldError = sqerror(prev_theta0, prev_theta1)\n",
    "\n",
    "        prev_theta0 = theta0\n",
    "        prev_theta1 = theta1\n",
    "    \n",
    "        iterations += 1\n",
    "        #print(f'iter_num = {iterations}, theta0 = {theta0}, theta1 = {theta1}, newError = {newError}')\n",
    "\n",
    "\n",
    "    \n",
    "    # END SOLUTION        \n",
    "    return theta0,theta1\n",
    "    \n",
    "#testing\n",
    "print(gd2(X_scaled_values,Y_scaled_values,0.01,0.0001))"
   ]
  },
  {
   "cell_type": "markdown",
   "metadata": {},
   "source": [
    "## Activity 3.2 Compute Gradient Descent (Huber)\n",
    "First, compute a formula for the huber gradient descent using similar derivative methods used in gradient descent for L2 loss (we did derivatives for L2 loss in the lecture. You need to do the derivatives for humber function as defined above)."
   ]
  },
  {
   "cell_type": "code",
   "execution_count": 13,
   "metadata": {},
   "outputs": [
    {
     "name": "stdout",
     "output_type": "stream",
     "text": [
      "(0.3074733503633054, 0.5043527349174003)\n"
     ]
    }
   ],
   "source": [
    "# given the observed data (obsX,obsY), learning rate (alpha), error change threshold,\n",
    "# and delta from the huber loss model,\n",
    "# the function returns theta0 and theta1\n",
    "# that minimizes the error.\n",
    "\n",
    "def gdh(obsX, obsY, alpha, threshold, delta):\n",
    "    \"\"\"\n",
    "    Return theta0 and theta1, error from huber gradient Descent algorithm\n",
    "    \"\"\"\n",
    "    theta0, theta1 = 0, 0\n",
    "    # BEGIN SOLUTION\n",
    "    sum_theta0 = lambda a,b : float(sum(b*x+a-y for x,y in zip(obsX, obsY)))\n",
    "    sum_theta1 = lambda a,b : float(sum((b*x+a-y)*x for x,y in zip(obsX, obsY)))\n",
    "\n",
    "    prev_theta0, prev_theta1 = 0, 0\n",
    "    oldError = phuberror(prev_theta0, prev_theta1,delta)\n",
    "    newError = oldError + 100\n",
    "    iterations = 0\n",
    "\n",
    "#print(f'iter_num = {iterations}, theta0 = {prev_theta0}, theta1 = {prev_theta1}')\n",
    "\n",
    "    while abs(newError - oldError) >= threshold:\n",
    "        theta0 = prev_theta0 - alpha*sum_theta0(prev_theta0, prev_theta1)\n",
    "        theta1 = prev_theta1 - alpha*sum_theta1(prev_theta0, prev_theta1)\n",
    "    \n",
    "        newError = phuberror(theta0, theta1, delta)\n",
    "        oldError = phuberror(prev_theta0, prev_theta1, delta)\n",
    "\n",
    "        prev_theta0 = theta0\n",
    "        prev_theta1 = theta1\n",
    "    \n",
    "        iterations += 1\n",
    "        #print(f'iter_num = {iterations}, theta0 = {theta0}, theta1 = {theta1}, newError = {newError}')\n",
    "\n",
    "\n",
    "\n",
    "    # END SOLUTION \n",
    "    return theta0,theta1\n",
    "\n",
    "\n",
    "# testing\n",
    "print(gdh(X_scaled_values,Y_scaled_values,0.001,0.0001,1.0))"
   ]
  },
  {
   "cell_type": "markdown",
   "metadata": {},
   "source": [
    "## Activity 3.3"
   ]
  },
  {
   "cell_type": "markdown",
   "metadata": {},
   "source": [
    "\n",
    "### 3.3.1. Write the values of theta0, theta1, alpha, error that provided the minimum value through gradient descent"
   ]
  },
  {
   "cell_type": "code",
   "execution_count": 14,
   "metadata": {},
   "outputs": [],
   "source": [
    "# REPLACE THE DOTTED LINES WITH YOUR ANSWERS\n",
    "\n",
    "# L2 ERROR\n",
    "theta0 = ...\n",
    "theta1 = ...\n",
    "alpha = ...\n",
    "error = ...\n",
    "\n",
    "# HUBER ERROR\n",
    "theta0 = ...\n",
    "theta1 = ...\n",
    "alpha = ...\n",
    "error = ..."
   ]
  },
  {
   "cell_type": "markdown",
   "metadata": {},
   "source": [
    "### 3.3.2. Experiment with the new values of theta0, theta1 to see if the interactive widget shows similar things."
   ]
  },
  {
   "cell_type": "code",
   "execution_count": 15,
   "metadata": {},
   "outputs": [
    {
     "data": {
      "application/vnd.jupyter.widget-view+json": {
       "model_id": "2c70fd926810445997771deb3c69f06e",
       "version_major": 2,
       "version_minor": 0
      },
      "text/plain": [
       "interactive(children=(FloatSlider(value=0.0, description='theta0', max=1.0), FloatSlider(value=1.0, descriptio…"
      ]
     },
     "metadata": {},
     "output_type": "display_data"
    }
   ],
   "source": [
    "interact(f, theta1=(0,3,0.1), theta0=(-0,1,0.1));"
   ]
  },
  {
   "cell_type": "markdown",
   "metadata": {},
   "source": [
    "## Activity 3.4 Compare with Library Estimators (just for L2 error)\n",
    "Now use the sklearn LinearRegression module to automate this process. What coefficients do you get? Are they close what you received from gradient descent? Find the error from sklearn package. Is that error smaller or bigger than the squared error you received? Write your answer below."
   ]
  },
  {
   "cell_type": "code",
   "execution_count": 16,
   "metadata": {},
   "outputs": [
    {
     "name": "stdout",
     "output_type": "stream",
     "text": [
      "[0.29620134]\n",
      "[[0.5238794]]\n"
     ]
    }
   ],
   "source": [
    "from sklearn.linear_model import LinearRegression\n",
    "lm = LinearRegression()\n",
    "result = lm.fit(X_scaled_values,Y_scaled_values)\n",
    "print(result.intercept_)\n",
    "print(result.coef_)"
   ]
  },
  {
   "cell_type": "code",
   "execution_count": 17,
   "metadata": {},
   "outputs": [
    {
     "data": {
      "text/plain": [
       "2.8807167362296533"
      ]
     },
     "execution_count": 17,
     "metadata": {},
     "output_type": "execute_result"
    }
   ],
   "source": [
    "theta0 = result.intercept_\n",
    "theta1 = result.coef_\n",
    "sqerror(theta0,theta1)"
   ]
  },
  {
   "cell_type": "markdown",
   "metadata": {},
   "source": [
    "### Write your answers to the Activity 3.4 questions here\n",
    "\n",
    "***BEGIN SOLUTION***\n",
    "\n",
    "\n",
    "***END SOLUTION***"
   ]
  },
  {
   "cell_type": "markdown",
   "metadata": {},
   "source": [
    "## Activity 3.5 - Predict Your Final Exam Score\n",
    "The regression line was obtained using grades from CS 205 course. We can consider them to be training data. Now we trained a model (with theta0 and theta1) so we can predict the grade for your own course (CS 439) based on your midterm grade.\n",
    "We will do few things before we can accomplish this task."
   ]
  },
  {
   "cell_type": "markdown",
   "metadata": {},
   "source": [
    "### 3.5.1 Read the midterm grades\n",
    "The grade file for CS439 midterm is given in data/CS439_grades.csv. Read this data file to a new dataframe."
   ]
  },
  {
   "cell_type": "code",
   "execution_count": 18,
   "metadata": {},
   "outputs": [
    {
     "name": "stdout",
     "output_type": "stream",
     "text": [
      "<class 'pandas.core.frame.DataFrame'>\n",
      "RangeIndex: 97 entries, 0 to 96\n",
      "Data columns (total 1 columns):\n",
      " #   Column   Non-Null Count  Dtype  \n",
      "---  ------   --------------  -----  \n",
      " 0   midterm  97 non-null     float64\n",
      "dtypes: float64(1)\n",
      "memory usage: 904.0 bytes\n"
     ]
    }
   ],
   "source": [
    "import pandas as pd\n",
    "df_439 = pd.read_csv(\"data/CS439_grades_03_15_19.csv\")\n",
    "df_439.info()\n",
    "mid = df_439[df_439['midterm']<80]"
   ]
  },
  {
   "cell_type": "markdown",
   "metadata": {},
   "source": [
    "### 3.5.2 Predict your Grade"
   ]
  },
  {
   "cell_type": "code",
   "execution_count": 19,
   "metadata": {},
   "outputs": [
    {
     "name": "stdout",
     "output_type": "stream",
     "text": [
      "Midterm Score :  61.5 \t Predicted Score :  61.858866076959785\n",
      "Midterm Score :  42.3 \t Predicted Score :  51.78426215207834\n",
      "Midterm Score :  52.6 \t Predicted Score :  57.15738424534843\n",
      "Midterm Score :  12.8 \t Predicted Score :  36.33653613392679\n",
      "Midterm Score :  94.9 \t Predicted Score :  79.3215128800876\n",
      "Midterm Score :  56.4 \t Predicted Score :  59.17230503032472\n",
      "Midterm Score :  39.7 \t Predicted Score :  50.44098162876081\n",
      "Midterm Score :  46.2 \t Predicted Score :  53.79918293705461\n",
      "Midterm Score :  43.6 \t Predicted Score :  52.4559024137371\n",
      "Midterm Score :  21.8 \t Predicted Score :  41.03801796553813\n",
      "Midterm Score :  48.7 \t Predicted Score :  55.14246346037215\n",
      "Midterm Score :  43.6 \t Predicted Score :  52.4559024137371\n",
      "Midterm Score :  75.6 \t Predicted Score :  69.24690895520615\n",
      "Midterm Score :  65.4 \t Predicted Score :  63.873786861936054\n",
      "Midterm Score :  52.6 \t Predicted Score :  57.15738424534843\n",
      "Midterm Score :  43.6 \t Predicted Score :  52.4559024137371\n",
      "Midterm Score :  61.5 \t Predicted Score :  61.858866076959785\n",
      "Midterm Score :  42.3 \t Predicted Score :  51.78426215207834\n",
      "Midterm Score :  60.3 \t Predicted Score :  61.18722581530102\n",
      "Midterm Score :  100.0 \t Predicted Score :  82.00807392672264\n",
      "Midterm Score :  70.5 \t Predicted Score :  66.5603479085711\n",
      "Midterm Score :  61.5 \t Predicted Score :  61.858866076959785\n",
      "Midterm Score :  0.0 \t Predicted Score :  29.62013351733917\n",
      "Midterm Score :  53.8 \t Predicted Score :  57.8290245070072\n",
      "Midterm Score :  34.6 \t Predicted Score :  47.75442058212577\n",
      "Midterm Score :  83.3 \t Predicted Score :  73.27675052515875\n",
      "Midterm Score :  67.9 \t Predicted Score :  65.21706738525359\n",
      "Midterm Score :  91.0 \t Predicted Score :  77.3065920951113\n",
      "Midterm Score :  29.5 \t Predicted Score :  45.06785953549071\n",
      "Midterm Score :  73.1 \t Predicted Score :  67.90362843188863\n",
      "Midterm Score :  67.9 \t Predicted Score :  65.21706738525359\n",
      "Midterm Score :  2.6 \t Predicted Score :  30.963414040656694\n",
      "Midterm Score :  61.5 \t Predicted Score :  61.858866076959785\n",
      "Midterm Score :  69.2 \t Predicted Score :  65.88870764691235\n",
      "Midterm Score :  48.7 \t Predicted Score :  55.14246346037215\n",
      "Midterm Score :  98.7 \t Predicted Score :  81.3364336650639\n",
      "Midterm Score :  34.6 \t Predicted Score :  47.75442058212577\n",
      "Midterm Score :  60.3 \t Predicted Score :  61.18722581530102\n",
      "Midterm Score :  44.9 \t Predicted Score :  53.12754267539586\n",
      "Midterm Score :  50.0 \t Predicted Score :  55.81410372203091\n",
      "Midterm Score :  69.2 \t Predicted Score :  65.88870764691235\n",
      "Midterm Score :  60.3 \t Predicted Score :  61.18722581530102\n",
      "Midterm Score :  83.3 \t Predicted Score :  73.27675052515875\n",
      "Midterm Score :  26.9 \t Predicted Score :  43.72457901217318\n",
      "Midterm Score :  61.5 \t Predicted Score :  61.858866076959785\n",
      "Midterm Score :  20.5 \t Predicted Score :  40.36637770387937\n",
      "Midterm Score :  19.2 \t Predicted Score :  39.69473744222061\n",
      "Midterm Score :  6.4 \t Predicted Score :  32.978334825632984\n",
      "Midterm Score :  80.8 \t Predicted Score :  71.93347000184121\n",
      "Midterm Score :  44.9 \t Predicted Score :  53.12754267539586\n",
      "Midterm Score :  26.9 \t Predicted Score :  43.72457901217318\n",
      "Midterm Score :  14.1 \t Predicted Score :  37.00817639558556\n",
      "Midterm Score :  67.9 \t Predicted Score :  65.21706738525359\n",
      "Midterm Score :  51.3 \t Predicted Score :  56.48574398368967\n",
      "Midterm Score :  24.4 \t Predicted Score :  42.381298488855656\n",
      "Midterm Score :  78.2 \t Predicted Score :  70.59018947852368\n",
      "Midterm Score :  23.1 \t Predicted Score :  41.7096582271969\n",
      "Midterm Score :  60.3 \t Predicted Score :  61.18722581530102\n",
      "Midterm Score :  71.8 \t Predicted Score :  67.23198817022987\n",
      "Midterm Score :  85.9 \t Predicted Score :  74.62003104847626\n",
      "Midterm Score :  50.0 \t Predicted Score :  55.81410372203091\n",
      "Midterm Score :  37.2 \t Predicted Score :  49.097701105443285\n",
      "Midterm Score :  73.1 \t Predicted Score :  67.90362843188863\n",
      "Midterm Score :  62.8 \t Predicted Score :  62.530506338618544\n",
      "Midterm Score :  59.0 \t Predicted Score :  60.51558555364225\n",
      "Midterm Score :  70.5 \t Predicted Score :  66.5603479085711\n",
      "Midterm Score :  5.1 \t Predicted Score :  32.306694563974226\n",
      "Midterm Score :  34.6 \t Predicted Score :  47.75442058212577\n",
      "Midterm Score :  19.2 \t Predicted Score :  39.69473744222061\n",
      "Midterm Score :  50.0 \t Predicted Score :  55.81410372203091\n",
      "Midterm Score :  67.9 \t Predicted Score :  65.21706738525359\n",
      "Midterm Score :  7.7 \t Predicted Score :  33.64997508729174\n",
      "Midterm Score :  67.9 \t Predicted Score :  65.21706738525359\n",
      "Midterm Score :  67.9 \t Predicted Score :  65.21706738525359\n",
      "Midterm Score :  53.8 \t Predicted Score :  57.8290245070072\n",
      "Midterm Score :  39.7 \t Predicted Score :  50.44098162876081\n",
      "Midterm Score :  43.6 \t Predicted Score :  52.4559024137371\n",
      "Midterm Score :  98.7 \t Predicted Score :  81.3364336650639\n",
      "Midterm Score :  79.5 \t Predicted Score :  71.26182974018245\n",
      "Midterm Score :  88.5 \t Predicted Score :  75.9633115717938\n",
      "Midterm Score :  55.1 \t Predicted Score :  58.500664768665956\n",
      "Midterm Score :  65.4 \t Predicted Score :  63.873786861936054\n",
      "Midterm Score :  57.7 \t Predicted Score :  59.84394529198349\n",
      "Midterm Score :  46.2 \t Predicted Score :  53.79918293705461\n",
      "Midterm Score :  51.9 \t Predicted Score :  56.82156411451905\n",
      "Midterm Score :  70.5 \t Predicted Score :  66.5603479085711\n",
      "Midterm Score :  51.3 \t Predicted Score :  56.48574398368967\n",
      "Midterm Score :  43.6 \t Predicted Score :  52.4559024137371\n",
      "Midterm Score :  6.4 \t Predicted Score :  32.978334825632984\n",
      "Midterm Score :  30.8 \t Predicted Score :  45.73949979714948\n",
      "Midterm Score :  96.2 \t Predicted Score :  79.99315314174635\n",
      "Midterm Score :  69.2 \t Predicted Score :  65.88870764691235\n",
      "Midterm Score :  64.1 \t Predicted Score :  63.202146600277295\n",
      "Midterm Score :  38.5 \t Predicted Score :  49.76934136710205\n",
      "Midterm Score :  42.3 \t Predicted Score :  51.78426215207834\n",
      "Midterm Score :  83.3 \t Predicted Score :  73.27675052515875\n"
     ]
    }
   ],
   "source": [
    "from sklearn import preprocessing\n",
    "\n",
    "X = mid.iloc[:,[0]]\n",
    "scaler = MinMaxScaler()\n",
    "# BEGIN SOLUTION\n",
    "\n",
    "# END SOLUTION\n",
    "\n",
    "n = len(X_scaled_values)\n",
    "newX = X_scaled_values.reshape(n)\n",
    "    \n",
    "for i in range(len(X_scaled_values)):\n",
    "    print('Midterm Score : ', round(100*newX[i],1), '\\t', 'Predicted Score : ',100*h(theta0, theta1, newX[i])[0][0])"
   ]
  },
  {
   "cell_type": "markdown",
   "metadata": {},
   "source": [
    "# Task 4 - Feature Engineering\n",
    "In this task we will learn about feature engineering and how to use one-hot-encoding to analyze a data set.\n",
    "To begin with, we load the tips dataset from the seaborn library. The tips data contains records of tips, total bill, and personal information about the person who paid the bill."
   ]
  },
  {
   "cell_type": "code",
   "execution_count": 20,
   "metadata": {},
   "outputs": [
    {
     "name": "stdout",
     "output_type": "stream",
     "text": [
      "Number of Records: 244\n"
     ]
    },
    {
     "data": {
      "text/html": [
       "<div>\n",
       "<style scoped>\n",
       "    .dataframe tbody tr th:only-of-type {\n",
       "        vertical-align: middle;\n",
       "    }\n",
       "\n",
       "    .dataframe tbody tr th {\n",
       "        vertical-align: top;\n",
       "    }\n",
       "\n",
       "    .dataframe thead th {\n",
       "        text-align: right;\n",
       "    }\n",
       "</style>\n",
       "<table border=\"1\" class=\"dataframe\">\n",
       "  <thead>\n",
       "    <tr style=\"text-align: right;\">\n",
       "      <th></th>\n",
       "      <th>total_bill</th>\n",
       "      <th>tip</th>\n",
       "      <th>sex</th>\n",
       "      <th>smoker</th>\n",
       "      <th>day</th>\n",
       "      <th>time</th>\n",
       "      <th>size</th>\n",
       "    </tr>\n",
       "  </thead>\n",
       "  <tbody>\n",
       "    <tr>\n",
       "      <th>0</th>\n",
       "      <td>16.99</td>\n",
       "      <td>1.01</td>\n",
       "      <td>Female</td>\n",
       "      <td>No</td>\n",
       "      <td>Sun</td>\n",
       "      <td>Dinner</td>\n",
       "      <td>2</td>\n",
       "    </tr>\n",
       "    <tr>\n",
       "      <th>1</th>\n",
       "      <td>10.34</td>\n",
       "      <td>1.66</td>\n",
       "      <td>Male</td>\n",
       "      <td>No</td>\n",
       "      <td>Sun</td>\n",
       "      <td>Dinner</td>\n",
       "      <td>3</td>\n",
       "    </tr>\n",
       "    <tr>\n",
       "      <th>2</th>\n",
       "      <td>21.01</td>\n",
       "      <td>3.50</td>\n",
       "      <td>Male</td>\n",
       "      <td>No</td>\n",
       "      <td>Sun</td>\n",
       "      <td>Dinner</td>\n",
       "      <td>3</td>\n",
       "    </tr>\n",
       "    <tr>\n",
       "      <th>3</th>\n",
       "      <td>23.68</td>\n",
       "      <td>3.31</td>\n",
       "      <td>Male</td>\n",
       "      <td>No</td>\n",
       "      <td>Sun</td>\n",
       "      <td>Dinner</td>\n",
       "      <td>2</td>\n",
       "    </tr>\n",
       "    <tr>\n",
       "      <th>4</th>\n",
       "      <td>24.59</td>\n",
       "      <td>3.61</td>\n",
       "      <td>Female</td>\n",
       "      <td>No</td>\n",
       "      <td>Sun</td>\n",
       "      <td>Dinner</td>\n",
       "      <td>4</td>\n",
       "    </tr>\n",
       "  </tbody>\n",
       "</table>\n",
       "</div>"
      ],
      "text/plain": [
       "   total_bill   tip     sex smoker  day    time  size\n",
       "0       16.99  1.01  Female     No  Sun  Dinner     2\n",
       "1       10.34  1.66    Male     No  Sun  Dinner     3\n",
       "2       21.01  3.50    Male     No  Sun  Dinner     3\n",
       "3       23.68  3.31    Male     No  Sun  Dinner     2\n",
       "4       24.59  3.61  Female     No  Sun  Dinner     4"
      ]
     },
     "execution_count": 20,
     "metadata": {},
     "output_type": "execute_result"
    }
   ],
   "source": [
    "data = sns.load_dataset(\"tips\")\n",
    "print(\"Number of Records:\", len(data))\n",
    "data.head()"
   ]
  },
  {
   "cell_type": "markdown",
   "metadata": {},
   "source": [
    "## Activity 4.1: Defining the Model and Feature Engineering\n",
    "Previously, we defined a simple linear model with only two parameters. Now let's make a more complicated model that utilizes other features in a dataset. Let our prediction for tip be a combination of the following features:\n",
    "\n",
    "$$\n",
    "\\text{Tip} = \\theta_1 * \\text{total_bill} + \\theta_2 * \\text{sex} + \\theta_3 * \\text{smoker} + \\theta_4 * \\text{day} + \\theta_5 * \\text{time} + \\theta_6 * \\text{size}\n",
    "$$\n",
    "\n",
    "Notice that some of these features are not numbers! But our linear model will need to predict a numerical value. \n"
   ]
  },
  {
   "cell_type": "markdown",
   "metadata": {},
   "source": [
    "### 4.1.1 Split the data into tips (column tip) and X (all other columns)"
   ]
  },
  {
   "cell_type": "code",
   "execution_count": 21,
   "metadata": {},
   "outputs": [],
   "source": [
    "## BEGIN SOLUTION\n",
    "tips = ...\n",
    "X = ...\n",
    "## END SOLUTION"
   ]
  },
  {
   "cell_type": "markdown",
   "metadata": {},
   "source": [
    "## Activity 4.2: Feature Engineering\n",
    "First, let's convert everything to numerical values. A straightforward approach is to map some of these non-numerical features into numerical ones. For example, we can treat the day as a value from 1-7. However, one of the issues in directly translating to a numeric value is that we unintentially assign certain features disproportionate weight. Consider assigning Sunday to the numeric value of 7. Monday is assigned to 1 and thus Sunday has 7 times the influence of Monday in our linear model which can lower the accuracy of our model. We will use **one-hot encoding** to address this issue (see lecture notes)\n",
    "\n",
    "One-hot encoding will produce a binary vector indicating the non-numeric feature. Sunday would be encoded as a [0 0 0 0 0 0 1]. This assigns a more even weight across each category in non-numeric features. Complete the code below to one-hot encode our dataset."
   ]
  },
  {
   "cell_type": "code",
   "execution_count": 22,
   "metadata": {},
   "outputs": [],
   "source": [
    "def one_hot_encode(data):\n",
    "    \"\"\"\n",
    "    Return the one-hot encoded dataframe of our input, data. \n",
    "    Hint: check pd.get_dummies\n",
    "    \"\"\"\n",
    "    ### BEGIN SOLUTION\n",
    "    \n",
    "    ### END SOLUTION"
   ]
  },
  {
   "cell_type": "code",
   "execution_count": 23,
   "metadata": {},
   "outputs": [
    {
     "data": {
      "text/html": [
       "<div>\n",
       "<style scoped>\n",
       "    .dataframe tbody tr th:only-of-type {\n",
       "        vertical-align: middle;\n",
       "    }\n",
       "\n",
       "    .dataframe tbody tr th {\n",
       "        vertical-align: top;\n",
       "    }\n",
       "\n",
       "    .dataframe thead th {\n",
       "        text-align: right;\n",
       "    }\n",
       "</style>\n",
       "<table border=\"1\" class=\"dataframe\">\n",
       "  <thead>\n",
       "    <tr style=\"text-align: right;\">\n",
       "      <th></th>\n",
       "      <th>size</th>\n",
       "      <th>total_bill</th>\n",
       "      <th>day_Thur</th>\n",
       "      <th>day_Fri</th>\n",
       "      <th>day_Sat</th>\n",
       "      <th>day_Sun</th>\n",
       "      <th>sex_Male</th>\n",
       "      <th>sex_Female</th>\n",
       "      <th>smoker_Yes</th>\n",
       "      <th>smoker_No</th>\n",
       "      <th>time_Lunch</th>\n",
       "      <th>time_Dinner</th>\n",
       "    </tr>\n",
       "  </thead>\n",
       "  <tbody>\n",
       "    <tr>\n",
       "      <th>0</th>\n",
       "      <td>2</td>\n",
       "      <td>16.99</td>\n",
       "      <td>0</td>\n",
       "      <td>0</td>\n",
       "      <td>0</td>\n",
       "      <td>1</td>\n",
       "      <td>0</td>\n",
       "      <td>1</td>\n",
       "      <td>0</td>\n",
       "      <td>1</td>\n",
       "      <td>0</td>\n",
       "      <td>1</td>\n",
       "    </tr>\n",
       "    <tr>\n",
       "      <th>1</th>\n",
       "      <td>3</td>\n",
       "      <td>10.34</td>\n",
       "      <td>0</td>\n",
       "      <td>0</td>\n",
       "      <td>0</td>\n",
       "      <td>1</td>\n",
       "      <td>1</td>\n",
       "      <td>0</td>\n",
       "      <td>0</td>\n",
       "      <td>1</td>\n",
       "      <td>0</td>\n",
       "      <td>1</td>\n",
       "    </tr>\n",
       "    <tr>\n",
       "      <th>2</th>\n",
       "      <td>3</td>\n",
       "      <td>21.01</td>\n",
       "      <td>0</td>\n",
       "      <td>0</td>\n",
       "      <td>0</td>\n",
       "      <td>1</td>\n",
       "      <td>1</td>\n",
       "      <td>0</td>\n",
       "      <td>0</td>\n",
       "      <td>1</td>\n",
       "      <td>0</td>\n",
       "      <td>1</td>\n",
       "    </tr>\n",
       "    <tr>\n",
       "      <th>3</th>\n",
       "      <td>2</td>\n",
       "      <td>23.68</td>\n",
       "      <td>0</td>\n",
       "      <td>0</td>\n",
       "      <td>0</td>\n",
       "      <td>1</td>\n",
       "      <td>1</td>\n",
       "      <td>0</td>\n",
       "      <td>0</td>\n",
       "      <td>1</td>\n",
       "      <td>0</td>\n",
       "      <td>1</td>\n",
       "    </tr>\n",
       "    <tr>\n",
       "      <th>4</th>\n",
       "      <td>4</td>\n",
       "      <td>24.59</td>\n",
       "      <td>0</td>\n",
       "      <td>0</td>\n",
       "      <td>0</td>\n",
       "      <td>1</td>\n",
       "      <td>0</td>\n",
       "      <td>1</td>\n",
       "      <td>0</td>\n",
       "      <td>1</td>\n",
       "      <td>0</td>\n",
       "      <td>1</td>\n",
       "    </tr>\n",
       "  </tbody>\n",
       "</table>\n",
       "</div>"
      ],
      "text/plain": [
       "   size  total_bill  day_Thur  day_Fri  day_Sat  day_Sun  sex_Male  \\\n",
       "0     2       16.99         0        0        0        1         0   \n",
       "1     3       10.34         0        0        0        1         1   \n",
       "2     3       21.01         0        0        0        1         1   \n",
       "3     2       23.68         0        0        0        1         1   \n",
       "4     4       24.59         0        0        0        1         0   \n",
       "\n",
       "   sex_Female  smoker_Yes  smoker_No  time_Lunch  time_Dinner  \n",
       "0           1           0          1           0            1  \n",
       "1           0           0          1           0            1  \n",
       "2           0           0          1           0            1  \n",
       "3           0           0          1           0            1  \n",
       "4           1           0          1           0            1  "
      ]
     },
     "execution_count": 23,
     "metadata": {},
     "output_type": "execute_result"
    }
   ],
   "source": [
    "one_hot_X = one_hot_encode(X)\n",
    "one_hot_X.head()"
   ]
  },
  {
   "cell_type": "markdown",
   "metadata": {},
   "source": [
    "## Activity 4.3: Defining the Model\n",
    "Now that all of our data is numeric, let's define our model function. Note that X and thetas are matrices now. Use matrix products to compute the model."
   ]
  },
  {
   "cell_type": "code",
   "execution_count": 24,
   "metadata": {},
   "outputs": [],
   "source": [
    "def linear_model(thetas, X):\n",
    "    \"\"\"\n",
    "    Return the linear combination of thetas and features as defined above.\n",
    "    \"\"\"\n",
    "    ### BEGIN SOLUTION\n",
    "    \n",
    "    ### END SOLUTION"
   ]
  },
  {
   "cell_type": "code",
   "execution_count": 25,
   "metadata": {},
   "outputs": [],
   "source": [
    "assert linear_model(np.arange(1,5), np.arange(1,5)) == 30"
   ]
  },
  {
   "cell_type": "markdown",
   "metadata": {},
   "source": [
    "## Activity 4.4: Fitting the Model: Numerical Methods\n",
    "Recall in the lectures and in labs, we defined multiple loss functions and found optimal theta using the scipy.minimize function. Adapt the loss functions and optimization code from the previous lab (provided below) to work with your new linear model."
   ]
  },
  {
   "cell_type": "code",
   "execution_count": 26,
   "metadata": {},
   "outputs": [
    {
     "data": {
      "text/plain": [
       "array([0.1759912 , 0.09448701, 0.0151997 , 0.17746083, 0.05600931,\n",
       "       0.15199329, 0.1841108 , 0.2165523 , 0.15712756, 0.24353555,\n",
       "       0.23440131, 0.16626171])"
      ]
     },
     "execution_count": 26,
     "metadata": {},
     "output_type": "execute_result"
    }
   ],
   "source": [
    "from scipy.optimize import minimize\n",
    "\n",
    "def abserror(y, y_hat):\n",
    "    return np.abs(y-y_hat)\n",
    "\n",
    "def sqerror(y, y_hat):\n",
    "    return (y - y_hat)**2\n",
    "\n",
    "def minimize_average_loss(loss_function, model, x, y):\n",
    "    \"\"\"\n",
    "    loss_function: either the squared or absolute loss functions from above.\n",
    "    model: the model (as defined above)\n",
    "    x: the x values (one-hot encoded data)\n",
    "    y: the y values (tip amounts)\n",
    "    return the estimate for each theta as a vector\n",
    "    \n",
    "    Note we will ignore failed convergence for this lab ... \n",
    "    \"\"\"\n",
    "    \n",
    "    ## Notes on the following function call which you need to finish:\n",
    "    # \n",
    "    # 0. the ... should be replaced with the average loss evaluated on \n",
    "    #       the data x, y using the model and appropriate loss function\n",
    "    # 1. x0 are the initial values for THETA.  Yes, this is confusing\n",
    "    #       but optimization people like x to be the thing they are \n",
    "    #       optimizing.\n",
    "    # 2. We extract the 'x' entry in the dictionary which corresponds\n",
    "    #       to the value of thetas at the optimum\n",
    "    ### BEGIN SOLUTION\n",
    "    \n",
    "    ### END SOLUTION\n",
    "\n",
    "minimize_average_loss(sqerror, linear_model, one_hot_X, tips)"
   ]
  },
  {
   "cell_type": "markdown",
   "metadata": {},
   "source": [
    "## Activity 4.5: Fitting the Model: Analytical Methods\n",
    "Let's also fit our model analytically, for the L2 loss function. In this question we will derive an analytical solution, fit our model and compare our results with our numerical optimization results."
   ]
  },
  {
   "cell_type": "markdown",
   "metadata": {},
   "source": [
    "### 4.5.1: Least Squares Solution\n",
    "Recall that if we're fitting a linear model with the l2 loss function, we are performing least squares! Remember, we are solving the following optimization problem for least squares:\n",
    "\n",
    "$$\\min_{\\theta} ||X\\theta - y||^2$$\n",
    "\n",
    "Let's begin by deriving the analytic solution to least squares. Write your answer in LaTeX in the cell below. Assume X is full column rank."
   ]
  },
  {
   "cell_type": "markdown",
   "metadata": {},
   "source": [
    "***BEGIN SOLUTION***\n",
    "\n",
    "$$ $$\n",
    "$$ $$\n",
    "$$ $$\n",
    "$$ $$\n",
    "***END SOLUTION***"
   ]
  },
  {
   "cell_type": "markdown",
   "metadata": {},
   "source": [
    "### 4.5.2: Solving for Theta\n",
    "Now that we have the analytic solution for $\\theta$, let's find the optimal numerical thetas for our tips dataset. Fill out the function below. Make sure you use the float type in your calculations using .astype(float) and use the np.linalg.inv function."
   ]
  },
  {
   "cell_type": "code",
   "execution_count": 27,
   "metadata": {},
   "outputs": [],
   "source": [
    "def get_analytical(x, y):\n",
    "    \"\"\"\n",
    "    x: our one-hot encoded dataset\n",
    "    y: tip amounts\n",
    "    \"\"\"\n",
    "    ### BEGIN SOLUTION\n",
    "    \n",
    "    ### END SOLUTION"
   ]
  },
  {
   "cell_type": "code",
   "execution_count": 28,
   "metadata": {},
   "outputs": [
    {
     "name": "stdout",
     "output_type": "stream",
     "text": [
      "Our analytical loss is:  454.4537426229509\n",
      "Our numerical loss is:  1.010353561236703\n"
     ]
    }
   ],
   "source": [
    "analytical_thetas = get_analytical(one_hot_X.astype(float), tips.astype(float))\n",
    "print(\"Our analytical loss is: \", sqerror(linear_model(analytical_thetas, one_hot_X),tips).mean())\n",
    "print(\"Our numerical loss is: \", sqerror(linear_model(minimize_average_loss(sqerror, linear_model, one_hot_X, tips), one_hot_X), tips).mean())"
   ]
  },
  {
   "cell_type": "markdown",
   "metadata": {},
   "source": [
    "## Activity 4.5.3 Compare Analytical and Numerical Loss\n",
    "Our analytical loss is surprisingly much worse than our numerical loss. Why is this? Explain below.\n",
    "\n",
    "Hint: https://stackoverflow.com/questions/31256252/why-does-numpy-linalg-solve-offer-more-precise-matrix-inversions-than-numpy-li"
   ]
  },
  {
   "cell_type": "markdown",
   "metadata": {},
   "source": [
    "### BEGIN SOLUTION\n",
    "\n",
    "\n",
    "### END SOLUTION"
   ]
  },
  {
   "cell_type": "markdown",
   "metadata": {},
   "source": [
    "### Feedback\n",
    "Please provide feedback on this lab.\n",
    "* how would you rate this lab (from 1-10, 10-highest) :\n",
    "* how can we improve his lab? :"
   ]
  },
  {
   "cell_type": "markdown",
   "metadata": {},
   "source": [
    "<div class=\"alert alert-block alert-info\">\n",
    "<h2>Submission Instructions</h2> \n",
    "<b> File Name:</b> Please name the file as your_section_your_netID_lab6.jpynb<br>\n",
    "<b> Submit To: </b> Canvas &rarr; Assignments &rarr; lab6 <br>\n",
    "<b>Warning:</b> Failure to follow directions may result in loss points.<br>\n",
    "</div>"
   ]
  },
  {
   "cell_type": "markdown",
   "metadata": {},
   "source": [
    "Lab Developed by A.D. Gunawardena @ 2019-2021"
   ]
  }
 ],
 "metadata": {
  "kernelspec": {
   "display_name": "Python 3 (ipykernel)",
   "language": "python",
   "name": "python3"
  },
  "language_info": {
   "codemirror_mode": {
    "name": "ipython",
    "version": 3
   },
   "file_extension": ".py",
   "mimetype": "text/x-python",
   "name": "python",
   "nbconvert_exporter": "python",
   "pygments_lexer": "ipython3",
   "version": "3.9.7"
  }
 },
 "nbformat": 4,
 "nbformat_minor": 2
}
