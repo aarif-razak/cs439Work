{
 "cells": [
  {
   "cell_type": "code",
   "execution_count": 3,
   "metadata": {},
   "outputs": [],
   "source": [
    "import numpy as np\n",
    "import pandas as pd\n",
    "import matplotlib as plt"
   ]
  },
  {
   "cell_type": "code",
   "execution_count": 6,
   "metadata": {},
   "outputs": [],
   "source": [
    "#grab from canvas for section 2\n",
    "#image stuff\n",
    "\n",
    "\n",
    "#helper function to convert rgb image to greyscale\n",
    "#formula to convert image = Y' = 0.2989 R + 0.5870 G + 0.1140 B \n",
    "\n",
    "def rgb2gray(rgb):\n",
    "    return np.dot(rgb[...,:3], [0.2989, 0.5870, 0.1140])\n",
    "\n",
    "#implmentation\n",
    "\n",
    "#[...,:3] is the same as indiviudally grabbing\n",
    "\n",
    "#img_gray = rgb2gray(img)\n",
    "#img_re = np.zeroes(img.shape)\n",
    "#img_re[:,:,0] = img_gray\n",
    "#img_re[:,:,1] = img_grey\n",
    "#img_re[:,:,2] = img_grey\n",
    "#img_re = img_re.astype(int)\n",
    "#plt.imshow(img_re)\n",
    "\n"
   ]
  },
  {
   "cell_type": "code",
   "execution_count": null,
   "metadata": {},
   "outputs": [],
   "source": [
    "#svd stuff\n",
    "#using scipy library\n",
    "U, s, VH = scipy.linalg.svd(img_gray, full_matirices=True)\n",
    "\n",
    "#print(U.shape) = (337,337)\n",
    "#print(s.shape) = (337,) #This will hold your eigenvalues along your matrix, in the diagonal components\n",
    "#print(Vh.shape) = (600,600)\n",
    "\n"
   ]
  }
 ],
 "metadata": {
  "kernelspec": {
   "display_name": "Python 3",
   "language": "python",
   "name": "python3"
  },
  "language_info": {
   "codemirror_mode": {
    "name": "ipython",
    "version": 3
   },
   "file_extension": ".py",
   "mimetype": "text/x-python",
   "name": "python",
   "nbconvert_exporter": "python",
   "pygments_lexer": "ipython3",
   "version": "3.8.3"
  }
 },
 "nbformat": 4,
 "nbformat_minor": 4
}
