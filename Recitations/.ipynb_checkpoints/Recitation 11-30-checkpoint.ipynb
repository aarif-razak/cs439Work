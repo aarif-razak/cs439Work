{
 "cells": [
  {
   "cell_type": "code",
   "execution_count": 16,
   "metadata": {},
   "outputs": [],
   "source": [
    "from sklearn import datasets\n",
    "from sklearn.model_selection import train_test_split\n",
    "import numpy as np"
   ]
  },
  {
   "cell_type": "code",
   "execution_count": 11,
   "metadata": {},
   "outputs": [],
   "source": [
    "iris = datasets.load_iris()\n",
    "x = iris.data[:,:2]\n",
    "y = (iris.target!=0)*1 #turns them into 0s and 1s instead of bools"
   ]
  },
  {
   "cell_type": "code",
   "execution_count": 13,
   "metadata": {},
   "outputs": [],
   "source": [
    "#split the dataset\n",
    "x_train, x_test, y_train, y_test= train_test_split(x,y)"
   ]
  },
  {
   "cell_type": "code",
   "execution_count": 17,
   "metadata": {},
   "outputs": [],
   "source": [
    "class LogisticRegression:\n",
    "    def __init__(self, lr = 0.01, num_iter = 3000):\n",
    "        self.lr = lr\n",
    "        self.num_iter = num_iter\n",
    "    def add_intercept(self, X):\n",
    "        #will add the first column in the data matrix\n",
    "        intercept = np.ones((X.shape[0],1))\n",
    "        return np.concatenate((intercept,X), axis = 1)#new dataset where this intercept is along column\n",
    "    def sigmoid(self, z):\n",
    "        return 1/(1+ np.exp(-z))\n",
    "    def loss(self, h, y):\n",
    "        #h is the prediected vector (vector of predictions)\n",
    "        #y is the actual value\n",
    "        return (-y*np.log(h) - (1-y)*np.log(1-h)).mean() #returns a single value\n",
    "    def fit(self, X, y):\n",
    "        #train the model\n",
    "        X = self.add_intercept(X) #add column of 1s\n",
    "        self.theta = np.random.rand((X.shape[1],1)) #\n",
    "        \n",
    "        for i in range(self.num_iter):\n",
    "            z = np.dot(X, self.theta) \n",
    "            h = self.sigmoid(z) #h will be hte predictor vector. Each vector will be the probibility\n",
    "            gradient = np.dot(X.T, (h-y))/y.shape() \n",
    "            self.theta = self.theta - self.lr * gradient\n",
    "            \n",
    "            print(f'loss: {self.loss(h,y)} \\t')\n",
    "            \n",
    "    def predict_prob(self,X):\n",
    "        X = self.add_intercept(X)\n",
    "        return self.sigmoid(np.dot(X. self.theta)) #give us the probability vector (vector of predictions) for any dataset X\n",
    "    def predict(self, X, threshold = 0.5):\n",
    "        return self.predict_prob(X) >= threshold\n",
    "        "
   ]
  },
  {
   "cell_type": "code",
   "execution_count": null,
   "metadata": {},
   "outputs": [],
   "source": [
    "model = LogisticRegression(lr = 0.1, num_iter = 3000)\n",
    "model.fit(x_train, y_train)\n",
    "predictions = model.predict(x_test)\n",
    "#accuracy\n",
    "(pred == y_test).mean()"
   ]
  }
 ],
 "metadata": {
  "kernelspec": {
   "display_name": "Python 3",
   "language": "python",
   "name": "python3"
  },
  "language_info": {
   "codemirror_mode": {
    "name": "ipython",
    "version": 3
   },
   "file_extension": ".py",
   "mimetype": "text/x-python",
   "name": "python",
   "nbconvert_exporter": "python",
   "pygments_lexer": "ipython3",
   "version": "3.8.3"
  }
 },
 "nbformat": 4,
 "nbformat_minor": 4
}
