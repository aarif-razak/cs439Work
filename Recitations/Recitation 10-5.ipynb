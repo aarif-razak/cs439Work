{
 "cells": [
  {
   "cell_type": "code",
   "execution_count": 1,
   "metadata": {},
   "outputs": [
    {
     "name": "stdout",
     "output_type": "stream",
     "text": [
      "Using version already downloaded: Tue Oct  5 11:13:54 2021\n",
      "MD5 hash of file: 30091a4d5ba8ef9a288668d0e469774c\n"
     ]
    }
   ],
   "source": [
    "import pandas as pd\n",
    "import utils\n",
    "data_dir = 'data'\n",
    "data_url= 'https://covid.ourworldindata.org/data/owid-covid-data.csv'\n",
    "filename = 'owid-covid-data.csv'\n",
    "dest_path = utils.fetch_and_cache(data_url = data_url, file = filename, data_dir = data_dir)\n",
    "\n",
    "#file = pd.read_csv(filename)"
   ]
  },
  {
   "cell_type": "code",
   "execution_count": 2,
   "metadata": {},
   "outputs": [
    {
     "name": "stdout",
     "output_type": "stream",
     "text": [
      "os.stat_result(st_mode=33206, st_ino=31806672368399542, st_dev=981754047, st_nlink=1, st_uid=0, st_gid=0, st_size=33214847, st_atime=1633447344, st_mtime=1633446834, st_ctime=1633446834)\n"
     ]
    }
   ],
   "source": [
    "import os\n",
    "size = os.stat('data/owid-covid-data.csv')\n",
    "print(size)"
   ]
  },
  {
   "cell_type": "code",
   "execution_count": 3,
   "metadata": {},
   "outputs": [
    {
     "name": "stdout",
     "output_type": "stream",
     "text": [
      "os.stat_result(st_mode=33206, st_ino=31806672368399542, st_dev=981754047, st_nlink=1, st_uid=0, st_gid=0, st_size=33214847, st_atime=1633447344, st_mtime=1633446834, st_ctime=1633446834)\n",
      "33214847\n"
     ]
    }
   ],
   "source": [
    "import pathlib\n",
    "size= pathlib.Path('data/owid-covid-data.csv').stat()\n",
    "print(size)\n",
    "print(size[6])"
   ]
  },
  {
   "cell_type": "code",
   "execution_count": 4,
   "metadata": {},
   "outputs": [
    {
     "name": "stdout",
     "output_type": "stream",
     "text": [
      "[4, 7, 10]\n"
     ]
    }
   ],
   "source": [
    "import itertools\n",
    "from itertools import islice\n",
    "\n",
    "li = [2,4,5,7,8,10,20]\n",
    "print(list(itertools.islice(li,1,6,2)))"
   ]
  },
  {
   "cell_type": "code",
   "execution_count": 10,
   "metadata": {},
   "outputs": [
    {
     "name": "stdout",
     "output_type": "stream",
     "text": [
      "121248\n"
     ]
    }
   ],
   "source": [
    "import utils\n",
    "from utils import *\n",
    "import numpy as np\n",
    "\n",
    "line_num = line_count('data/owid-covid-data.csv')\n",
    "print(line_num)\n",
    "\n",
    "sub_line_num = int(np.ceil(float(line_num)/10)) #calcuating how many lines each group should contain if we have 10 groups\n",
    "\n",
    "filename = 'data/owid-covid-data.csv'\n",
    "for i in range(10):\n",
    "    with open(filename, 'r') as f:\n",
    "        fw = open('data/owid-covid-data_%d.csv' %(i+1), 'w') #this is indicating the new files\n",
    "        #group0: [0, sub_line_num]\n",
    "        #group1: [sub_line_num, sub_line_num*2]\n",
    "        sliced_f = itertools.islice(f, i*sub_line_num, min((i+1)*sub_line_num, line_num))\n",
    "        \n",
    "        for line in sliced_f: #for each line were writing it into a new file\n",
    "            fw.write(line)"
   ]
  },
  {
   "cell_type": "code",
   "execution_count": 11,
   "metadata": {},
   "outputs": [
    {
     "name": "stdout",
     "output_type": "stream",
     "text": [
      "['iso_code,continent,location,date,total_cases,new_cases,new_cases_smoothed,total_deaths,new_deaths,new_deaths_smoothed,total_cases_per_million,new_cases_per_million,new_cases_smoothed_per_million,total_deaths_per_million,new_deaths_per_million,new_deaths_smoothed_per_million,reproduction_rate,icu_patients,icu_patients_per_million,hosp_patients,hosp_patients_per_million,weekly_icu_admissions,weekly_icu_admissions_per_million,weekly_hosp_admissions,weekly_hosp_admissions_per_million,new_tests,total_tests,total_tests_per_thousand,new_tests_per_thousand,new_tests_smoothed,new_tests_smoothed_per_thousand,positive_rate,tests_per_case,tests_units,total_vaccinations,people_vaccinated,people_fully_vaccinated,total_boosters,new_vaccinations,new_vaccinations_smoothed,total_vaccinations_per_hundred,people_vaccinated_per_hundred,people_fully_vaccinated_per_hundred,total_boosters_per_hundred,new_vaccinations_smoothed_per_million,stringency_index,population,population_density,median_age,aged_65_older,aged_70_older,gdp_per_capita,extreme_poverty,cardiovasc_death_rate,diabetes_prevalence,female_smokers,male_smokers,handwashing_facilities,hospital_beds_per_thousand,life_expectancy,human_development_index,excess_mortality_cumulative_absolute,excess_mortality_cumulative,excess_mortality,excess_mortality_cumulative_per_million\\n', 'AFG,Asia,Afghanistan,2020-02-24,5.0,5.0,,,,,0.126,0.126,,,,,,,,,,,,,,,,,,,,,,,,,,,,,,,,,,8.33,39835428.0,54.422,18.6,2.581,1.337,1803.987,,597.029,9.59,,,37.746,0.5,64.83,0.511,,,,\\n', 'AFG,Asia,Afghanistan,2020-02-25,5.0,0.0,,,,,0.126,0.0,,,,,,,,,,,,,,,,,,,,,,,,,,,,,,,,,,8.33,39835428.0,54.422,18.6,2.581,1.337,1803.987,,597.029,9.59,,,37.746,0.5,64.83,0.511,,,,\\n', 'AFG,Asia,Afghanistan,2020-02-26,5.0,0.0,,,,,0.126,0.0,,,,,,,,,,,,,,,,,,,,,,,,,,,,,,,,,,8.33,39835428.0,54.422,18.6,2.581,1.337,1803.987,,597.029,9.59,,,37.746,0.5,64.83,0.511,,,,\\n', 'AFG,Asia,Afghanistan,2020-02-27,5.0,0.0,,,,,0.126,0.0,,,,,,,,,,,,,,,,,,,,,,,,,,,,,,,,,,8.33,39835428.0,54.422,18.6,2.581,1.337,1803.987,,597.029,9.59,,,37.746,0.5,64.83,0.511,,,,\\n']\n"
     ]
    }
   ],
   "source": [
    "print(head('data/owid-covid-data_1.csv')) #this is just hte column names!"
   ]
  },
  {
   "cell_type": "code",
   "execution_count": 13,
   "metadata": {},
   "outputs": [
    {
     "data": {
      "text/html": [
       "<div>\n",
       "<style scoped>\n",
       "    .dataframe tbody tr th:only-of-type {\n",
       "        vertical-align: middle;\n",
       "    }\n",
       "\n",
       "    .dataframe tbody tr th {\n",
       "        vertical-align: top;\n",
       "    }\n",
       "\n",
       "    .dataframe thead th {\n",
       "        text-align: right;\n",
       "    }\n",
       "</style>\n",
       "<table border=\"1\" class=\"dataframe\">\n",
       "  <thead>\n",
       "    <tr style=\"text-align: right;\">\n",
       "      <th></th>\n",
       "      <th>BLZ</th>\n",
       "      <th>North America</th>\n",
       "      <th>Belize</th>\n",
       "      <th>2021-07-12</th>\n",
       "      <th>13561.0</th>\n",
       "      <th>43.0</th>\n",
       "      <th>24.286</th>\n",
       "      <th>331.0</th>\n",
       "      <th>1.0</th>\n",
       "      <th>0.143</th>\n",
       "      <th>...</th>\n",
       "      <th>Unnamed: 55</th>\n",
       "      <th>Unnamed: 56</th>\n",
       "      <th>90.083</th>\n",
       "      <th>1.3</th>\n",
       "      <th>74.62</th>\n",
       "      <th>0.716</th>\n",
       "      <th>Unnamed: 61</th>\n",
       "      <th>Unnamed: 62</th>\n",
       "      <th>Unnamed: 63</th>\n",
       "      <th>Unnamed: 64</th>\n",
       "    </tr>\n",
       "  </thead>\n",
       "  <tbody>\n",
       "    <tr>\n",
       "      <th>0</th>\n",
       "      <td>BLZ</td>\n",
       "      <td>North America</td>\n",
       "      <td>Belize</td>\n",
       "      <td>2021-07-13</td>\n",
       "      <td>13587.0</td>\n",
       "      <td>26.0</td>\n",
       "      <td>25.429</td>\n",
       "      <td>331.0</td>\n",
       "      <td>0.0</td>\n",
       "      <td>0.143</td>\n",
       "      <td>...</td>\n",
       "      <td>NaN</td>\n",
       "      <td>NaN</td>\n",
       "      <td>90.083</td>\n",
       "      <td>1.3</td>\n",
       "      <td>74.62</td>\n",
       "      <td>0.716</td>\n",
       "      <td>NaN</td>\n",
       "      <td>NaN</td>\n",
       "      <td>NaN</td>\n",
       "      <td>NaN</td>\n",
       "    </tr>\n",
       "    <tr>\n",
       "      <th>1</th>\n",
       "      <td>BLZ</td>\n",
       "      <td>North America</td>\n",
       "      <td>Belize</td>\n",
       "      <td>2021-07-14</td>\n",
       "      <td>13613.0</td>\n",
       "      <td>26.0</td>\n",
       "      <td>24.143</td>\n",
       "      <td>331.0</td>\n",
       "      <td>0.0</td>\n",
       "      <td>0.143</td>\n",
       "      <td>...</td>\n",
       "      <td>NaN</td>\n",
       "      <td>NaN</td>\n",
       "      <td>90.083</td>\n",
       "      <td>1.3</td>\n",
       "      <td>74.62</td>\n",
       "      <td>0.716</td>\n",
       "      <td>NaN</td>\n",
       "      <td>NaN</td>\n",
       "      <td>NaN</td>\n",
       "      <td>NaN</td>\n",
       "    </tr>\n",
       "    <tr>\n",
       "      <th>2</th>\n",
       "      <td>BLZ</td>\n",
       "      <td>North America</td>\n",
       "      <td>Belize</td>\n",
       "      <td>2021-07-15</td>\n",
       "      <td>13644.0</td>\n",
       "      <td>31.0</td>\n",
       "      <td>24.000</td>\n",
       "      <td>332.0</td>\n",
       "      <td>1.0</td>\n",
       "      <td>0.286</td>\n",
       "      <td>...</td>\n",
       "      <td>NaN</td>\n",
       "      <td>NaN</td>\n",
       "      <td>90.083</td>\n",
       "      <td>1.3</td>\n",
       "      <td>74.62</td>\n",
       "      <td>0.716</td>\n",
       "      <td>NaN</td>\n",
       "      <td>NaN</td>\n",
       "      <td>NaN</td>\n",
       "      <td>NaN</td>\n",
       "    </tr>\n",
       "    <tr>\n",
       "      <th>3</th>\n",
       "      <td>BLZ</td>\n",
       "      <td>North America</td>\n",
       "      <td>Belize</td>\n",
       "      <td>2021-07-16</td>\n",
       "      <td>13683.0</td>\n",
       "      <td>39.0</td>\n",
       "      <td>23.571</td>\n",
       "      <td>332.0</td>\n",
       "      <td>0.0</td>\n",
       "      <td>0.286</td>\n",
       "      <td>...</td>\n",
       "      <td>NaN</td>\n",
       "      <td>NaN</td>\n",
       "      <td>90.083</td>\n",
       "      <td>1.3</td>\n",
       "      <td>74.62</td>\n",
       "      <td>0.716</td>\n",
       "      <td>NaN</td>\n",
       "      <td>NaN</td>\n",
       "      <td>NaN</td>\n",
       "      <td>NaN</td>\n",
       "    </tr>\n",
       "    <tr>\n",
       "      <th>4</th>\n",
       "      <td>BLZ</td>\n",
       "      <td>North America</td>\n",
       "      <td>Belize</td>\n",
       "      <td>2021-07-17</td>\n",
       "      <td>13683.0</td>\n",
       "      <td>0.0</td>\n",
       "      <td>23.571</td>\n",
       "      <td>332.0</td>\n",
       "      <td>0.0</td>\n",
       "      <td>0.286</td>\n",
       "      <td>...</td>\n",
       "      <td>NaN</td>\n",
       "      <td>NaN</td>\n",
       "      <td>90.083</td>\n",
       "      <td>1.3</td>\n",
       "      <td>74.62</td>\n",
       "      <td>0.716</td>\n",
       "      <td>NaN</td>\n",
       "      <td>NaN</td>\n",
       "      <td>NaN</td>\n",
       "      <td>NaN</td>\n",
       "    </tr>\n",
       "    <tr>\n",
       "      <th>...</th>\n",
       "      <td>...</td>\n",
       "      <td>...</td>\n",
       "      <td>...</td>\n",
       "      <td>...</td>\n",
       "      <td>...</td>\n",
       "      <td>...</td>\n",
       "      <td>...</td>\n",
       "      <td>...</td>\n",
       "      <td>...</td>\n",
       "      <td>...</td>\n",
       "      <td>...</td>\n",
       "      <td>...</td>\n",
       "      <td>...</td>\n",
       "      <td>...</td>\n",
       "      <td>...</td>\n",
       "      <td>...</td>\n",
       "      <td>...</td>\n",
       "      <td>...</td>\n",
       "      <td>...</td>\n",
       "      <td>...</td>\n",
       "      <td>...</td>\n",
       "    </tr>\n",
       "    <tr>\n",
       "      <th>12119</th>\n",
       "      <td>COM</td>\n",
       "      <td>Africa</td>\n",
       "      <td>Comoros</td>\n",
       "      <td>2020-11-08</td>\n",
       "      <td>563.0</td>\n",
       "      <td>0.0</td>\n",
       "      <td>2.571</td>\n",
       "      <td>7.0</td>\n",
       "      <td>0.0</td>\n",
       "      <td>0.000</td>\n",
       "      <td>...</td>\n",
       "      <td>4.4</td>\n",
       "      <td>23.6</td>\n",
       "      <td>15.574</td>\n",
       "      <td>2.2</td>\n",
       "      <td>64.32</td>\n",
       "      <td>0.554</td>\n",
       "      <td>NaN</td>\n",
       "      <td>NaN</td>\n",
       "      <td>NaN</td>\n",
       "      <td>NaN</td>\n",
       "    </tr>\n",
       "    <tr>\n",
       "      <th>12120</th>\n",
       "      <td>COM</td>\n",
       "      <td>Africa</td>\n",
       "      <td>Comoros</td>\n",
       "      <td>2020-11-09</td>\n",
       "      <td>563.0</td>\n",
       "      <td>0.0</td>\n",
       "      <td>2.571</td>\n",
       "      <td>7.0</td>\n",
       "      <td>0.0</td>\n",
       "      <td>0.000</td>\n",
       "      <td>...</td>\n",
       "      <td>4.4</td>\n",
       "      <td>23.6</td>\n",
       "      <td>15.574</td>\n",
       "      <td>2.2</td>\n",
       "      <td>64.32</td>\n",
       "      <td>0.554</td>\n",
       "      <td>NaN</td>\n",
       "      <td>NaN</td>\n",
       "      <td>NaN</td>\n",
       "      <td>NaN</td>\n",
       "    </tr>\n",
       "    <tr>\n",
       "      <th>12121</th>\n",
       "      <td>COM</td>\n",
       "      <td>Africa</td>\n",
       "      <td>Comoros</td>\n",
       "      <td>2020-11-10</td>\n",
       "      <td>569.0</td>\n",
       "      <td>6.0</td>\n",
       "      <td>3.429</td>\n",
       "      <td>7.0</td>\n",
       "      <td>0.0</td>\n",
       "      <td>0.000</td>\n",
       "      <td>...</td>\n",
       "      <td>4.4</td>\n",
       "      <td>23.6</td>\n",
       "      <td>15.574</td>\n",
       "      <td>2.2</td>\n",
       "      <td>64.32</td>\n",
       "      <td>0.554</td>\n",
       "      <td>NaN</td>\n",
       "      <td>NaN</td>\n",
       "      <td>NaN</td>\n",
       "      <td>NaN</td>\n",
       "    </tr>\n",
       "    <tr>\n",
       "      <th>12122</th>\n",
       "      <td>COM</td>\n",
       "      <td>Africa</td>\n",
       "      <td>Comoros</td>\n",
       "      <td>2020-11-11</td>\n",
       "      <td>569.0</td>\n",
       "      <td>0.0</td>\n",
       "      <td>2.143</td>\n",
       "      <td>7.0</td>\n",
       "      <td>0.0</td>\n",
       "      <td>0.000</td>\n",
       "      <td>...</td>\n",
       "      <td>4.4</td>\n",
       "      <td>23.6</td>\n",
       "      <td>15.574</td>\n",
       "      <td>2.2</td>\n",
       "      <td>64.32</td>\n",
       "      <td>0.554</td>\n",
       "      <td>NaN</td>\n",
       "      <td>NaN</td>\n",
       "      <td>NaN</td>\n",
       "      <td>NaN</td>\n",
       "    </tr>\n",
       "    <tr>\n",
       "      <th>12123</th>\n",
       "      <td>COM</td>\n",
       "      <td>Africa</td>\n",
       "      <td>Comoros</td>\n",
       "      <td>2020-11-12</td>\n",
       "      <td>574.0</td>\n",
       "      <td>5.0</td>\n",
       "      <td>2.429</td>\n",
       "      <td>7.0</td>\n",
       "      <td>0.0</td>\n",
       "      <td>0.000</td>\n",
       "      <td>...</td>\n",
       "      <td>4.4</td>\n",
       "      <td>23.6</td>\n",
       "      <td>15.574</td>\n",
       "      <td>2.2</td>\n",
       "      <td>64.32</td>\n",
       "      <td>0.554</td>\n",
       "      <td>NaN</td>\n",
       "      <td>NaN</td>\n",
       "      <td>NaN</td>\n",
       "      <td>NaN</td>\n",
       "    </tr>\n",
       "  </tbody>\n",
       "</table>\n",
       "<p>12124 rows × 65 columns</p>\n",
       "</div>"
      ],
      "text/plain": [
       "       BLZ  North America   Belize  2021-07-12  13561.0  43.0  24.286  331.0  \\\n",
       "0      BLZ  North America   Belize  2021-07-13  13587.0  26.0  25.429  331.0   \n",
       "1      BLZ  North America   Belize  2021-07-14  13613.0  26.0  24.143  331.0   \n",
       "2      BLZ  North America   Belize  2021-07-15  13644.0  31.0  24.000  332.0   \n",
       "3      BLZ  North America   Belize  2021-07-16  13683.0  39.0  23.571  332.0   \n",
       "4      BLZ  North America   Belize  2021-07-17  13683.0   0.0  23.571  332.0   \n",
       "...    ...            ...      ...         ...      ...   ...     ...    ...   \n",
       "12119  COM         Africa  Comoros  2020-11-08    563.0   0.0   2.571    7.0   \n",
       "12120  COM         Africa  Comoros  2020-11-09    563.0   0.0   2.571    7.0   \n",
       "12121  COM         Africa  Comoros  2020-11-10    569.0   6.0   3.429    7.0   \n",
       "12122  COM         Africa  Comoros  2020-11-11    569.0   0.0   2.143    7.0   \n",
       "12123  COM         Africa  Comoros  2020-11-12    574.0   5.0   2.429    7.0   \n",
       "\n",
       "       1.0  0.143  ...  Unnamed: 55  Unnamed: 56  90.083  1.3  74.62  0.716  \\\n",
       "0      0.0  0.143  ...          NaN          NaN  90.083  1.3  74.62  0.716   \n",
       "1      0.0  0.143  ...          NaN          NaN  90.083  1.3  74.62  0.716   \n",
       "2      1.0  0.286  ...          NaN          NaN  90.083  1.3  74.62  0.716   \n",
       "3      0.0  0.286  ...          NaN          NaN  90.083  1.3  74.62  0.716   \n",
       "4      0.0  0.286  ...          NaN          NaN  90.083  1.3  74.62  0.716   \n",
       "...    ...    ...  ...          ...          ...     ...  ...    ...    ...   \n",
       "12119  0.0  0.000  ...          4.4         23.6  15.574  2.2  64.32  0.554   \n",
       "12120  0.0  0.000  ...          4.4         23.6  15.574  2.2  64.32  0.554   \n",
       "12121  0.0  0.000  ...          4.4         23.6  15.574  2.2  64.32  0.554   \n",
       "12122  0.0  0.000  ...          4.4         23.6  15.574  2.2  64.32  0.554   \n",
       "12123  0.0  0.000  ...          4.4         23.6  15.574  2.2  64.32  0.554   \n",
       "\n",
       "       Unnamed: 61  Unnamed: 62  Unnamed: 63  Unnamed: 64  \n",
       "0              NaN          NaN          NaN          NaN  \n",
       "1              NaN          NaN          NaN          NaN  \n",
       "2              NaN          NaN          NaN          NaN  \n",
       "3              NaN          NaN          NaN          NaN  \n",
       "4              NaN          NaN          NaN          NaN  \n",
       "...            ...          ...          ...          ...  \n",
       "12119          NaN          NaN          NaN          NaN  \n",
       "12120          NaN          NaN          NaN          NaN  \n",
       "12121          NaN          NaN          NaN          NaN  \n",
       "12122          NaN          NaN          NaN          NaN  \n",
       "12123          NaN          NaN          NaN          NaN  \n",
       "\n",
       "[12124 rows x 65 columns]"
      ]
     },
     "metadata": {},
     "output_type": "display_data"
    }
   ],
   "source": [
    "calls = pd.read_csv('data/owid-covid-data_2.csv')\n",
    "display(calls) #column names are gibberish, we want the real column names present!"
   ]
  },
  {
   "cell_type": "code",
   "execution_count": 14,
   "metadata": {},
   "outputs": [
    {
     "name": "stdout",
     "output_type": "stream",
     "text": [
      "iso_code,continent,location,date,total_cases,new_cases,new_cases_smoothed,total_deaths,new_deaths,new_deaths_smoothed,total_cases_per_million,new_cases_per_million,new_cases_smoothed_per_million,total_deaths_per_million,new_deaths_per_million,new_deaths_smoothed_per_million,reproduction_rate,icu_patients,icu_patients_per_million,hosp_patients,hosp_patients_per_million,weekly_icu_admissions,weekly_icu_admissions_per_million,weekly_hosp_admissions,weekly_hosp_admissions_per_million,new_tests,total_tests,total_tests_per_thousand,new_tests_per_thousand,new_tests_smoothed,new_tests_smoothed_per_thousand,positive_rate,tests_per_case,tests_units,total_vaccinations,people_vaccinated,people_fully_vaccinated,total_boosters,new_vaccinations,new_vaccinations_smoothed,total_vaccinations_per_hundred,people_vaccinated_per_hundred,people_fully_vaccinated_per_hundred,total_boosters_per_hundred,new_vaccinations_smoothed_per_million,stringency_index,population,population_density,median_age,aged_65_older,aged_70_older,gdp_per_capita,extreme_poverty,cardiovasc_death_rate,diabetes_prevalence,female_smokers,male_smokers,handwashing_facilities,hospital_beds_per_thousand,life_expectancy,human_development_index,excess_mortality_cumulative_absolute,excess_mortality_cumulative,excess_mortality,excess_mortality_cumulative_per_million\n",
      "\n"
     ]
    }
   ],
   "source": [
    "with open(filename, 'r') as f:\n",
    "    csv_header = list(itertools.islice(f,1 ))[0] #first line, and then grab the csv headers\n",
    "print(csv_header)"
   ]
  },
  {
   "cell_type": "code",
   "execution_count": 17,
   "metadata": {},
   "outputs": [],
   "source": [
    "for i in range(10):\n",
    "    with open(filename, 'r') as f:\n",
    "        #Now we add teh column headers to the top of or other files\n",
    "        fw = open('data/owid-covid-data_%d.csv' %(i+1), 'w')\n",
    "        sliced_f = itertools.islice(f, i*sub_line_num, min((i+1)*sub_line_num, line_num))\n",
    "        if i > 0:\n",
    "            fw.write(csv_header) #write hte csv header, then add the other lines\n",
    "        for line in sliced_f:\n",
    "            fw.write(line)"
   ]
  },
  {
   "cell_type": "code",
   "execution_count": null,
   "metadata": {},
   "outputs": [],
   "source": []
  },
  {
   "cell_type": "code",
   "execution_count": null,
   "metadata": {},
   "outputs": [],
   "source": []
  },
  {
   "cell_type": "code",
   "execution_count": 19,
   "metadata": {},
   "outputs": [],
   "source": [
    "#computer sales kernal density function\n",
    "import numpy as py\n",
    "import matplotlib as plt\n",
    "import seaborn as sns\n",
    "plt.style.use('fivethirtyeight')\n",
    "sns.set()\n",
    "sns.set_context('talk')\n",
    "%matplotlib inline"
   ]
  },
  {
   "cell_type": "code",
   "execution_count": 20,
   "metadata": {},
   "outputs": [],
   "source": [
    "df = pd.read_csv('ComputerSales.csv')"
   ]
  },
  {
   "cell_type": "code",
   "execution_count": 21,
   "metadata": {},
   "outputs": [
    {
     "data": {
      "text/html": [
       "<div>\n",
       "<style scoped>\n",
       "    .dataframe tbody tr th:only-of-type {\n",
       "        vertical-align: middle;\n",
       "    }\n",
       "\n",
       "    .dataframe tbody tr th {\n",
       "        vertical-align: top;\n",
       "    }\n",
       "\n",
       "    .dataframe thead th {\n",
       "        text-align: right;\n",
       "    }\n",
       "</style>\n",
       "<table border=\"1\" class=\"dataframe\">\n",
       "  <thead>\n",
       "    <tr style=\"text-align: right;\">\n",
       "      <th></th>\n",
       "      <th>Sale ID</th>\n",
       "      <th>Contact</th>\n",
       "      <th>Sex</th>\n",
       "      <th>Age</th>\n",
       "      <th>State</th>\n",
       "      <th>Product ID</th>\n",
       "      <th>Product Type</th>\n",
       "      <th>Sale Price</th>\n",
       "      <th>Profit</th>\n",
       "      <th>Lead</th>\n",
       "      <th>Month</th>\n",
       "      <th>Year</th>\n",
       "    </tr>\n",
       "  </thead>\n",
       "  <tbody>\n",
       "    <tr>\n",
       "      <th>0</th>\n",
       "      <td>1</td>\n",
       "      <td>Paul Thomas</td>\n",
       "      <td>M</td>\n",
       "      <td>43</td>\n",
       "      <td>OH</td>\n",
       "      <td>M01-F0024</td>\n",
       "      <td>Desktop</td>\n",
       "      <td>479.99</td>\n",
       "      <td>143.39</td>\n",
       "      <td>Website</td>\n",
       "      <td>January</td>\n",
       "      <td>2018</td>\n",
       "    </tr>\n",
       "    <tr>\n",
       "      <th>1</th>\n",
       "      <td>2</td>\n",
       "      <td>Margo Simms</td>\n",
       "      <td>F</td>\n",
       "      <td>37</td>\n",
       "      <td>WV</td>\n",
       "      <td>GT13-0024</td>\n",
       "      <td>Desktop</td>\n",
       "      <td>1249.99</td>\n",
       "      <td>230.89</td>\n",
       "      <td>Flyer 4</td>\n",
       "      <td>January</td>\n",
       "      <td>2018</td>\n",
       "    </tr>\n",
       "    <tr>\n",
       "      <th>2</th>\n",
       "      <td>3</td>\n",
       "      <td>Sam Stine</td>\n",
       "      <td>M</td>\n",
       "      <td>26</td>\n",
       "      <td>PA</td>\n",
       "      <td>I3670</td>\n",
       "      <td>Desktop</td>\n",
       "      <td>649.99</td>\n",
       "      <td>118.64</td>\n",
       "      <td>Website</td>\n",
       "      <td>February</td>\n",
       "      <td>2018</td>\n",
       "    </tr>\n",
       "    <tr>\n",
       "      <th>3</th>\n",
       "      <td>4</td>\n",
       "      <td>Moe Eggert</td>\n",
       "      <td>M</td>\n",
       "      <td>35</td>\n",
       "      <td>PA</td>\n",
       "      <td>I3593</td>\n",
       "      <td>Laptop</td>\n",
       "      <td>399.99</td>\n",
       "      <td>72.09</td>\n",
       "      <td>Website</td>\n",
       "      <td>March</td>\n",
       "      <td>2018</td>\n",
       "    </tr>\n",
       "    <tr>\n",
       "      <th>4</th>\n",
       "      <td>5</td>\n",
       "      <td>Jessica Elk</td>\n",
       "      <td>F</td>\n",
       "      <td>55</td>\n",
       "      <td>PA</td>\n",
       "      <td>15M-ED</td>\n",
       "      <td>Laptop</td>\n",
       "      <td>699.99</td>\n",
       "      <td>98.09</td>\n",
       "      <td>Flyer 4</td>\n",
       "      <td>March</td>\n",
       "      <td>2018</td>\n",
       "    </tr>\n",
       "  </tbody>\n",
       "</table>\n",
       "</div>"
      ],
      "text/plain": [
       "   Sale ID      Contact Sex  Age State Product ID Product Type  Sale Price  \\\n",
       "0        1  Paul Thomas   M   43    OH  M01-F0024      Desktop      479.99   \n",
       "1        2  Margo Simms   F   37    WV  GT13-0024      Desktop     1249.99   \n",
       "2        3    Sam Stine   M   26    PA      I3670      Desktop      649.99   \n",
       "3        4   Moe Eggert   M   35    PA      I3593       Laptop      399.99   \n",
       "4        5  Jessica Elk   F   55    PA     15M-ED       Laptop      699.99   \n",
       "\n",
       "   Profit     Lead     Month  Year  \n",
       "0  143.39  Website   January  2018  \n",
       "1  230.89  Flyer 4   January  2018  \n",
       "2  118.64  Website  February  2018  \n",
       "3   72.09  Website     March  2018  \n",
       "4   98.09  Flyer 4     March  2018  "
      ]
     },
     "execution_count": 21,
     "metadata": {},
     "output_type": "execute_result"
    }
   ],
   "source": [
    "df.head()"
   ]
  },
  {
   "cell_type": "code",
   "execution_count": 22,
   "metadata": {},
   "outputs": [
    {
     "data": {
      "text/plain": [
       "Text(0.5, 1.0, ' Count of each age')"
      ]
     },
     "execution_count": 22,
     "metadata": {},
     "output_type": "execute_result"
    },
    {
     "data": {
      "image/png": "[encoded data removed]",
      "text/plain": [
       "<Figure size 432x288 with 1 Axes>"
      ]
     },
     "metadata": {
      "needs_background": "light"
     },
     "output_type": "display_data"
    }
   ],
   "source": [
    "#plot histogram by the age column\n",
    "\n",
    "#plt.figure(figsize = (15,5))\n",
    "ax = sns.distplot(df['Age'], kde = False)\n",
    "ax.set_xlabel('AGE')\n",
    "ax.set_ylabel('Counts')\n",
    "ax.set_title(' Count of each age')"
   ]
  },
  {
   "cell_type": "code",
   "execution_count": 23,
   "metadata": {},
   "outputs": [
    {
     "data": {
      "text/plain": [
       "23    3\n",
       "26    1\n",
       "35    3\n",
       "37    2\n",
       "43    2\n",
       "45    3\n",
       "46    6\n",
       "49    4\n",
       "51    3\n",
       "52    2\n",
       "54    2\n",
       "55    2\n",
       "56    3\n",
       "57    3\n",
       "Name: Age, dtype: int64"
      ]
     },
     "execution_count": 23,
     "metadata": {},
     "output_type": "execute_result"
    }
   ],
   "source": [
    "df['Age'].value_counts().sort_index()"
   ]
  },
  {
   "cell_type": "code",
   "execution_count": 25,
   "metadata": {},
   "outputs": [
    {
     "data": {
      "text/plain": [
       "Text(0.5, 1.0, ' Count of each price')"
      ]
     },
     "execution_count": 25,
     "metadata": {},
     "output_type": "execute_result"
    },
    {
     "data": {
      "image/png": "[encoded data removed]",
      "text/plain": [
       "<Figure size 432x288 with 2 Axes>"
      ]
     },
     "metadata": {
      "needs_background": "light"
     },
     "output_type": "display_data"
    }
   ],
   "source": [
    "#plot histogram by the age column\n",
    "import matplotlib.pyplot as plt\n",
    "\n",
    "#plt.figure(figsize = (15,5))\n",
    "plt.subplot(1,2,1)\n",
    "ax = sns.distplot(df['Age'], kde = False, rug = True)\n",
    "ax.set_xlabel('AGE')\n",
    "ax.set_ylabel('Counts')\n",
    "ax.set_title(' Count of each age')\n",
    "plt.subplot(122)\n",
    "ax = sns.distplot(df['Profit'], kde = False)\n",
    "ax.set_xlabel('Profit')\n",
    "ax.set_ylabel('Counts')\n",
    "ax.set_title(' Count of each price')\n",
    "\n"
   ]
  },
  {
   "cell_type": "code",
   "execution_count": 26,
   "metadata": {},
   "outputs": [],
   "source": [
    "#plot a kdf\n",
    "\n",
    "def k_func(alpha, x, z):\n",
    "    coefficient = 1/np.sqrt(np.pi)\n",
    "    y = np.exp(-(x-z)**2/alpha)\n",
    "    return coefficient *y"
   ]
  },
  {
   "cell_type": "code",
   "execution_count": 29,
   "metadata": {},
   "outputs": [
    {
     "data": {
      "text/plain": [
       "[<matplotlib.lines.Line2D at 0x2a720764c10>]"
      ]
     },
     "execution_count": 29,
     "metadata": {},
     "output_type": "execute_result"
    },
    {
     "data": {
      "image/png": "[encoded data removed]",
      "text/plain": [
       "<Figure size 432x288 with 1 Axes>"
      ]
     },
     "metadata": {
      "needs_background": "light"
     },
     "output_type": "display_data"
    }
   ],
   "source": [
    "z = 5\n",
    "alpha = 0.5\n",
    "x_lst = np.linspace(-5, 10, 500)\n",
    "k_alpha = [k_func(alpha,x,z) for x in x_lst]\n",
    "k_beta = [k_func(alpha,x,z) for x in x_lst]\n",
    "\n",
    "plt.plot(x_lst, k_alpha)"
   ]
  },
  {
   "cell_type": "code",
   "execution_count": 33,
   "metadata": {},
   "outputs": [
    {
     "data": {
      "text/plain": [
       "[<matplotlib.lines.Line2D at 0x2a7207537c0>,\n",
       " <matplotlib.lines.Line2D at 0x2a7207539a0>]"
      ]
     },
     "execution_count": 33,
     "metadata": {},
     "output_type": "execute_result"
    },
    {
     "data": {
      "image/png": "[encoded data removed]",
      "text/plain": [
       "<Figure size 432x288 with 1 Axes>"
      ]
     },
     "metadata": {
      "needs_background": "light"
     },
     "output_type": "display_data"
    }
   ],
   "source": [
    "z = 5\n",
    "alpha = 0.5\n",
    "x_lst = np.linspace(-5, 10, 500)\n",
    "k_alpha = [k_func(alpha,x,3) for x in x_lst]\n",
    "k_beta = [k_func(alpha,x,5) for x in x_lst]\n",
    "plt.plot(x_lst, k_alpha, x_lst, k_beta)"
   ]
  },
  {
   "cell_type": "code",
   "execution_count": 34,
   "metadata": {},
   "outputs": [
    {
     "data": {
      "text/plain": [
       "[<matplotlib.lines.Line2D at 0x2a720850b80>]"
      ]
     },
     "execution_count": 34,
     "metadata": {},
     "output_type": "execute_result"
    },
    {
     "data": {
      "image/png": "[encoded data removed]",
      "text/plain": [
       "<Figure size 432x288 with 1 Axes>"
      ]
     },
     "metadata": {
      "needs_background": "light"
     },
     "output_type": "display_data"
    }
   ],
   "source": [
    "k2centers = (np.array(k_alpha)+ np.array(k_beta))/2\n",
    "plt.plot(x_lst, k2centers)"
   ]
  },
  {
   "cell_type": "code",
   "execution_count": 35,
   "metadata": {},
   "outputs": [
    {
     "data": {
      "image/png": "[encoded data removed]",
      "text/plain": [
       "<Figure size 432x288 with 1 Axes>"
      ]
     },
     "metadata": {
      "needs_background": "light"
     },
     "output_type": "display_data"
    }
   ],
   "source": [
    "ax = sns.distplot(df.Profit) #this is a historgram of the kde"
   ]
  },
  {
   "cell_type": "code",
   "execution_count": 38,
   "metadata": {},
   "outputs": [
    {
     "data": {
      "text/plain": [
       "[<matplotlib.lines.Line2D at 0x2a720725040>]"
      ]
     },
     "execution_count": 38,
     "metadata": {},
     "output_type": "execute_result"
    },
    {
     "data": {
      "image/png": "[encoded data removed]",
      "text/plain": [
       "<Figure size 432x288 with 1 Axes>"
      ]
     },
     "metadata": {
      "needs_background": "light"
     },
     "output_type": "display_data"
    }
   ],
   "source": [
    "#manually plotting\n",
    "x_lst = np.linspace(0,300,1000)\n",
    "profit = df.Profit.values\n",
    "k_profit = np.zeros(1000)\n",
    "alpha = 500\n",
    "for z in profit:\n",
    "    k_curr = k_func(alpha, x_lst, z)\n",
    "    k_profit += k_curr\n",
    "    \n",
    "k_profit = k_profit/len(df)\n",
    "plt.plot(x_lst, k_profit)    \n",
    "    "
   ]
  },
  {
   "cell_type": "code",
   "execution_count": 42,
   "metadata": {},
   "outputs": [],
   "source": [
    "def kde_plot(kernal_function, alpha):\n",
    "    x_lst = np.linspace(0,300, 1000)\n",
    "    k_profit = np.zeros(1000)\n",
    "    \n",
    "    for index, row in df.iterrows():\n",
    "        k_curr = kernal_function(alpha, x_lst, row.Profit)\n",
    "        k_profit += np.array(k_curr)\n",
    "    k_profit = k_profit/len(df)\n",
    "    plt.plot(x_lst, k_profit)"
   ]
  },
  {
   "cell_type": "code",
   "execution_count": 43,
   "metadata": {},
   "outputs": [
    {
     "data": {
      "image/png": "[encoded data removed]",
      "text/plain": [
       "<Figure size 432x288 with 1 Axes>"
      ]
     },
     "metadata": {
      "needs_background": "light"
     },
     "output_type": "display_data"
    }
   ],
   "source": [
    "kde_plot(k_func, 500)"
   ]
  },
  {
   "cell_type": "code",
   "execution_count": null,
   "metadata": {},
   "outputs": [],
   "source": []
  }
 ],
 "metadata": {
  "kernelspec": {
   "display_name": "Python 3",
   "language": "python",
   "name": "python3"
  },
  "language_info": {
   "codemirror_mode": {
    "name": "ipython",
    "version": 3
   },
   "file_extension": ".py",
   "mimetype": "text/x-python",
   "name": "python",
   "nbconvert_exporter": "python",
   "pygments_lexer": "ipython3",
   "version": "3.8.3"
  }
 },
 "nbformat": 4,
 "nbformat_minor": 4
}
