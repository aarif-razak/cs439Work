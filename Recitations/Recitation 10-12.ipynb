{
 "cells": [
  {
   "cell_type": "code",
   "execution_count": 3,
   "metadata": {},
   "outputs": [],
   "source": [
    "import numpy as np\n",
    "import pandas as pd\n",
    "import matplotlib as plt"
   ]
  },
  {
   "cell_type": "code",
   "execution_count": 6,
   "metadata": {},
   "outputs": [],
   "source": [
    "#grab from canvas for section 2\n",
    "#image stuff\n",
    "\n",
    "\n",
    "#helper function to convert rgb image to greyscale\n",
    "#formula to convert image = Y' = 0.2989 R + 0.5870 G + 0.1140 B \n",
    "\n",
    "def rgb2gray(rgb):\n",
    "    return np.dot(rgb[...,:3], [0.2989, 0.5870, 0.1140])\n",
    "\n",
    "#implmentation\n",
    "\n",
    "#[...,:3] is the same as indiviudally grabbing\n",
    "\n",
    "#img_gray = rgb2gray(img)\n",
    "#img_re = np.zeroes(img.shape)\n",
    "#img_re[:,:,0] = img_gray\n",
    "#img_re[:,:,1] = img_grey\n",
    "#img_re[:,:,2] = img_grey\n",
    "#img_re = img_re.astype(int)\n",
    "#plt.imshow(img_re)\n",
    "\n"
   ]
  },
  {
   "cell_type": "code",
   "execution_count": 8,
   "metadata": {},
   "outputs": [
    {
     "ename": "AttributeError",
     "evalue": "module 'scipy' has no attribute 'linalg'",
     "output_type": "error",
     "traceback": [
      "\u001b[1;31m---------------------------------------------------------------------------\u001b[0m",
      "\u001b[1;31mAttributeError\u001b[0m                            Traceback (most recent call last)",
      "\u001b[1;32m<ipython-input-8-6265fe37f999>\u001b[0m in \u001b[0;36m<module>\u001b[1;34m\u001b[0m\n\u001b[0;32m      3\u001b[0m \u001b[1;32mimport\u001b[0m \u001b[0mscipy\u001b[0m\u001b[1;33m\u001b[0m\u001b[1;33m\u001b[0m\u001b[0m\n\u001b[0;32m      4\u001b[0m \u001b[1;33m\u001b[0m\u001b[0m\n\u001b[1;32m----> 5\u001b[1;33m \u001b[0mU\u001b[0m\u001b[1;33m,\u001b[0m \u001b[0ms\u001b[0m\u001b[1;33m,\u001b[0m \u001b[0mVH\u001b[0m \u001b[1;33m=\u001b[0m \u001b[0mscipy\u001b[0m\u001b[1;33m.\u001b[0m\u001b[0mlinalg\u001b[0m\u001b[1;33m.\u001b[0m\u001b[0msvd\u001b[0m\u001b[1;33m(\u001b[0m\u001b[0mimg_gray\u001b[0m\u001b[1;33m,\u001b[0m \u001b[0mfull_matirices\u001b[0m\u001b[1;33m=\u001b[0m\u001b[1;32mTrue\u001b[0m\u001b[1;33m)\u001b[0m\u001b[1;33m\u001b[0m\u001b[1;33m\u001b[0m\u001b[0m\n\u001b[0m\u001b[0;32m      6\u001b[0m \u001b[1;33m\u001b[0m\u001b[0m\n\u001b[0;32m      7\u001b[0m \u001b[1;31m#print(U.shape) = (337,337)\u001b[0m\u001b[1;33m\u001b[0m\u001b[1;33m\u001b[0m\u001b[1;33m\u001b[0m\u001b[0m\n",
      "\u001b[1;31mAttributeError\u001b[0m: module 'scipy' has no attribute 'linalg'"
     ]
    }
   ],
   "source": [
    "#svd stuff\n",
    "#using scipy library\n",
    "import scipy\n",
    "\n",
    "U, s, VH = scipy.linalg.svd(img_gray, full_matirices=True)\n",
    "\n",
    "#print(U.shape) = (337,337)\n",
    "#print(s.shape) = (337,) #This will hold your eigenvalues along your matrix, in the diagonal components\n",
    "#print(Vh.shape) = (600,600)\n",
    "\n"
   ]
  },
  {
   "cell_type": "code",
   "execution_count": 9,
   "metadata": {},
   "outputs": [
    {
     "ename": "NameError",
     "evalue": "name 's' is not defined",
     "output_type": "error",
     "traceback": [
      "\u001b[1;31m---------------------------------------------------------------------------\u001b[0m",
      "\u001b[1;31mNameError\u001b[0m                                 Traceback (most recent call last)",
      "\u001b[1;32m<ipython-input-9-4b4a7f4aeec4>\u001b[0m in \u001b[0;36m<module>\u001b[1;34m\u001b[0m\n\u001b[0;32m      1\u001b[0m \u001b[1;31m#sort our matrix in a decreasing order, returning the indicies of that matrix\u001b[0m\u001b[1;33m\u001b[0m\u001b[1;33m\u001b[0m\u001b[1;33m\u001b[0m\u001b[0m\n\u001b[1;32m----> 2\u001b[1;33m \u001b[0mindicides\u001b[0m \u001b[1;33m=\u001b[0m \u001b[0mnp\u001b[0m\u001b[1;33m.\u001b[0m\u001b[0margsort\u001b[0m\u001b[1;33m(\u001b[0m\u001b[1;33m-\u001b[0m\u001b[0ms\u001b[0m\u001b[1;33m)\u001b[0m\u001b[1;33m\u001b[0m\u001b[1;33m\u001b[0m\u001b[0m\n\u001b[0m\u001b[0;32m      3\u001b[0m \u001b[0mU_sorted\u001b[0m \u001b[1;33m=\u001b[0m \u001b[0mU\u001b[0m\u001b[1;33m[\u001b[0m\u001b[1;33m:\u001b[0m\u001b[1;33m,\u001b[0m \u001b[0mindicies\u001b[0m\u001b[1;33m]\u001b[0m\u001b[1;33m\u001b[0m\u001b[1;33m\u001b[0m\u001b[0m\n\u001b[0;32m      4\u001b[0m \u001b[0mVh_sorted\u001b[0m \u001b[1;33m=\u001b[0m \u001b[0mVh\u001b[0m\u001b[1;33m[\u001b[0m\u001b[0mindicies\u001b[0m\u001b[1;33m,\u001b[0m\u001b[1;33m:\u001b[0m\u001b[1;33m]\u001b[0m\u001b[1;33m\u001b[0m\u001b[1;33m\u001b[0m\u001b[0m\n\u001b[0;32m      5\u001b[0m \u001b[0ms_sorted\u001b[0m \u001b[1;33m=\u001b[0m \u001b[0ms\u001b[0m\u001b[1;33m[\u001b[0m\u001b[0mindicies\u001b[0m\u001b[1;33m]\u001b[0m\u001b[1;33m\u001b[0m\u001b[1;33m\u001b[0m\u001b[0m\n",
      "\u001b[1;31mNameError\u001b[0m: name 's' is not defined"
     ]
    }
   ],
   "source": [
    "#sort our matrix in a decreasing order, returning the indicies of that matrix\n",
    "indicides = np.argsort(-s)\n",
    "U_sorted = U[:, indicies]\n",
    "Vh_sorted = Vh[indicies,:]\n",
    "s_sorted = s[indicies]\n",
    "print(s_sorted[:20]) \n",
    "print(s_sorted[-10:])"
   ]
  },
  {
   "cell_type": "code",
   "execution_count": null,
   "metadata": {},
   "outputs": [],
   "source": [
    "#@ aggretage operator used for matrix multiplication\n",
    "rank = 10\n",
    "img_rank_10 = U_sorted[:,:rank] @ np.diag(s_sorted[:rank]) @ Vh[:rank,:]\n",
    "img_rank_10_rgb = np.round(np.zeroes(list(img_rank_10.shape) + [3])).astype(int) #split into each rgb component\n",
    "\n",
    "img_rank_10_rgb[:,:,0] = img_rank_10 #added the rgb components to the img_rank_10_rgb matrix\n",
    "img_rank_10_rgb[:,:,1] = img_rank_10\n",
    "img_rank_10_rgb[:,:,2] = img_rank_10\n",
    "\n",
    "plt.imshow(img_rank_10_rgb) #this is the 10th rank approxomination, you can approximate your matrix to a lower rank using SVD\n",
    "#doign a higher svd, like 40, youd get a sharper image\n",
    "\n",
    "#rank = (in RRE), Number of solvable equations you get\n",
    "[1,1,3\n",
    "0,1,2\n",
    "0,0,0], Rank of this is 2!\n"
   ]
  }
 ],
 "metadata": {
  "kernelspec": {
   "display_name": "Python 3",
   "language": "python",
   "name": "python3"
  },
  "language_info": {
   "codemirror_mode": {
    "name": "ipython",
    "version": 3
   },
   "file_extension": ".py",
   "mimetype": "text/x-python",
   "name": "python",
   "nbconvert_exporter": "python",
   "pygments_lexer": "ipython3",
   "version": "3.8.3"
  }
 },
 "nbformat": 4,
 "nbformat_minor": 4
}
