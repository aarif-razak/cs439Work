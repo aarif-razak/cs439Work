{
 "cells": [
  {
   "cell_type": "markdown",
   "metadata": {
    "id": "6uBju7svapPs"
   },
   "source": [
    "<div class=\"alert alert-block alert-info\">\n",
    "<h3>Student(s) Information</h3> Please provide information about yourself.<br>\n",
    "<b>Name1</b>: Aarif Razak <br>\n",
    "<b>Name2 (optional) </b>: Catherine Nguyen<br>\n",
    "<b>NetID 1</b>: ahr58 <br>\n",
    "<b>NetID 2 (optional)</b>: cvn12 <br>\n",
    "<b>Notes to Grader</b> (optional):<br>\n",
    "<br><br>\n",
    "<b>IMPORTANT</b>\n",
    "Your work will not be graded withour your initials below<br>\n",
    "I certify that this lab represents my own work and I have read the RU academic intergrity policies at<br>\n",
    "<a href=\"https://www.cs.rutgers.edu/academic-integrity/introduction\">https://www.cs.rutgers.edu/academic-integrity/introduction </a><br>\n",
    "<b>Initials</b>: AR, CN    \n",
    "\n",
    "\n",
    "<h3>Grader Notes</h3>\n",
    "<b>Your Grade<b>:<br>\n",
    "<b>Grader Initials</b>:<br>\n",
    "<b>Grader Comments</b> (optional):<br>\n",
    "</div>\n",
    "\n",
    "### CS 439 - Introduction to Data Science\n",
    "### Fall 2021\n",
    "\n",
    "# Midsemester Project : Twitter Data Analysis\n",
    "\n",
    "### Due Date : November 14th, 2021 by 11:59 PM\n",
    "\n",
    "\n",
    "### About this project\n",
    "This is your mid-semester project. You are allowed to work with a partner (if you'd like). Only one partner (or max two per group is allowed). The goal of this mid-semester project is to work with Twitter API to analyze tweets from a person, and in this case, President Donald Trump.  @RealDonaldTrump tweets provide a great opportunity to understand how online media can be used to communicate over the traditional media. Moreoover, Trump tweets has become so consequential, they actually can move the stock market on short term and get network TV to debate and discuss hours and hours about what Trump meant.\n",
    "\n",
    "We hope this project will be fun as we can analyze range of emotions, hope, controversy, vagueness that are part of Trump tweets. We are interested in seeing what conclusions you can draw from US Presidents tweets. \n",
    "* DISCLAIMER: This project is not designed with any bias in mind. Note that we could pick either candiadate (Hillary Clinton or Donald Trump) or anyone else to do the same analysis. We hope your analysis is objective, independent of any political bias you may have. As Data Scientists, it is our responsiblity to do independent analysis of the data we try to understand. You should follow data and interpret w/o any bias.\n"
   ]
  },
  {
   "cell_type": "markdown",
   "metadata": {
    "id": "nrwHuwfbapPw"
   },
   "source": [
    "## Set up\n",
    "Let us get all the libaries initialized as necessary"
   ]
  },
  {
   "cell_type": "code",
   "execution_count": 1,
   "metadata": {
    "id": "M_FL--h5apPw"
   },
   "outputs": [],
   "source": [
    "# Run this cell to set up your notebook\n",
    "import csv\n",
    "import numpy as np\n",
    "import pandas as pd\n",
    "import matplotlib.pyplot as plt\n",
    "import zipfile\n",
    "import json\n",
    "\n",
    "# Ensure that Pandas shows at least 280 characters in columns, so we can see full tweets\n",
    "pd.set_option('max_colwidth', 280)\n",
    "\n",
    "%matplotlib inline\n",
    "plt.style.use('fivethirtyeight')\n",
    "import seaborn as sns\n",
    "sns.set()\n",
    "sns.set_context(\"talk\")\n",
    "import re"
   ]
  },
  {
   "cell_type": "markdown",
   "metadata": {
    "id": "6ORGPFVgapPx"
   },
   "source": [
    "## Downloading Recent Tweets\n",
    "It is important to download the most recent tweets (especially if you are working as a group). Those who are working by themselves are allowed to use the downloaded files w/o setting up access to any twitter API (which can sometime be bit complicated). Twitter provides the API Tweepy (http://www.tweepy.org/) that makes it easy to access twitter content that is publicly available. We will also provide example code as needed."
   ]
  },
  {
   "cell_type": "code",
   "execution_count": 4,
   "metadata": {
    "id": "JOOqNiaJapPy"
   },
   "outputs": [],
   "source": [
    "## Make sure you have set up tweepy if you are working locally.\n",
    "# https://www.pythoncentral.io/introduction-to-tweepy-twitter-for-python/\n",
    "# After set up, the following should run:\n",
    "import tweepy"
   ]
  },
  {
   "cell_type": "markdown",
   "metadata": {
    "id": "pSnwuTGlapPy"
   },
   "source": [
    "## PART 1:  Accessing Twitter API  (optional for individuals)\n",
    "In order to access Twitter API, you need to get keys by signing up as a Twitter developer. We will walk you through this process. \n",
    "* if you are working by yourself on this project, you can skip PART 1, and complete the project using the data files provided in the data folder. PART 1 is optional for those working by themselves. However, we highly recommend that you do Part 1 (after completing the project with offline data) if you would like to \"learn\" how to use Twitter API that might be useful."
   ]
  },
  {
   "cell_type": "markdown",
   "metadata": {
    "id": "4ua3d1joapPz"
   },
   "source": [
    "### Task 1.1\n",
    "\n",
    "Follow the instructions below to get your Twitter API keys.  **Read the instructions completely before starting.**\n",
    "\n",
    "1. [Create a Twitter account](https://twitter.com/).  You can use an existing account if you have one; if you prefer to not do this assignment under your regular account, feel free to create a throw-away account.\n",
    "2. Under account settings, add your phone number to the account.\n",
    "3. [Create a Twitter developer account](https://developer.twitter.com/en/apply/) by clicking the 'Apply' button on the top right of the page. Attach it to your Twitter account. You'll have to fill out a form describing what you want to do with the developer account. Explain that you are doing this for a class at Rutgers University and that you don't know exactly what you're building yet and just need the account to get started. These applications are approved by some sort of AI system, so it doesn't matter exactly what you write. Just don't enter a bunch of alweiofalwiuhflawiuehflawuihflaiwhfe type stuff or you might get rejected.\n",
    "4. Once you're logged into your developer account, [create an application for this assignment](https://apps.twitter.com/app/new).  You can call it whatever you want, and you can write any URL when it asks for a web site.  You don't need to provide a callback URL.\n",
    "5. On the page for that application, find your Consumer Key and Consumer Secret.\n",
    "6. On the same page, create an Access Token.  Record the resulting Access Token and Access Token Secret.\n",
    "7. Edit the file [keys.json](keys.json) and replace the placeholders with your keys."
   ]
  },
  {
   "cell_type": "markdown",
   "metadata": {
    "id": "1OgUJbFCapP0"
   },
   "source": [
    "## WARNING (Please Read) !!!!\n",
    "\n",
    "\n",
    "### Protect your Twitter Keys\n",
    "<span style=\"color:red\">\n",
    "If someone has your authentication keys, they can access your Twitter account and post as you!  So don't give them to anyone, and **don't write them down in this notebook**. \n",
    "</span>\n",
    "The usual way to store sensitive information like this is to put it in a separate file and read it programmatically.  That way, you can share the rest of your code without sharing your keys.  That's why we're asking you to put your keys in `keys.json` for this assignment.\n",
    "\n",
    "\n",
    "### Avoid making too many API calls.\n",
    "\n",
    "<span style=\"color:red\">\n",
    "Twitter limits developers to a certain rate of requests for data.  If you make too many requests in a short period of time, you'll have to wait awhile (around 15 minutes) before you can make more.  </span> \n",
    "So carefully follow the code examples you see and don't rerun cells without thinking.  Instead, always save the data you've collected to a file.  We've provided templates to help you do that.\n",
    "\n",
    "\n",
    "### Be careful about which functions you call!\n",
    "\n",
    "<span style=\"color:red\">\n",
    "This API can retweet tweets, follow and unfollow people, and modify your twitter settings.  Be careful which functions you invoke! </span> It is possible that you can accidentally re-tweet some tweets because you typed `retweet` instead of `retweet_count`. \n",
    "</span>\n"
   ]
  },
  {
   "cell_type": "code",
   "execution_count": 20,
   "metadata": {
    "colab": {
     "base_uri": "https://localhost:8080/",
     "height": 232
    },
    "id": "s3GABOPEapP0",
    "outputId": "22edcb96-5f48-4682-8d8c-ed669bca9294"
   },
   "outputs": [],
   "source": [
    "import json\n",
    "key_file = 'keys.json'\n",
    "# Loading your keys from keys.json (which you should have filled\n",
    "# in in question 1):\n",
    "with open(key_file) as f:\n",
    "    keys = json.load(f)\n",
    "# if you print or view the contents of keys be sure to delete the cell!"
   ]
  },
  {
   "cell_type": "markdown",
   "metadata": {
    "id": "woTVwrZWapP1"
   },
   "source": [
    "### Task 1.2 Testing Twitter Authentication\n",
    "This following code should run w/o erros or warnings and display Rutgers University's twitter username"
   ]
  },
  {
   "cell_type": "code",
   "execution_count": 21,
   "metadata": {
    "id": "jeF48lesapP1",
    "outputId": "7d96ba32-cb41-4356-b10d-b0f57480bb96"
   },
   "outputs": [
    {
     "name": "stdout",
     "output_type": "stream",
     "text": [
      "Rutgers username is: Rutgers University\n"
     ]
    }
   ],
   "source": [
    "import tweepy\n",
    "from tweepy import TweepyException\n",
    "import logging\n",
    "\n",
    "try:\n",
    "    auth = tweepy.OAuthHandler(keys[\"consumer_key\"], keys[\"consumer_secret\"])\n",
    "    redirect_url = auth.get_authorization_url()\n",
    "    auth.set_access_token(keys[\"access_token\"], keys[\"access_token_secret\"])\n",
    "    api = tweepy.API(auth)\n",
    "    print(\"Rutgers username is:\", api.get_user(screen_name=\"RutgersU\").name)\n",
    "except TweepyException as e:\n",
    "    logging.warning(\"There was a Tweepy error. Double check your API keys and try again.\")\n",
    "    logging.warning(e)"
   ]
  },
  {
   "cell_type": "markdown",
   "metadata": {
    "id": "usVPef0dapP2"
   },
   "source": [
    "## PART 2 - Working with Twitter\n",
    "The json file in data folder contains (to be downloaded by you) some loaded tweets from @RutgersU. Run it and read the code. You can also try other json files in the data folder to try this. "
   ]
  },
  {
   "cell_type": "code",
   "execution_count": 16,
   "metadata": {
    "id": "LtJWj1sVapP2"
   },
   "outputs": [],
   "source": [
    "from pathlib import Path\n",
    "import json\n",
    "\n",
    "ds_tweets_save_path = \"data/RutgersU_recent_tweets.json\"   # need to get this file\n",
    "\n",
    "# Guarding against attempts to download the data multiple\n",
    "# times:\n",
    "if not Path(ds_tweets_save_path).is_file():\n",
    "    # Getting as many recent tweets by @RutgersU as Twitter will let us have.\n",
    "    # We use tweet_mode='extended' so that Twitter gives us full 280 character tweets.\n",
    "    # This was a change introduced in September 2017.\n",
    "    \n",
    "    # The tweepy Cursor API actually returns \"sophisticated\" Status objects but we \n",
    "    # will use the basic Python dictionaries stored in the _json field. \n",
    "    example_tweets = [t._json for t in tweepy.Cursor(api.user_timeline, screen_name=\"RutgersU\", \n",
    "                                             tweet_mode='extended').items()]\n",
    "    \n",
    "    # Saving the tweets to a json file on disk for future analysis\n",
    "    with open(ds_tweets_save_path, \"w\") as f:        \n",
    "        json.dump(example_tweets, f)\n",
    "\n",
    "# Re-loading the json file:\n",
    "with open(ds_tweets_save_path, \"r\") as f:\n",
    "    example_tweets = json.load(f)"
   ]
  },
  {
   "cell_type": "markdown",
   "metadata": {
    "id": "hPx2hgTcapP3"
   },
   "source": [
    "If things ran as expected, you should be able to look at the first tweet by running the code below. It probabably does not make sense to view all tweets in a notebook, as size of the tweets can freeze your browser (always a good idea to press ctrl-S to save the latest, in case you have to restart Jupyter)"
   ]
  },
  {
   "cell_type": "code",
   "execution_count": 17,
   "metadata": {
    "id": "V6YxFwAKapP3",
    "outputId": "9c8bb2ee-4f49-4f05-cc2b-546fd168dd25"
   },
   "outputs": [
    {
     "name": "stdout",
     "output_type": "stream",
     "text": [
      "{'contributors': None,\n",
      " 'coordinates': None,\n",
      " 'created_at': 'Sat Nov 02 23:02:49 +0000 2019',\n",
      " 'display_text_range': [0, 140],\n",
      " 'entities': {'hashtags': [{'indices': [22, 31], 'text': 'internet'}],\n",
      "              'symbols': [],\n",
      "              'urls': [],\n",
      "              'user_mentions': [{'id': 955836661702774784,\n",
      "                                 'id_str': '955836661702774784',\n",
      "                                 'indices': [3, 13],\n",
      "                                 'name': 'Rutgers University–New Brunswick',\n",
      "                                 'screen_name': 'RutgersNB'},\n",
      "                                {'id': 52517689,\n",
      "                                 'id_str': '52517689',\n",
      "                                 'indices': [42, 58],\n",
      "                                 'name': 'Rutgers School of Communication and '\n",
      "                                         'Information',\n",
      "                                 'screen_name': 'RutgersCommInfo'},\n",
      "                                {'id': 392737670,\n",
      "                                 'id_str': '392737670',\n",
      "                                 'indices': [61, 72],\n",
      "                                 'name': 'Mary Chayko',\n",
      "                                 'screen_name': 'MaryChayko'}]},\n",
      " 'favorite_count': 0,\n",
      " 'favorited': False,\n",
      " 'full_text': \"RT @RutgersNB: As the #internet turns 50, @RutgersCommInfo's \"\n",
      "              '@MaryChayko focuses on how we have used the innovation and what '\n",
      "              'it has meant f…',\n",
      " 'geo': None,\n",
      " 'id': 1190766238110236673,\n",
      " 'id_str': '1190766238110236673',\n",
      " 'in_reply_to_screen_name': None,\n",
      " 'in_reply_to_status_id': None,\n",
      " 'in_reply_to_status_id_str': None,\n",
      " 'in_reply_to_user_id': None,\n",
      " 'in_reply_to_user_id_str': None,\n",
      " 'is_quote_status': False,\n",
      " 'lang': 'en',\n",
      " 'place': None,\n",
      " 'retweet_count': 3,\n",
      " 'retweeted': False,\n",
      " 'retweeted_status': {'contributors': None,\n",
      "                      'coordinates': None,\n",
      "                      'created_at': 'Sat Nov 02 18:26:39 +0000 2019',\n",
      "                      'display_text_range': [0, 191],\n",
      "                      'entities': {'hashtags': [{'indices': [7, 16],\n",
      "                                                 'text': 'internet'}],\n",
      "                                   'symbols': [],\n",
      "                                   'urls': [{'display_url': 'nbcnews.com/think/opinion/…',\n",
      "                                             'expanded_url': 'https://www.nbcnews.com/think/opinion/what-50-years-spent-internet-worth-humanity-ncna1073656',\n",
      "                                             'indices': [168, 191],\n",
      "                                             'url': 'https://t.co/dmxjKYGmvU'}],\n",
      "                                   'user_mentions': [{'id': 52517689,\n",
      "                                                      'id_str': '52517689',\n",
      "                                                      'indices': [27, 43],\n",
      "                                                      'name': 'Rutgers School '\n",
      "                                                              'of '\n",
      "                                                              'Communication '\n",
      "                                                              'and Information',\n",
      "                                                      'screen_name': 'RutgersCommInfo'},\n",
      "                                                     {'id': 392737670,\n",
      "                                                      'id_str': '392737670',\n",
      "                                                      'indices': [46, 57],\n",
      "                                                      'name': 'Mary Chayko',\n",
      "                                                      'screen_name': 'MaryChayko'}]},\n",
      "                      'favorite_count': 6,\n",
      "                      'favorited': False,\n",
      "                      'full_text': 'As the #internet turns 50, '\n",
      "                                   \"@RutgersCommInfo's @MaryChayko focuses on \"\n",
      "                                   'how we have used the innovation and what '\n",
      "                                   'it has meant for the way we communicate '\n",
      "                                   'with each other.\\n'\n",
      "                                   '\\n'\n",
      "                                   'https://t.co/dmxjKYGmvU',\n",
      "                      'geo': None,\n",
      "                      'id': 1190696737868001280,\n",
      "                      'id_str': '1190696737868001280',\n",
      "                      'in_reply_to_screen_name': None,\n",
      "                      'in_reply_to_status_id': None,\n",
      "                      'in_reply_to_status_id_str': None,\n",
      "                      'in_reply_to_user_id': None,\n",
      "                      'in_reply_to_user_id_str': None,\n",
      "                      'is_quote_status': False,\n",
      "                      'lang': 'en',\n",
      "                      'place': None,\n",
      "                      'possibly_sensitive': False,\n",
      "                      'retweet_count': 3,\n",
      "                      'retweeted': False,\n",
      "                      'source': '<a href=\"https://sproutsocial.com\" '\n",
      "                                'rel=\"nofollow\">Sprout Social</a>',\n",
      "                      'truncated': False,\n",
      "                      'user': {'can_media_tag': True,\n",
      "                               'contributors_enabled': False,\n",
      "                               'created_at': 'Tue Jan 23 16:16:33 +0000 2018',\n",
      "                               'default_profile': False,\n",
      "                               'default_profile_image': False,\n",
      "                               'description': 'The official Twitter account of '\n",
      "                                              'Rutgers University–New '\n",
      "                                              'Brunswick, the flagship home of '\n",
      "                                              'Rutgers, The State University '\n",
      "                                              'of New Jersey.',\n",
      "                               'entities': {'description': {'urls': []},\n",
      "                                            'url': {'urls': [{'display_url': 'newbrunswick.rutgers.edu',\n",
      "                                                              'expanded_url': 'https://newbrunswick.rutgers.edu/',\n",
      "                                                              'indices': [0,\n",
      "                                                                          23],\n",
      "                                                              'url': 'https://t.co/Pll3p27ECO'}]}},\n",
      "                               'favourites_count': 1274,\n",
      "                               'follow_request_sent': False,\n",
      "                               'followed_by': False,\n",
      "                               'followers_count': 2094,\n",
      "                               'following': False,\n",
      "                               'friends_count': 178,\n",
      "                               'geo_enabled': True,\n",
      "                               'has_extended_profile': False,\n",
      "                               'id': 955836661702774784,\n",
      "                               'id_str': '955836661702774784',\n",
      "                               'is_translation_enabled': False,\n",
      "                               'is_translator': False,\n",
      "                               'lang': None,\n",
      "                               'listed_count': 18,\n",
      "                               'location': 'New Brunswick, NJ',\n",
      "                               'name': 'Rutgers University–New Brunswick',\n",
      "                               'notifications': False,\n",
      "                               'profile_background_color': '000000',\n",
      "                               'profile_background_image_url': 'http://abs.twimg.com/images/themes/theme1/bg.png',\n",
      "                               'profile_background_image_url_https': 'https://abs.twimg.com/images/themes/theme1/bg.png',\n",
      "                               'profile_background_tile': False,\n",
      "                               'profile_banner_url': 'https://pbs.twimg.com/profile_banners/955836661702774784/1564589696',\n",
      "                               'profile_image_url': 'http://pbs.twimg.com/profile_images/1111272066609827848/9zSX0WEt_normal.png',\n",
      "                               'profile_image_url_https': 'https://pbs.twimg.com/profile_images/1111272066609827848/9zSX0WEt_normal.png',\n",
      "                               'profile_link_color': 'E81C4F',\n",
      "                               'profile_sidebar_border_color': '000000',\n",
      "                               'profile_sidebar_fill_color': '000000',\n",
      "                               'profile_text_color': '000000',\n",
      "                               'profile_use_background_image': False,\n",
      "                               'protected': False,\n",
      "                               'screen_name': 'RutgersNB',\n",
      "                               'statuses_count': 1679,\n",
      "                               'time_zone': None,\n",
      "                               'translator_type': 'none',\n",
      "                               'url': 'https://t.co/Pll3p27ECO',\n",
      "                               'utc_offset': None,\n",
      "                               'verified': False}},\n",
      " 'source': '<a href=\"http://twitter.com/download/iphone\" '\n",
      "           'rel=\"nofollow\">Twitter for iPhone</a>',\n",
      " 'truncated': False,\n",
      " 'user': {'can_media_tag': True,\n",
      "          'contributors_enabled': False,\n",
      "          'created_at': 'Wed Jan 21 02:57:47 +0000 2009',\n",
      "          'default_profile': False,\n",
      "          'default_profile_image': False,\n",
      "          'description': 'Rutgers, The State University of New Jersey, is a '\n",
      "                         'leading public research university. Follow us for '\n",
      "                         'all things Rutgers.',\n",
      "          'entities': {'description': {'urls': []},\n",
      "                       'url': {'urls': [{'display_url': 'rutgers.edu',\n",
      "                                         'expanded_url': 'http://www.rutgers.edu',\n",
      "                                         'indices': [0, 22],\n",
      "                                         'url': 'http://t.co/stAPJIzh8b'}]}},\n",
      "          'favourites_count': 4590,\n",
      "          'follow_request_sent': False,\n",
      "          'followed_by': False,\n",
      "          'followers_count': 132798,\n",
      "          'following': False,\n",
      "          'friends_count': 595,\n",
      "          'geo_enabled': True,\n",
      "          'has_extended_profile': False,\n",
      "          'id': 19272796,\n",
      "          'id_str': '19272796',\n",
      "          'is_translation_enabled': False,\n",
      "          'is_translator': False,\n",
      "          'lang': None,\n",
      "          'listed_count': 838,\n",
      "          'location': 'New Jersey',\n",
      "          'name': 'Rutgers University',\n",
      "          'notifications': False,\n",
      "          'profile_background_color': 'C7141C',\n",
      "          'profile_background_image_url': 'http://abs.twimg.com/images/themes/theme15/bg.png',\n",
      "          'profile_background_image_url_https': 'https://abs.twimg.com/images/themes/theme15/bg.png',\n",
      "          'profile_background_tile': False,\n",
      "          'profile_banner_url': 'https://pbs.twimg.com/profile_banners/19272796/1494779773',\n",
      "          'profile_image_url': 'http://pbs.twimg.com/profile_images/809450270375772160/rWmyBIig_normal.jpg',\n",
      "          'profile_image_url_https': 'https://pbs.twimg.com/profile_images/809450270375772160/rWmyBIig_normal.jpg',\n",
      "          'profile_link_color': '0084B4',\n",
      "          'profile_sidebar_border_color': '000205',\n",
      "          'profile_sidebar_fill_color': 'C0DFEC',\n",
      "          'profile_text_color': '333333',\n",
      "          'profile_use_background_image': False,\n",
      "          'protected': False,\n",
      "          'screen_name': 'RutgersU',\n",
      "          'statuses_count': 16165,\n",
      "          'time_zone': None,\n",
      "          'translator_type': 'none',\n",
      "          'url': 'http://t.co/stAPJIzh8b',\n",
      "          'utc_offset': None,\n",
      "          'verified': True}}\n"
     ]
    }
   ],
   "source": [
    "# Looking at one tweet object, which has type Status: \n",
    "from pprint import pprint # ...to get a more easily-readable view.\n",
    "pprint(example_tweets[0])"
   ]
  },
  {
   "cell_type": "markdown",
   "metadata": {
    "id": "YL8O3oWrapP3"
   },
   "source": [
    "### Task 2.1 (Optional for Individuals)\n",
    "\n",
    "### What you need to do. \n",
    "\n",
    "Re-factor the above code fragment into reusable snippets below.  You should not need to make major modifications; this is mostly an exercise in understanding the above code block. "
   ]
  },
  {
   "cell_type": "code",
   "execution_count": 22,
   "metadata": {
    "id": "Vac0VdRmapP4"
   },
   "outputs": [],
   "source": [
    "def load_keys(path):\n",
    "    \"\"\"Loads your Twitter authentication keys from a file on disk.\n",
    "    \n",
    "    Args:\n",
    "        path (str): The path to your key file.  The file should\n",
    "          be in JSON format and look like this (but filled in):\n",
    "            {\n",
    "                \"consumer_key\": \"<your Consumer Key here>\",\n",
    "                \"consumer_secret\":  \"<your Consumer Secret here>\",\n",
    "                \"access_token\": \"<your Access Token here>\",\n",
    "                \"access_token_secret\": \"<your Access Token Secret here>\"\n",
    "            }\n",
    "    \n",
    "    Returns:\n",
    "        dict: A dictionary mapping key names (like \"consumer_key\") to\n",
    "          key values.\"\"\"\n",
    "    \n",
    "    ### BEGIN SOLUTION\n",
    "   \n",
    "    with open(path) as f:\n",
    "        keys = json.load(f) #load file as json object\n",
    "    return keys \n",
    "\n",
    "    ### END SOLUTION"
   ]
  },
  {
   "cell_type": "code",
   "execution_count": 4,
   "metadata": {
    "id": "Ei4KEzlnapP4"
   },
   "outputs": [],
   "source": [
    "def download_recent_tweets_by_user(user_account_name, keys):\n",
    "    \"\"\"Downloads tweets by one Twitter user.\n",
    "\n",
    "    Args:\n",
    "        user_account_name (str): The name of the Twitter account\n",
    "          whose tweets will be downloaded.\n",
    "        keys (dict): A Python dictionary with Twitter authentication\n",
    "          keys (strings), like this (but filled in):\n",
    "            {\n",
    "                \"consumer_key\": \"<your Consumer Key here>\",\n",
    "                \"consumer_secret\":  \"<your Consumer Secret here>\",\n",
    "                \"access_token\": \"<your Access Token here>\",\n",
    "                \"access_token_secret\": \"<your Access Token Secret here>\"\n",
    "            }\n",
    "\n",
    "    Returns:\n",
    "        list: A list of Dictonary objects, each representing one tweet.\"\"\"\n",
    "    import tweepy\n",
    "    ### BEGIN SOLUTION\n",
    "    try:\n",
    "        auth = tweepy.OAuthHandler(keys[\"consumer_key\"], keys[\"consumer_secret\"])\n",
    "        redirect_url = auth.get_authorization_url()\n",
    "        auth.set_access_token(keys[\"access_token\"], keys[\"access_token_secret\"])\n",
    "        api = tweepy.API(auth)\n",
    "        #print(\"Grabbing tweets for user: \", api.get_user(screen_name=str(user_account_name).name)\n",
    "    except TweepyException as e:\n",
    "        logging.warning(\"There was a Tweepy error. Double check your API keys and try again.\")\n",
    "        logging.warning(e)\n",
    "    recent_tweets = [t._json for t in tweepy.Cursor(api.user_timeline, screen_name=str(user_account_name), tweet_mode='extended').items()] #using 'extended' means we can get as many as wec can\n",
    "    return recent_tweets\n",
    "    \n",
    "    ### END SOLUTION"
   ]
  },
  {
   "cell_type": "code",
   "execution_count": 23,
   "metadata": {
    "id": "xCjxPXNzapP4"
   },
   "outputs": [],
   "source": [
    "def load_tweets(path):\n",
    "    \"\"\"Loads tweets that have previously been saved.\n",
    "    \n",
    "    Calling load_tweets(path) after save_tweets(tweets, path)\n",
    "    will produce the same list of tweets.\n",
    "    \n",
    "    Args:\n",
    "        path (str): The place where the tweets were be saved.\n",
    "\n",
    "    Returns:\n",
    "        list: A list of Dictionary objects, each representing one tweet.\"\"\"\n",
    "    \n",
    "    ### BEGIN SOLUTION\n",
    " \n",
    "    with open(path, \"r\") as f:\n",
    "        example_tweets = json.load(f)\n",
    "    return example_tweets\n",
    "    \n",
    "    ### END SOLUTION"
   ]
  },
  {
   "cell_type": "code",
   "execution_count": 25,
   "metadata": {
    "id": "p6ckUKvJapP5"
   },
   "outputs": [],
   "source": [
    "def get_tweets_with_cache(user_account_name, keys_path):\n",
    "    \"\"\"Get recent tweets from one user, loading from a disk cache if available.\n",
    "    \n",
    "    The first time you call this function, it will download tweets by\n",
    "    a user.  Subsequent calls will not re-download the tweets; instead\n",
    "    they'll load the tweets from a save file in your local filesystem.\n",
    "    All this is done using the functions you defined in the previous cell.\n",
    "    This has benefits and drawbacks that often appear when you cache data:\n",
    "    \n",
    "    +: Using this function will prevent extraneous usage of the Twitter API.\n",
    "    +: You will get your data much faster after the first time it's called.\n",
    "    -: If you really want to re-download the tweets (say, to get newer ones,\n",
    "       or because you screwed up something in the previous cell and your\n",
    "       tweets aren't what you wanted), you'll have to find the save file\n",
    "       (which will look like <something>_recent_tweets.pkl) and delete it.\n",
    "    \n",
    "    Args:\n",
    "        user_account_name (str): The Twitter handle of a user, without the @.\n",
    "        keys_path (str): The path to a JSON keys file in your filesystem.\n",
    "    \"\"\"\n",
    "    \n",
    "    ### BEGIN SOLUTION\n",
    "    \n",
    "    # your solution here\n",
    "    \n",
    "    ds_tweets_save_path = f\"data/{user_account_name}_recent_tweets.json\"   # need to get this file\n",
    "    #if the file doesn't exist (ie it hasnt been downloaded yet)\n",
    "    if not Path(ds_tweets_save_path).is_file():\n",
    "        loadedKeys = load_keys(keys_path)\n",
    "        tweets = download_recent_tweets_by_user(user_account_name, loadedKeys)\n",
    "        #save tweets to file first\n",
    "        with open(ds_tweets_save_path, \"w\") as f:        \n",
    "            json.dump(tweets, f)\n",
    "        result = tweets\n",
    "    else:\n",
    "        #load from file\n",
    "        result = load_tweets(ds_tweets_save_path)\n",
    "    \n",
    "    return result\n",
    "    \n",
    "    \n",
    "    ### END SOLUTION"
   ]
  },
  {
   "cell_type": "markdown",
   "metadata": {
    "id": "-MZGu9P-apP5"
   },
   "source": [
    "If everything was implemented correctly you should be able to obtain roughly the last 3000 tweets by @RutgersU. (This may take a few minutes)"
   ]
  },
  {
   "cell_type": "code",
   "execution_count": 26,
   "metadata": {
    "id": "kdqvDP24apP5"
   },
   "outputs": [
    {
     "name": "stdout",
     "output_type": "stream",
     "text": [
      "Number of tweets downloaded: 3237\n"
     ]
    }
   ],
   "source": [
    "# When you are done, run this cell to load @RutgersU 's tweets.\n",
    "# Note the function get_tweets_with_cache.  You may find it useful\n",
    "# later.\n",
    "rutgers_tweets = get_tweets_with_cache(\"RutgersU\", key_file)\n",
    "print(\"Number of tweets downloaded:\", len(rutgers_tweets))"
   ]
  },
  {
   "cell_type": "markdown",
   "metadata": {
    "id": "6vhrwHw5apP5"
   },
   "source": [
    "### Task 2.2\n",
    "To be consistent we are going to use the same dataset no matter what you get from your twitter api. So from this point on, if you are working as a group or individually, be sure to use the data sets provided to you in the zip file. There should be two json files inside your data folder. One is '2017-2018.json', the other one is '2016-2017.json'. We will load the '2017-2018.json' first."
   ]
  },
  {
   "cell_type": "code",
   "execution_count": 27,
   "metadata": {
    "id": "kLq9NDhAapP5"
   },
   "outputs": [],
   "source": [
    "def load_tweets(path):\n",
    "    \"\"\"Loads tweets that have previously been saved.\n",
    "    \n",
    "    Calling load_tweets(path) after save_tweets(tweets, path)\n",
    "    will produce the same list of tweets.\n",
    "    \n",
    "    Args:\n",
    "        path (str): The place where the tweets will be saved.\n",
    "\n",
    "    Returns:\n",
    "        list: A list of Dictionary objects, each representing one tweet.\"\"\"\n",
    "    \n",
    "    with open(path, \"rb\") as f:\n",
    "        import json\n",
    "        return json.load(f)"
   ]
  },
  {
   "cell_type": "code",
   "execution_count": 31,
   "metadata": {
    "id": "xW1xN_3XapP6"
   },
   "outputs": [],
   "source": [
    "dest_path = 'data/2017-2018.json' # Enter path of '2017-2018.json' here\n",
    "trump_tweets = load_tweets(dest_path)"
   ]
  },
  {
   "cell_type": "markdown",
   "metadata": {
    "id": "_i_aHCjSapP6"
   },
   "source": [
    "If everything is working correctly correctly this should load roughly the last 3000 tweets by `realdonaldtrump`."
   ]
  },
  {
   "cell_type": "code",
   "execution_count": 32,
   "metadata": {
    "id": "xr55obB8apP6"
   },
   "outputs": [],
   "source": [
    "assert 2000 <= len(trump_tweets) <= 4000"
   ]
  },
  {
   "cell_type": "markdown",
   "metadata": {
    "id": "WjYXBPCpapP6"
   },
   "source": [
    "If the assert statement above works, then continue on to task 2.3.\n",
    "\n",
    "### Task 2.3\n",
    "\n",
    "Find the number of the month of the oldest tweet."
   ]
  },
  {
   "cell_type": "code",
   "execution_count": 66,
   "metadata": {
    "id": "lYPMcwPdapP6"
   },
   "outputs": [
    {
     "name": "stdout",
     "output_type": "stream",
     "text": [
      "10\n"
     ]
    }
   ],
   "source": [
    "# Enter the number of the month of the oldest tweet (e.g. 1 for January)\n",
    "oldest_month = 10 # Enter answer here and code below this\n",
    "from time import strptime\n",
    "\n",
    "trump_tweets = pd.DataFrame(trump_tweets)\n",
    "### BEGIN SOLUTION\n",
    "oldest_tweet = trump_tweets['created_at'].iloc[-1]\n",
    "splitted = oldest_tweet.split()\n",
    "month = strptime(splitted[1],'%b').tm_mon\n",
    "print(month)\n",
    "#*** code to compute **** \n",
    "\n",
    "### END SOLUTION"
   ]
  },
  {
   "cell_type": "markdown",
   "metadata": {
    "id": "cNdIIfM4apP6"
   },
   "source": [
    "## PART 3  Twitter Source Analysis\n",
    "\n"
   ]
  },
  {
   "cell_type": "markdown",
   "metadata": {
    "id": "bnZTwTGRapP6"
   },
   "source": [
    "### Task 3.1\n",
    "\n",
    "Create a new data frame from `2016-2017.json` and merge with `trump_tweets` \n",
    "\n",
    "**Important:** There may/will be some overlap so be sure to __eliminate duplicate tweets__. If you do not eliminate the duplicates properly, your results might not be compatible with the test solution. \n",
    "**Hint:** the `id` of a tweet is always unique."
   ]
  },
  {
   "cell_type": "code",
   "execution_count": 105,
   "metadata": {
    "id": "UKw0vaWTapP6"
   },
   "outputs": [
    {
     "data": {
      "text/html": [
       "<div>\n",
       "<style scoped>\n",
       "    .dataframe tbody tr th:only-of-type {\n",
       "        vertical-align: middle;\n",
       "    }\n",
       "\n",
       "    .dataframe tbody tr th {\n",
       "        vertical-align: top;\n",
       "    }\n",
       "\n",
       "    .dataframe thead th {\n",
       "        text-align: right;\n",
       "    }\n",
       "</style>\n",
       "<table border=\"1\" class=\"dataframe\">\n",
       "  <thead>\n",
       "    <tr style=\"text-align: right;\">\n",
       "      <th></th>\n",
       "      <th>source</th>\n",
       "      <th>id</th>\n",
       "      <th>text</th>\n",
       "      <th>created_at</th>\n",
       "      <th>retweet_count</th>\n",
       "      <th>in_reply_to_user_id_str</th>\n",
       "      <th>favorite_count</th>\n",
       "    </tr>\n",
       "  </thead>\n",
       "  <tbody>\n",
       "    <tr>\n",
       "      <th>0</th>\n",
       "      <td>Twitter for iPhone</td>\n",
       "      <td>947824196909961216</td>\n",
       "      <td>Will be leaving Florida for Washington (D.C.) today at 4:00 P.M. Much work to be done, but it will be a great New Year!</td>\n",
       "      <td>Mon Jan 01 13:37:52 +0000 2018</td>\n",
       "      <td>8237</td>\n",
       "      <td>None</td>\n",
       "      <td>51473</td>\n",
       "    </tr>\n",
       "    <tr>\n",
       "      <th>1</th>\n",
       "      <td>Twitter for iPhone</td>\n",
       "      <td>947810806430826496</td>\n",
       "      <td>Iran is failing at every level despite the terrible deal made with them by the Obama Administration. The great Iranian people have been repressed for many years. They are hungry for food &amp;amp; for freedom. Along with human rights, the wealth of Iran is being looted. TIME FOR ...</td>\n",
       "      <td>Mon Jan 01 12:44:40 +0000 2018</td>\n",
       "      <td>14595</td>\n",
       "      <td>25073877</td>\n",
       "      <td>53557</td>\n",
       "    </tr>\n",
       "    <tr>\n",
       "      <th>2</th>\n",
       "      <td>Twitter for iPhone</td>\n",
       "      <td>947802588174577664</td>\n",
       "      <td>The United States has foolishly given Pakistan more than 33 billion dollars in aid over the last 15 years, and they have given us nothing but lies &amp;amp; deceit, thinking of our leaders as fools. They give safe haven to the terrorists we hunt in Afghanistan, with little help. ...</td>\n",
       "      <td>Mon Jan 01 12:12:00 +0000 2018</td>\n",
       "      <td>49566</td>\n",
       "      <td>None</td>\n",
       "      <td>138808</td>\n",
       "    </tr>\n",
       "    <tr>\n",
       "      <th>3</th>\n",
       "      <td>Twitter for iPhone</td>\n",
       "      <td>947614110082043904</td>\n",
       "      <td>HAPPY NEW YEAR! We are MAKING AMERICA GREAT AGAIN, and much faster than anyone thought possible!</td>\n",
       "      <td>Sun Dec 31 23:43:04 +0000 2017</td>\n",
       "      <td>35164</td>\n",
       "      <td>None</td>\n",
       "      <td>154769</td>\n",
       "    </tr>\n",
       "    <tr>\n",
       "      <th>4</th>\n",
       "      <td>Twitter for iPhone</td>\n",
       "      <td>947592785519173637</td>\n",
       "      <td>As our Country rapidly grows stronger and smarter, I want to wish all of my friends, supporters, enemies, haters, and even the very dishonest Fake News Media, a Happy and Healthy New Year. 2018 will be a great year for America!</td>\n",
       "      <td>Sun Dec 31 22:18:20 +0000 2017</td>\n",
       "      <td>39428</td>\n",
       "      <td>None</td>\n",
       "      <td>157655</td>\n",
       "    </tr>\n",
       "  </tbody>\n",
       "</table>\n",
       "</div>"
      ],
      "text/plain": [
       "               source                  id  \\\n",
       "0  Twitter for iPhone  947824196909961216   \n",
       "1  Twitter for iPhone  947810806430826496   \n",
       "2  Twitter for iPhone  947802588174577664   \n",
       "3  Twitter for iPhone  947614110082043904   \n",
       "4  Twitter for iPhone  947592785519173637   \n",
       "\n",
       "                                                                                                                                                                                                                                                                                      text  \\\n",
       "0                                                                                                                                                                  Will be leaving Florida for Washington (D.C.) today at 4:00 P.M. Much work to be done, but it will be a great New Year!   \n",
       "1  Iran is failing at every level despite the terrible deal made with them by the Obama Administration. The great Iranian people have been repressed for many years. They are hungry for food &amp; for freedom. Along with human rights, the wealth of Iran is being looted. TIME FOR ...   \n",
       "2  The United States has foolishly given Pakistan more than 33 billion dollars in aid over the last 15 years, and they have given us nothing but lies &amp; deceit, thinking of our leaders as fools. They give safe haven to the terrorists we hunt in Afghanistan, with little help. ...   \n",
       "3                                                                                                                                                                                         HAPPY NEW YEAR! We are MAKING AMERICA GREAT AGAIN, and much faster than anyone thought possible!   \n",
       "4                                                      As our Country rapidly grows stronger and smarter, I want to wish all of my friends, supporters, enemies, haters, and even the very dishonest Fake News Media, a Happy and Healthy New Year. 2018 will be a great year for America!   \n",
       "\n",
       "                       created_at  retweet_count in_reply_to_user_id_str  \\\n",
       "0  Mon Jan 01 13:37:52 +0000 2018           8237                    None   \n",
       "1  Mon Jan 01 12:44:40 +0000 2018          14595                25073877   \n",
       "2  Mon Jan 01 12:12:00 +0000 2018          49566                    None   \n",
       "3  Sun Dec 31 23:43:04 +0000 2017          35164                    None   \n",
       "4  Sun Dec 31 22:18:20 +0000 2017          39428                    None   \n",
       "\n",
       "   favorite_count  \n",
       "0           51473  \n",
       "1           53557  \n",
       "2          138808  \n",
       "3          154769  \n",
       "4          157655  "
      ]
     },
     "execution_count": 105,
     "metadata": {},
     "output_type": "execute_result"
    }
   ],
   "source": [
    "# if you do not have new tweets, then all_tweets is the same as  old_trump_tweets\n",
    "\n",
    "### BEGIN SOLUTION\n",
    "old_tweets = load_tweets('data/2016-2017.json')\n",
    "old_tweets = pd.DataFrame(old_tweets)\n",
    "trump_tweets = trump_tweets.rename(columns={\"full_text\": \"text\"})\n",
    "\n",
    "all_tweets = pd.concat([old_tweets, trump_tweets], join='inner') # Store merged data in this variable\n",
    "### END SOLUTION\n",
    "assert(all_tweets.size == 70308) "
   ]
  },
  {
   "cell_type": "markdown",
   "metadata": {
    "id": "w2f3pX1TapP6"
   },
   "source": [
    "### Task 3.2\n",
    "Construct a DataFrame called `df_trump` containing all the tweets stored in `all_tweets`. The index of the dataframe should be the ID of each tweet (looks something like `907698529606541312`). It should have these columns:\n",
    "\n",
    "- `time`: The time the tweet was created encoded as a datetime object. (Use `pd.to_datetime` to encode the timestamp.)\n",
    "- `source`: The source device of the tweet.\n",
    "- `text`: The text of the tweet.\n",
    "- `retweet_count`: The retweet count of the tweet. \n",
    "\n",
    "Finally, **the resulting dataframe should be sorted by the index.**\n",
    "\n",
    "**Warning:** *Some tweets will store the text in the `text` field and other will use the `full_text` field.*\n",
    "\n",
    "**Warning:** *Don't forget to check the type of index*"
   ]
  },
  {
   "cell_type": "code",
   "execution_count": 122,
   "metadata": {
    "id": "BaBrQPLNapP6"
   },
   "outputs": [],
   "source": [
    "### BEGIN SOLUTION\n",
    "df_trump = all_tweets\n",
    "df_trump = df_trump.set_index('id')\n",
    "df_trump = df_trump.drop(columns=['in_reply_to_user_id_str', 'favorite_count'])\n",
    "df_trump = df_trump.rename(columns={\"created_at\": \"time\"})\n",
    "df_trump.head()\n",
    "df_trump['time'] = pd.to_datetime(df_trump['time'], format='%a %b %d %H:%M:%S %z %Y')\n",
    "### END SOLUTION"
   ]
  },
  {
   "cell_type": "markdown",
   "metadata": {
    "id": "w8WbUgNBapP7"
   },
   "source": [
    "In the following questions, we are going to find out the charateristics of Trump tweets and the devices used for the tweets.\n",
    "\n",
    "First let's examine the source field:"
   ]
  },
  {
   "cell_type": "code",
   "execution_count": 123,
   "metadata": {
    "id": "NiXXHDmpapP7"
   },
   "outputs": [
    {
     "data": {
      "text/plain": [
       "array(['Twitter for iPhone', 'Media Studio', 'Twitter for iPad',\n",
       "       'Twitter Web Client', 'Twitter Ads', 'Twitter for Android',\n",
       "       'Periscope', 'TweetDeck', 'Instagram', 'Mobile Web (M5)',\n",
       "       '<a href=\"http://twitter.com/download/iphone\" rel=\"nofollow\">Twitter for iPhone</a>',\n",
       "       '<a href=\"https://studio.twitter.com\" rel=\"nofollow\">Media Studio</a>',\n",
       "       '<a href=\"http://twitter.com/#!/download/ipad\" rel=\"nofollow\">Twitter for iPad</a>',\n",
       "       '<a href=\"http://twitter.com\" rel=\"nofollow\">Twitter Web Client</a>'],\n",
       "      dtype=object)"
      ]
     },
     "execution_count": 123,
     "metadata": {},
     "output_type": "execute_result"
    }
   ],
   "source": [
    "df_trump['source'].unique()"
   ]
  },
  {
   "cell_type": "markdown",
   "metadata": {
    "id": "pR-pQJ-FapP7"
   },
   "source": [
    "## Task 3.3\n",
    "\n",
    "Remove the HTML tags from the source field. \n",
    "\n",
    "**Hint:** Use `df_trump['source'].str.replace` and your favorite regular expression."
   ]
  },
  {
   "cell_type": "code",
   "execution_count": 126,
   "metadata": {
    "id": "uys4JaIuapP7"
   },
   "outputs": [],
   "source": [
    "### BEGIN SOLUTION\n",
    "import re\n",
    "df_trump['source'] = df_trump['source'].str.replace('<.*?>', '', regex=True)\n",
    "\n",
    "### END SOLUTION"
   ]
  },
  {
   "cell_type": "markdown",
   "metadata": {
    "id": "PZo4QU7MapP7"
   },
   "source": [
    "### Make a plot to find out the most common device types used in accessing twitter\n",
    "\n",
    "Sort the plot in decreasing order of the most common device type"
   ]
  },
  {
   "cell_type": "code",
   "execution_count": 129,
   "metadata": {
    "id": "WOdz32WZapP7"
   },
   "outputs": [
    {
     "data": {
      "image/png": "[encoded data removed]",
      "text/plain": [
       "<Figure size 432x288 with 1 Axes>"
      ]
     },
     "metadata": {},
     "output_type": "display_data"
    }
   ],
   "source": [
    "### BEGIN SOLUTION\n",
    "\n",
    "ax = sns.countplot(x = 'source',\n",
    "              data = df_trump,\n",
    "              order = df_trump['source'].value_counts().index)\n",
    "ax.set_xticklabels(ax.get_xticklabels(),rotation = 90);\n",
    "### END SOLUTION"
   ]
  },
  {
   "cell_type": "markdown",
   "metadata": {
    "id": "ZatUeX2capP7"
   },
   "source": [
    "### Task 3.4\n",
    "Is there a difference between his Tweet behavior across these devices? We will attempt to answer this question in our subsequent analysis.\n",
    "\n",
    "First, we'll take a look at whether Trump's tweets from an Android come at different times than his tweets from an iPhone. Note that Twitter gives us his tweets in the [UTC timezone](https://www.wikiwand.com/en/List_of_UTC_time_offsets) (notice the `+0000` in the first few tweets)\n",
    "\n",
    "**Note** - If your `time` column is not in datetime format, the following code will not work."
   ]
  },
  {
   "cell_type": "code",
   "execution_count": 130,
   "metadata": {
    "id": "VhBLwCxcapP7"
   },
   "outputs": [
    {
     "data": {
      "text/plain": [
       "id\n",
       "947824196909961216   2018-01-01 13:37:52+00:00\n",
       "947810806430826496   2018-01-01 12:44:40+00:00\n",
       "947802588174577664   2018-01-01 12:12:00+00:00\n",
       "Name: time, dtype: datetime64[ns, UTC]"
      ]
     },
     "execution_count": 130,
     "metadata": {},
     "output_type": "execute_result"
    }
   ],
   "source": [
    "df_trump['time'][0:3]"
   ]
  },
  {
   "cell_type": "markdown",
   "metadata": {
    "id": "CN0KG6ktapP7"
   },
   "source": [
    "We'll convert the tweet times to US Eastern Time, the timezone of New York and Washington D.C., since those are the places we would expect the most tweet activity from Trump."
   ]
  },
  {
   "cell_type": "code",
   "execution_count": 131,
   "metadata": {
    "id": "0uB-3WK4apP7"
   },
   "outputs": [
    {
     "data": {
      "text/html": [
       "<div>\n",
       "<style scoped>\n",
       "    .dataframe tbody tr th:only-of-type {\n",
       "        vertical-align: middle;\n",
       "    }\n",
       "\n",
       "    .dataframe tbody tr th {\n",
       "        vertical-align: top;\n",
       "    }\n",
       "\n",
       "    .dataframe thead th {\n",
       "        text-align: right;\n",
       "    }\n",
       "</style>\n",
       "<table border=\"1\" class=\"dataframe\">\n",
       "  <thead>\n",
       "    <tr style=\"text-align: right;\">\n",
       "      <th></th>\n",
       "      <th>source</th>\n",
       "      <th>text</th>\n",
       "      <th>time</th>\n",
       "      <th>retweet_count</th>\n",
       "      <th>est_time</th>\n",
       "    </tr>\n",
       "    <tr>\n",
       "      <th>id</th>\n",
       "      <th></th>\n",
       "      <th></th>\n",
       "      <th></th>\n",
       "      <th></th>\n",
       "      <th></th>\n",
       "    </tr>\n",
       "  </thead>\n",
       "  <tbody>\n",
       "    <tr>\n",
       "      <th>947824196909961216</th>\n",
       "      <td>Twitter for iPhone</td>\n",
       "      <td>Will be leaving Florida for Washington (D.C.) today at 4:00 P.M. Much work to be done, but it will be a great New Year!</td>\n",
       "      <td>2018-01-01 13:37:52+00:00</td>\n",
       "      <td>8237</td>\n",
       "      <td>2018-01-01 08:37:52-05:00</td>\n",
       "    </tr>\n",
       "    <tr>\n",
       "      <th>947810806430826496</th>\n",
       "      <td>Twitter for iPhone</td>\n",
       "      <td>Iran is failing at every level despite the terrible deal made with them by the Obama Administration. The great Iranian people have been repressed for many years. They are hungry for food &amp;amp; for freedom. Along with human rights, the wealth of Iran is being looted. TIME FOR ...</td>\n",
       "      <td>2018-01-01 12:44:40+00:00</td>\n",
       "      <td>14595</td>\n",
       "      <td>2018-01-01 07:44:40-05:00</td>\n",
       "    </tr>\n",
       "    <tr>\n",
       "      <th>947802588174577664</th>\n",
       "      <td>Twitter for iPhone</td>\n",
       "      <td>The United States has foolishly given Pakistan more than 33 billion dollars in aid over the last 15 years, and they have given us nothing but lies &amp;amp; deceit, thinking of our leaders as fools. They give safe haven to the terrorists we hunt in Afghanistan, with little help. ...</td>\n",
       "      <td>2018-01-01 12:12:00+00:00</td>\n",
       "      <td>49566</td>\n",
       "      <td>2018-01-01 07:12:00-05:00</td>\n",
       "    </tr>\n",
       "    <tr>\n",
       "      <th>947614110082043904</th>\n",
       "      <td>Twitter for iPhone</td>\n",
       "      <td>HAPPY NEW YEAR! We are MAKING AMERICA GREAT AGAIN, and much faster than anyone thought possible!</td>\n",
       "      <td>2017-12-31 23:43:04+00:00</td>\n",
       "      <td>35164</td>\n",
       "      <td>2017-12-31 18:43:04-05:00</td>\n",
       "    </tr>\n",
       "    <tr>\n",
       "      <th>947592785519173637</th>\n",
       "      <td>Twitter for iPhone</td>\n",
       "      <td>As our Country rapidly grows stronger and smarter, I want to wish all of my friends, supporters, enemies, haters, and even the very dishonest Fake News Media, a Happy and Healthy New Year. 2018 will be a great year for America!</td>\n",
       "      <td>2017-12-31 22:18:20+00:00</td>\n",
       "      <td>39428</td>\n",
       "      <td>2017-12-31 17:18:20-05:00</td>\n",
       "    </tr>\n",
       "  </tbody>\n",
       "</table>\n",
       "</div>"
      ],
      "text/plain": [
       "                                source  \\\n",
       "id                                       \n",
       "947824196909961216  Twitter for iPhone   \n",
       "947810806430826496  Twitter for iPhone   \n",
       "947802588174577664  Twitter for iPhone   \n",
       "947614110082043904  Twitter for iPhone   \n",
       "947592785519173637  Twitter for iPhone   \n",
       "\n",
       "                                                                                                                                                                                                                                                                                                       text  \\\n",
       "id                                                                                                                                                                                                                                                                                                            \n",
       "947824196909961216                                                                                                                                                                  Will be leaving Florida for Washington (D.C.) today at 4:00 P.M. Much work to be done, but it will be a great New Year!   \n",
       "947810806430826496  Iran is failing at every level despite the terrible deal made with them by the Obama Administration. The great Iranian people have been repressed for many years. They are hungry for food &amp; for freedom. Along with human rights, the wealth of Iran is being looted. TIME FOR ...   \n",
       "947802588174577664  The United States has foolishly given Pakistan more than 33 billion dollars in aid over the last 15 years, and they have given us nothing but lies &amp; deceit, thinking of our leaders as fools. They give safe haven to the terrorists we hunt in Afghanistan, with little help. ...   \n",
       "947614110082043904                                                                                                                                                                                         HAPPY NEW YEAR! We are MAKING AMERICA GREAT AGAIN, and much faster than anyone thought possible!   \n",
       "947592785519173637                                                      As our Country rapidly grows stronger and smarter, I want to wish all of my friends, supporters, enemies, haters, and even the very dishonest Fake News Media, a Happy and Healthy New Year. 2018 will be a great year for America!   \n",
       "\n",
       "                                        time  retweet_count  \\\n",
       "id                                                            \n",
       "947824196909961216 2018-01-01 13:37:52+00:00           8237   \n",
       "947810806430826496 2018-01-01 12:44:40+00:00          14595   \n",
       "947802588174577664 2018-01-01 12:12:00+00:00          49566   \n",
       "947614110082043904 2017-12-31 23:43:04+00:00          35164   \n",
       "947592785519173637 2017-12-31 22:18:20+00:00          39428   \n",
       "\n",
       "                                    est_time  \n",
       "id                                            \n",
       "947824196909961216 2018-01-01 08:37:52-05:00  \n",
       "947810806430826496 2018-01-01 07:44:40-05:00  \n",
       "947802588174577664 2018-01-01 07:12:00-05:00  \n",
       "947614110082043904 2017-12-31 18:43:04-05:00  \n",
       "947592785519173637 2017-12-31 17:18:20-05:00  "
      ]
     },
     "execution_count": 131,
     "metadata": {},
     "output_type": "execute_result"
    }
   ],
   "source": [
    "df_trump['est_time'] = (\n",
    "    df_trump['time'] # Set initial timezone to UTC\n",
    "                 .dt.tz_convert(\"EST\") # Convert to Eastern Time\n",
    ")\n",
    "df_trump.head()"
   ]
  },
  {
   "cell_type": "markdown",
   "metadata": {
    "id": "pTusdoO5apP7"
   },
   "source": [
    "**What you need to do:**\n",
    "\n",
    "Add a column called `hour` to the `df_trump` table which contains the hour of the day as floating point number computed by:\n",
    "\n",
    "$$\n",
    "\\text{hour} + \\frac{\\text{minute}}{60} + \\frac{\\text{second}}{60^2}\n",
    "$$"
   ]
  },
  {
   "cell_type": "code",
   "execution_count": 140,
   "metadata": {
    "id": "UhkJKBxeapP8"
   },
   "outputs": [],
   "source": [
    "def calc_hour(time):\n",
    "    #helper function assuming time is in datetime format\n",
    "    res = time.dt.hour + (time.dt.minute/60) + (time.dt.second/3600)\n",
    "    return res\n",
    "    \n",
    "df_trump['hour'] = calc_hour(df_trump['est_time']) # Write your code here\n",
    "df_trump['roundhour']=round(df_trump['hour'])"
   ]
  },
  {
   "cell_type": "code",
   "execution_count": 141,
   "metadata": {
    "id": "EkFBxTQOapP8"
   },
   "outputs": [],
   "source": [
    "assert np.isclose(df_trump.loc[\"690171032150237184\"]['hour'], 8.93639)\n"
   ]
  },
  {
   "cell_type": "markdown",
   "metadata": {
    "id": "Ib6CTpMTapP8"
   },
   "source": [
    "Use the `roundhour` column and plot the number of tweets at every hour of the day.\n",
    "Order the plot using the hour of the day (1 to 24). Use seaborn `countplot`"
   ]
  },
  {
   "cell_type": "code",
   "execution_count": 149,
   "metadata": {
    "id": "MQkwODiAapP8"
   },
   "outputs": [
    {
     "data": {
      "image/png": "[encoded data removed]",
      "text/plain": [
       "<Figure size 432x288 with 1 Axes>"
      ]
     },
     "metadata": {},
     "output_type": "display_data"
    }
   ],
   "source": [
    "# make a bar plot here\n",
    "### BEGIN SOLUTION\n",
    "\n",
    "ax = sns.countplot(x = 'roundhour',\n",
    "              data = df_trump)\n",
    "ax.set_xticklabels(ax.get_xticklabels(), rotation = 90);\n",
    "\n",
    "### END SOLUTION"
   ]
  },
  {
   "cell_type": "markdown",
   "metadata": {
    "id": "mGD_SCtAapP8"
   },
   "source": [
    "Now, use this data along with the seaborn `distplot` function to examine the distribution over hours of the day in eastern time that trump tweets on each device for the 2 most commonly used devices.  Your plot should look somewhat similar to the following. \n",
    "![device_hour2.png](attachment:device_hour2.png)\n"
   ]
  },
  {
   "cell_type": "code",
   "execution_count": null,
   "metadata": {
    "id": "_lXwAyKFapP8"
   },
   "outputs": [],
   "source": [
    "### BEGIN SOLUTION\n",
    "### make your plot here\n",
    "\n",
    "### END SOLUTION"
   ]
  },
  {
   "cell_type": "markdown",
   "metadata": {
    "id": "L1jbqJBqapP8"
   },
   "source": [
    "### Task 3.5\n",
    "\n",
    "According to [this Verge article](https://www.theverge.com/2017/3/29/15103504/donald-trump-iphone-using-switched-android), Donald Trump switched from an Android to an iPhone sometime in March 2017.\n",
    "\n",
    "Create a figure identical to your figure from 3.4, except that you should show the results only from 2016. If you get stuck consider looking at the `year_fraction` function from the next problem.\n",
    "\n",
    "Use this data along with the seaborn `distplot` function to examine the distribution over hours of the day in eastern time that trump tweets on each device for the 2 most commonly used devices.  Your plot should look somewhat similar to the following. \n",
    "\n",
    "During the campaign, it was theorized that Donald Trump's tweets from Android were written by him personally, and the tweets from iPhone were from his staff. Does your figure give support the theory?\n",
    "\n",
    "Response: In 2016, the time allocation for the usage of the iphone centered in the afternoon, while his tweets from 2015 to present shows that he mostly tweets in the morning. It seems that the tweets from iphone in 2016 were from his staff, not himself."
   ]
  },
  {
   "cell_type": "markdown",
   "metadata": {
    "id": "BKGr1_ULapP8"
   },
   "source": [
    "![title](images/device_hour2.png)"
   ]
  },
  {
   "cell_type": "code",
   "execution_count": null,
   "metadata": {
    "id": "QHtptHMCapP8"
   },
   "outputs": [],
   "source": [
    "### BEGIN SOLUTION\n",
    "\n",
    "# code to plot\n",
    "\n",
    "### END SOLUTION"
   ]
  },
  {
   "cell_type": "markdown",
   "metadata": {
    "id": "1XFRyB9FapP8"
   },
   "source": [
    "### Task 3.6\n",
    "Edit this cell to answer the following questions.\n",
    "* What time of the day the Android tweets were made by Trump himself? (eg: morning, late night etc)\n",
    "\n",
    "* What time of the day the Android tweets were made by paid staff?\n",
    "\n",
    "\n",
    "Note that these are speculations based on what you observe in the data set."
   ]
  },
  {
   "cell_type": "markdown",
   "metadata": {
    "id": "P0zbpLZUapP9"
   },
   "source": [
    "### Task 3.7 Device Analysis\n",
    "Let's now look at which device he has used over the entire time period of this dataset.\n",
    "\n",
    "To examine the distribution of dates we will convert the date to a fractional year that can be plotted as a distribution.\n",
    "\n",
    "(Code borrowed from https://stackoverflow.com/questions/6451655/python-how-to-convert-datetime-dates-to-decimal-years)"
   ]
  },
  {
   "cell_type": "code",
   "execution_count": null,
   "metadata": {
    "id": "4OEbR4afapP9"
   },
   "outputs": [],
   "source": [
    "import datetime\n",
    "def year_fraction(date):\n",
    "    start = datetime.date(date.year, 1, 1).toordinal()\n",
    "    year_length = datetime.date(date.year+1, 1, 1).toordinal() - start\n",
    "    return date.year + float(date.toordinal() - start) / year_length\n",
    "\n",
    "\n",
    "df_trump['year'] = df_trump['time'].apply(year_fraction) #should be df_trump"
   ]
  },
  {
   "cell_type": "markdown",
   "metadata": {
    "id": "7j4xEBAOapP9"
   },
   "source": [
    "Use the `sns.distplot` to overlay the distributions of the 2 most frequently used web technologies over the years.  Your final plot should be similar to:\n",
    "\n",
    "![source_years.png](attachment:source_years.png)"
   ]
  },
  {
   "cell_type": "code",
   "execution_count": null,
   "metadata": {
    "id": "oRdFIObiapP9"
   },
   "outputs": [],
   "source": [
    "### BEGIN SOLUTION\n",
    "#plt.figure(figsize=(15,15))\n",
    "\n",
    "\n",
    "### END SOLUTION"
   ]
  },
  {
   "cell_type": "markdown",
   "metadata": {
    "id": "Nn0opKxWapP9"
   },
   "source": [
    "## PART 4 - Sentiment Analysis\n",
    "\n",
    "It turns out that we can use the words in Trump's tweets to calculate a measure of the sentiment of the tweet. For example, the sentence \"I love America!\" has positive sentiment, whereas the sentence \"I hate taxes!\" has a negative sentiment. In addition, some words have stronger positive / negative sentiment than others: \"I love America.\" is more positive than \"I like America.\"\n",
    "\n",
    "We will use the [VADER (Valence Aware Dictionary and sEntiment Reasoner)](https://github.com/cjhutto/vaderSentiment) lexicon to analyze the sentiment of Trump's tweets. VADER is a lexicon and rule-based sentiment analysis tool that is specifically attuned to sentiments expressed in social media which is great for our usage.\n",
    "\n",
    "The VADER lexicon gives the sentiment of individual words. Run the following cell to show the first few rows of the lexicon:"
   ]
  },
  {
   "cell_type": "code",
   "execution_count": null,
   "metadata": {
    "id": "NICSCaj_apP9",
    "outputId": "f2ddb09d-b75a-41c9-a12b-89eec667c346"
   },
   "outputs": [
    {
     "name": "stdout",
     "output_type": "stream",
     "text": [
      "$:\t-1.5\t0.80623\t[-1, -1, -1, -1, -3, -1, -3, -1, -2, -1]\n",
      "%)\t-0.4\t1.0198\t[-1, 0, -1, 0, 0, -2, -1, 2, -1, 0]\n",
      "%-)\t-1.5\t1.43178\t[-2, 0, -2, -2, -1, 2, -2, -3, -2, -3]\n",
      "&-:\t-0.4\t1.42829\t[-3, -1, 0, 0, -1, -1, -1, 2, -1, 2]\n",
      "&:\t-0.7\t0.64031\t[0, -1, -1, -1, 1, -1, -1, -1, -1, -1]\n",
      "( '}{' )\t1.6\t0.66332\t[1, 2, 2, 1, 1, 2, 2, 1, 3, 1]\n",
      "(%\t-0.9\t0.9434\t[0, 0, 1, -1, -1, -1, -2, -2, -1, -2]\n",
      "('-:\t2.2\t1.16619\t[4, 1, 4, 3, 1, 2, 3, 1, 2, 1]\n",
      "(':\t2.3\t0.9\t[1, 3, 3, 2, 2, 4, 2, 3, 1, 2]\n",
      "((-:\t2.1\t0.53852\t[2, 2, 2, 1, 2, 3, 2, 2, 3, 2]\n",
      "\n"
     ]
    }
   ],
   "source": [
    "print(''.join(open(\"data/vader_lexicon.txt\").readlines()[:10]))"
   ]
  },
  {
   "cell_type": "markdown",
   "metadata": {
    "id": "Cqr5pItGapP9"
   },
   "source": [
    "### Task 4.1\n",
    "\n",
    "As you can see, the lexicon contains emojis too! The first column of the lexicon is the *token*, or the word itself. The second column is the *polarity* of the word, or how positive / negative it is.\n",
    "\n",
    "(How did they decide the polarities of these words? What are the other two columns in the lexicon? See the link above.)\n",
    "\n",
    " Read in the lexicon into a DataFrame called `df_sent`. The index of the DF should be the tokens in the lexicon. `df_sent` should have one column: `polarity`: The polarity of each token."
   ]
  },
  {
   "cell_type": "code",
   "execution_count": null,
   "metadata": {
    "id": "TR_upovHapP9"
   },
   "outputs": [],
   "source": [
    "### BEGIN SOLUTION\n",
    "\n",
    "\n",
    "### END SOLUTION"
   ]
  },
  {
   "cell_type": "markdown",
   "metadata": {
    "id": "rP0VMBSFapP9"
   },
   "source": [
    "### Task 4.2\n",
    "\n",
    "Now, let's use this lexicon to calculate the overall sentiment for each of Trump's tweets. Here's the basic idea:\n",
    "\n",
    "1. For each tweet, find the sentiment of each word.\n",
    "2. Calculate the sentiment of each tweet by taking the sum of the sentiments of its words.\n",
    "\n",
    "First, let's lowercase the text in the tweets since the lexicon is also lowercase. Set the `text` column of the `df_trump` DF to be the lowercased text of each tweet."
   ]
  },
  {
   "cell_type": "code",
   "execution_count": null,
   "metadata": {
    "id": "s5sBadfbapP9"
   },
   "outputs": [],
   "source": [
    "### BEGIN SOLUTION\n",
    "\n",
    "\n",
    "### END SOLUTION"
   ]
  },
  {
   "cell_type": "markdown",
   "metadata": {
    "id": "cqK4HQNVapP-"
   },
   "source": [
    "### Task 4.3\n",
    "\n",
    "Now, let's get rid of punctuation since it'll cause us to fail to match words. Create a new column called `no_punc` in the `df_trump` to be the lowercased text of each tweet with all punctuation replaced by a single space. We consider punctuation characters to be any character that isn't a Unicode word character or a whitespace character. You may want to consult the Python documentation on regexes for this problem.\n",
    "\n",
    "(Why don't we simply remove punctuation instead of replacing with a space? See if you can figure this out by looking at the tweet data.)"
   ]
  },
  {
   "cell_type": "code",
   "execution_count": null,
   "metadata": {
    "id": "QNAvW1axapP-"
   },
   "outputs": [],
   "source": [
    "# Save your regex in punct_re\n",
    "punct_re = r'[^\\w\\s\\\\n]'\n",
    "\n",
    "\n",
    "### BEGIN SOLUTION\n",
    "\n",
    "\n",
    "### END SOLUTION"
   ]
  },
  {
   "cell_type": "code",
   "execution_count": null,
   "metadata": {
    "id": "fmaOn2D7apP-"
   },
   "outputs": [],
   "source": [
    "assert isinstance(punct_re, str)\n",
    "assert re.search(punct_re, 'this') is None\n",
    "assert re.search(punct_re, 'this is ok') is None\n",
    "assert re.search(punct_re, 'this is\\nok') is None\n",
    "assert re.search(punct_re, 'this is not ok.') is not None\n",
    "assert re.search(punct_re, 'this#is#ok') is not None\n",
    "assert re.search(punct_re, 'this^is ok') is not None\n",
    "assert df_trump['no_punc'].loc[800329364986626048] == 'i watched parts of  nbcsnl saturday night live last night  it is a totally one sided  biased show   nothing funny at all  equal time for us '\n",
    "assert df_trump['text'].loc[884740553040175104] == 'working hard to get the olympics for the united states (l.a.). stay tuned!'\n"
   ]
  },
  {
   "cell_type": "markdown",
   "metadata": {
    "id": "2KsT--c-apP-"
   },
   "source": [
    "### Task 4.4\n",
    "\n",
    "\n",
    "Now, let's convert the tweets into what's called a [*tidy format*](https://cran.r-project.org/web/packages/tidyr/vignettes/tidy-data.html) to make the sentiments easier to calculate. Use the `no_punc` column of `df_trump` to create a table called `tidy_format`. The index of the table should be the IDs of the tweets, repeated once for every word in the tweet. It has two columns:\n",
    "\n",
    "1. `num`: The location of the word in the tweet. For example, if the tweet was \"i love america\", then the location of the word \"i\" is 0, \"love\" is 1, and \"america\" is 2.\n",
    "2. `word`: The individual words of each tweet.\n",
    "\n",
    "The first few rows of our `tidy_format` table look like:\n",
    "\n",
    "<table border=\"1\" class=\"dataframe\">\n",
    "  <thead>\n",
    "    <tr style=\"text-align: right;\">\n",
    "      <th></th>\n",
    "      <th>num</th>\n",
    "      <th>word</th>\n",
    "    </tr>\n",
    "  </thead>\n",
    "  <tbody>\n",
    "    <tr>\n",
    "      <th>894661651760377856</th>\n",
    "      <td>0</td>\n",
    "      <td>i</td>\n",
    "    </tr>\n",
    "    <tr>\n",
    "      <th>894661651760377856</th>\n",
    "      <td>1</td>\n",
    "      <td>think</td>\n",
    "    </tr>\n",
    "    <tr>\n",
    "      <th>894661651760377856</th>\n",
    "      <td>2</td>\n",
    "      <td>senator</td>\n",
    "    </tr>\n",
    "    <tr>\n",
    "      <th>894661651760377856</th>\n",
    "      <td>3</td>\n",
    "      <td>blumenthal</td>\n",
    "    </tr>\n",
    "    <tr>\n",
    "      <th>894661651760377856</th>\n",
    "      <td>4</td>\n",
    "      <td>should</td>\n",
    "    </tr>\n",
    "  </tbody>\n",
    "</table>\n",
    "\n",
    "You can double check that your tweet with ID `894661651760377856` has the same rows as ours. Our tests don't check whether your table looks exactly like ours.\n",
    "\n",
    "As usual, try to avoid using any for loops. Our solution uses a chain of 5 methods on the 'trump' DF, albeit using some rather advanced Pandas hacking.\n",
    "\n",
    "* **Hint 1:** Try looking at the `expand` argument to pandas' `str.split`.\n",
    "\n",
    "* **Hint 2:** Try looking at the `stack()` method.\n",
    "\n",
    "* **Hint 3:** Try looking at the `level` parameter of the `reset_index` method."
   ]
  },
  {
   "cell_type": "code",
   "execution_count": null,
   "metadata": {
    "id": "BqaENYt3apP-"
   },
   "outputs": [],
   "source": [
    "#tidy_format = ...\n",
    "\n",
    "### BEGIN SOLUTION\n",
    "\n",
    "\n",
    "### END SOLUTION"
   ]
  },
  {
   "cell_type": "code",
   "execution_count": null,
   "metadata": {
    "id": "WPHMJKK1apP-"
   },
   "outputs": [],
   "source": [
    "assert tidy_format.loc[894661651760377856].shape == (27, 2)\n",
    "assert ' '.join(list(tidy_format.loc[894661651760377856]['word'])) == 'i think senator blumenthal should take a nice long vacation in vietnam where he lied about his service so he can at least say he was there'"
   ]
  },
  {
   "cell_type": "markdown",
   "metadata": {
    "id": "LCkJmueyapP-"
   },
   "source": [
    "### Task 4.5\n",
    "\n",
    "Now that we have this table in the tidy format, it becomes much easier to find the sentiment of each tweet: we can join the table with the lexicon table. \n",
    "\n",
    "Add a `polarity` column to the `df_trump` table.  The `polarity` column should contain the sum of the sentiment polarity of each word in the text of the tweet.\n",
    "\n",
    "**Hint** you will need to merge the `tidy_format` and `df_sent` tables and group the final answer.\n"
   ]
  },
  {
   "cell_type": "code",
   "execution_count": null,
   "metadata": {
    "id": "Aem_gXlMapP-"
   },
   "outputs": [],
   "source": [
    "#df_trump['polarity'] = ...\n",
    "\n",
    "### BEGIN SOLUTION\n",
    "\n",
    "\n",
    "df_trump\n",
    "### END SOLUTION"
   ]
  },
  {
   "cell_type": "code",
   "execution_count": null,
   "metadata": {
    "id": "mhgNONHiapP-"
   },
   "outputs": [],
   "source": [
    "assert np.allclose(df_trump.loc[744701872456536064, 'polarity'], 8.4)\n",
    "assert np.allclose(df_trump.loc[745304731346702336, 'polarity'], 2.5)\n",
    "assert np.allclose(df_trump.loc[744519497764184064, 'polarity'], 1.7)\n",
    "assert np.allclose(df_trump.loc[894661651760377856, 'polarity'], 0.2)\n",
    "assert np.allclose(df_trump.loc[894620077634592769, 'polarity'], 5.4)\n",
    "# If you fail this test, you dropped tweets with 0 polarity\n",
    "#assert np.allclose(df_trump.loc[744355251365511169, 'polarity'], 0.0)\n"
   ]
  },
  {
   "cell_type": "markdown",
   "metadata": {
    "id": "7iNmWEDNapP-"
   },
   "source": [
    "### Task 4.6\n",
    "Now we have a measure of the sentiment of each of his tweets! You can read over the VADER readme to understand a more robust sentiment analysis.\n",
    "Now, write the code to see the most positive and most negative tweets from Trump in your dataset:\n",
    "Find the most negative and most positive tweets made by Trump"
   ]
  },
  {
   "cell_type": "code",
   "execution_count": null,
   "metadata": {
    "id": "MFanLgGlapP-"
   },
   "outputs": [],
   "source": [
    "### BEGIN SOLUTION\n",
    "\n",
    "print('Most negative tweets:')\n",
    "\n",
    "### END SOLUTION"
   ]
  },
  {
   "cell_type": "code",
   "execution_count": null,
   "metadata": {
    "id": "b66zMSi6apP_"
   },
   "outputs": [],
   "source": [
    "### BEGIN SOLUTION\n",
    "\n",
    "print('Most positive tweets:')\n",
    "\n",
    "    \n",
    "### END SOLUTION"
   ]
  },
  {
   "cell_type": "markdown",
   "metadata": {
    "id": "rBTcV47lapP_"
   },
   "source": [
    "### Task 4.7\n",
    "Plot the distribution of tweet sentiments broken down by whether the text of the tweet contains `nyt` or `fox`.  Then in the box below comment on what we observe?\n",
    "\n",
    "![title](images/nyt_vs_fox.png)"
   ]
  },
  {
   "cell_type": "code",
   "execution_count": null,
   "metadata": {
    "id": "0ktQdImsapP_"
   },
   "outputs": [],
   "source": [
    "### BEGIN SOLUTION\n",
    "\n",
    "### END SOLUTION"
   ]
  },
  {
   "cell_type": "markdown",
   "metadata": {
    "id": "-Z4exTkuapP_"
   },
   "source": [
    "##### Comment on what you observe:\n",
    "\n",
    "#### BEGIN SOLUTION\n",
    "\n",
    "\n",
    "#### END SOLUTION"
   ]
  },
  {
   "cell_type": "markdown",
   "metadata": {
    "id": "RnpgkUcpapP_"
   },
   "source": [
    "## PART 5 - Principal Component Analysis (PCA) and Twitter\n",
    "A look at the top words used and the sentiments expressed in Trump tweets indicates that, some words are used with others almost all the time. A notable example is the slogan like Make America Great Again. As such, it may be beneficial to look at groups of words rather than individual words. For that, we will look at an approach applying a Principal Component Analysis. \n",
    "\n",
    "### The PCA\n",
    "The Principal Component Analysis, or PCA, is a tool generally used to identify patterns and to reduce the number of variables you have to consider in your analysis. For example, if you have data with 200 columns, it may be that a significant amount of the variance in your data can be explained by just 100 principal components. In the PCA, the first component is chosen in such a way that has the largest variance, subsequent components are orthogonal and continue covering as much variance as possible. In this way, the PCA samples as much of the variability in the data set with the first few components. Mathematically, each component is a linear combination of all the input parameters times coefficients specific for that component. These coefficients, or loading factors, are constrained such that the sum of the squares of them are equal to 1. As such, the loading factors serve as weights describing how strongly certain parameters contribute to the specific principal component. Parameters with large values of positive or negative loading factors are correlated with each other, which can serve to identify trends in your data."
   ]
  },
  {
   "cell_type": "markdown",
   "metadata": {
    "id": "o9zY4IQFapP_"
   },
   "source": [
    "### Task 5.1 Cleaning up the Data\n",
    "Using NLTK (Natural Language Toolkit) package for language processing and other python libraries, parse the json file to deal with inflected words, such as plurals, and removed stop words like common English words (the, and, it, etc) and certain political terms (the candidates names, for example). You can start with the top 50 words, but full analysis may require large number of words.\n",
    "Create a document-frequecy (df) matrix with 5000 rows and 50 columns where each column is a particular word (feature) and each row is a tweet (observation). The values of the matrix is how often the word appears. Apply the techniques we learned to reduce the weight of most common words (if necessary). Since this is a sparse matrix, you can use the sparse martix libraries to make things a bit more efficient (we can also use a regular numpy arrays to store these things since the dimensions are not too large). Lecture 6.1 captures some sparse matrix routines you can use.\n",
    "Print the first 10 rows of the df to show the matrix you created\n",
    "\n",
    "Start with the `tidy_format` dataframe"
   ]
  },
  {
   "cell_type": "code",
   "execution_count": null,
   "metadata": {
    "id": "oiWydwJJapP_"
   },
   "outputs": [],
   "source": [
    "### BEGIN SOLUTION\n",
    "## code to plot the first 10 rows of the matrix\n",
    "import nltk\n",
    "import nltk.corpus\n",
    "nltk.download('stopwords')\n",
    "nltk.download('wordnet')\n",
    "\n",
    "#create a dataframe called tmp to store all words appear in the tweets\n",
    "\n",
    "\n",
    "\n",
    "#remove stopwords\n",
    "\n",
    "#deal with plurals\n",
    "\n",
    "\n",
    "# Remove numbers\n",
    "\n",
    "\n",
    "#Remove words with only 1 or 2 length\n",
    "\n",
    "### END SOLUTION\n",
    "\n",
    "\n"
   ]
  },
  {
   "cell_type": "markdown",
   "metadata": {
    "id": "ArZki_hcapP_"
   },
   "source": [
    "### Task 5.2 Find the PCA's\n",
    "Write the code to find the first 50 PCA's for the document-frequency matrix. Pass the document-term-matrix to scikit-learn’s (https://scikit-learn.org/stable/modules/decomposition.html#decompositions) PCA method to obtain the components and loading factors."
   ]
  },
  {
   "cell_type": "code",
   "execution_count": null,
   "metadata": {
    "id": "CRABWO6xapP_"
   },
   "outputs": [],
   "source": [
    "### BEGIN SOLUTION\n",
    "\n",
    "\n",
    "\n",
    "\n",
    "### END SOLUTION"
   ]
  },
  {
   "cell_type": "markdown",
   "metadata": {
    "id": "UCjL4BbYapQA"
   },
   "source": [
    "### Task 5.3 Examine the PCA\n",
    "We can examine the PCA results to look at the heatmap. Make a grid plot which shows the various principal component along the x-axis and the individual words along the y-axes. Each grid box should be color-coded based on the sign of the loading factor and how large the square of that value is. Looking at it vertically, you can see which words constitute your principal components. Looking at it horizontally, you can see how individual terms are shared between components. \n",
    "\n",
    "![title](images/pca.png)\n",
    "\n"
   ]
  },
  {
   "cell_type": "code",
   "execution_count": null,
   "metadata": {
    "id": "FeF4AKiPapQA"
   },
   "outputs": [],
   "source": [
    "### BEGIN SOLUTION\n",
    "\n",
    "\n",
    "\n",
    "### END SOLUTION"
   ]
  },
  {
   "cell_type": "markdown",
   "metadata": {
    "id": "BASs-3ERapQA"
   },
   "source": [
    "### Task 5.4 PCA Compare\n",
    "We can determine how many words and how many components are needed to do a good visualization. Plot PC1 and PC2 in a 2D plot. The results should be similar to following scatter plot \n",
    "\n",
    "![title](images/PC1_PC2.png)\n",
    "\n",
    "This is a scatter plot of the values of the components, but with arrows indicating some of the prominent terms as indicated by their loading factors. The values of the loading factors are used to determine the length and direction of these arrows and as such they serve as a way of expressing direction. That is, tweets which use these terms will be moved along the length of those arrows. Shown are the most important parameters."
   ]
  },
  {
   "cell_type": "code",
   "execution_count": null,
   "metadata": {
    "id": "Kw7mi75wapQA"
   },
   "outputs": [],
   "source": [
    "### BEGIN SOLUTION\n",
    "\n",
    "\n",
    "### END SOLUTION"
   ]
  },
  {
   "cell_type": "markdown",
   "metadata": {
    "id": "n2-oIKbeapQA"
   },
   "source": [
    "## PART 6 - Twitter Engagement\n",
    "\n",
    "In this problem, we'll explore which words led to a greater average number of retweets. For example, at the time of this writing, Donald Trump has two tweets that contain the word 'oakland' (tweets 932570628451954688 and 1016609920031117312) with 36757 and 10286 retweets respectively, for an average of 23,521.5.\n",
    "\n",
    "\n",
    "Your `top_20` table should have this format:\n",
    "\n",
    "<table border=\"1\" class=\"dataframe\">\n",
    "  <thead>\n",
    "    <tr style=\"text-align: right;\">\n",
    "      <th></th>\n",
    "      <th>retweet_count</th>\n",
    "    </tr>\n",
    "    <tr>\n",
    "      <th>word</th>\n",
    "      <th></th>\n",
    "    </tr>\n",
    "  </thead>\n",
    "  <tbody>\n",
    "    <tr>\n",
    "      <th>jong</th>\n",
    "      <td>40675.666667</td>\n",
    "    </tr>\n",
    "    <tr>\n",
    "      <th>try</th>\n",
    "      <td>33937.800000</td>\n",
    "    </tr>\n",
    "    <tr>\n",
    "      <th>kim</th>\n",
    "      <td>32849.595745</td>\n",
    "    </tr>\n",
    "    <tr>\n",
    "      <th>un</th>\n",
    "      <td>32741.731707</td>\n",
    "    </tr>\n",
    "    <tr>\n",
    "      <th>maybe</th>\n",
    "      <td>30473.192308</td>\n",
    "    </tr>\n",
    "  </tbody>\n",
    "</table>"
   ]
  },
  {
   "cell_type": "markdown",
   "metadata": {
    "id": "3MzFQJDUapQA"
   },
   "source": [
    "### Task 6.1\n",
    "Find the top 20 most retweeted words. Include only words that appear in at least 25 tweets. As usual, try to do this without any for loops. You can string together ~5-7 pandas commands and get everything done on one line."
   ]
  },
  {
   "cell_type": "code",
   "execution_count": null,
   "metadata": {
    "id": "LIiOKJjuapQA"
   },
   "outputs": [],
   "source": [
    "#top_20 = ...\n",
    "### BEGIN SOLUTION\n",
    "\n",
    "### END SOLUTION"
   ]
  },
  {
   "cell_type": "markdown",
   "metadata": {
    "id": "5lSh8NdyapQA"
   },
   "source": [
    "### Task 6.2\n",
    "Plot a bar chart of your results:"
   ]
  },
  {
   "cell_type": "code",
   "execution_count": null,
   "metadata": {
    "id": "CPahzHsVapQA"
   },
   "outputs": [],
   "source": [
    "### BEGIN SOLUTION\n",
    "\n",
    "### BEGIN SOLUTION"
   ]
  },
  {
   "cell_type": "markdown",
   "metadata": {
    "id": "3CzsT89dapQA"
   },
   "source": [
    "## PART 7 - Conclusion (Optional for Individual)\n",
    "What else can we do? Let us ask some open ended questions."
   ]
  },
  {
   "cell_type": "markdown",
   "metadata": {
    "id": "00lj_c39apQA"
   },
   "source": [
    "### Task 7.1\n",
    "\"kim\", \"jong\" and \"un\" are apparently really popular in Trump's tweets! It seems like we can conclude that his tweets involving jong are more popular than his other tweets. Or can we?\n",
    "\n",
    "Consider each of the statements about possible confounding factors below. State whether each statement is true or false and explain. If the statement is true, state whether the confounding factor could have made kim jong un related tweets higher in the list than they should be.\n",
    "\n",
    "1. We didn't restrict our word list to nouns, so we have unhelpful words like \"let\" and \"any\" in our result.\n",
    "      - That might be why 'un' is the most popular.\n",
    "1. We didn't remove hashtags in our text, so we have duplicate words (eg. #great and great).\n",
    "      - Some may only have '#great' not 'great' which make the average lower\n",
    "1. We didn't account for the fact that Trump's follower count has increased over time.\n",
    "      - This can affect a lot. As Trump's follower count has increased, the more popular every word be"
   ]
  },
  {
   "cell_type": "code",
   "execution_count": null,
   "metadata": {
    "id": "dShu7ypuapQB"
   },
   "outputs": [],
   "source": [
    "#### BEGIN SOLUTION\n",
    "#plt.figure(figsize=(20,20))\n",
    "\n",
    "#### END SOLUTION"
   ]
  },
  {
   "cell_type": "markdown",
   "metadata": {
    "id": "b6SBTwpsapQB"
   },
   "source": [
    "### Task 7.2\n",
    "Using the `df_trump` tweets construct an interesting plot describing a property of the data and discuss what you found below.\n",
    "\n",
    "**Ideas:**\n",
    "\n",
    "1. How has the sentiment changed with length of the tweets?\n",
    "1. Does sentiment affect retweet count?\n",
    "1. Are retweets more negative than regular tweets?\n",
    "1. Are there any spikes in the number of retweets and do the correspond to world events? \n",
    "1. What terms have an especially positive or negative sentiment?\n",
    "\n",
    "You can look at other data sources and even tweets. Do some plots and discuss. You can add more cells here as needed.\n"
   ]
  },
  {
   "cell_type": "code",
   "execution_count": null,
   "metadata": {
    "id": "qqshSSqVapQB"
   },
   "outputs": [],
   "source": [
    "#### BEGIN SOLUTION\n",
    "\n",
    "\n",
    "\n",
    "#### END SOLUTION\n"
   ]
  },
  {
   "cell_type": "markdown",
   "metadata": {
    "id": "Cs8GlQj2apQB"
   },
   "source": [
    "#### BEGIN SOLUTION\n",
    "Discussion: \"Enter question you tried answering\"\n",
    "\n",
    "Answer:\n",
    "#### END SOLUTION"
   ]
  },
  {
   "cell_type": "markdown",
   "metadata": {
    "id": "mdfBoczTapQB"
   },
   "source": [
    "### Group Part - Find Something interesting (Optional for Individuals)\n",
    "Is there still something interesting to find in this data set? Use your own imagination to ask some good questions. Don't be bias and look for the answer in data. Don't ask us what we want, because we do not know either. This will be for EXTRA CREDIT for individuals but part of the regular assignment for groups. Add any cells below.\n"
   ]
  },
  {
   "cell_type": "markdown",
   "metadata": {
    "id": "WHDvFI8bapQB"
   },
   "source": [
    "<div class=\"alert alert-block alert-info\">\n",
    "<h2>Submission Instructions</h2> \n",
    "<b> File Name:</b> Please name the file as yourSection_yourNetID_midsemester.jpynb<br>\n",
    "<b> Group Projects:</b> Each person in the group must submit a copy with both names listed. If you are doing a group project, you must inform your TA prior to 11/3/21 that you intend to work as a group and submit your name and your partner name. We will <b>not accept group work</b> if your TA has not been notified.<br>\n",
    "<b> Submit To: </b> Canvas &rarr; Assignments &rarr; midsemester (remove all output. Do not submit data files<br>\n",
    "<b>Warning:</b> Failure to follow directions may result in loss points.<br>\n",
    "</div>"
   ]
  },
  {
   "cell_type": "markdown",
   "metadata": {
    "id": "gjF3QW2tapQB"
   },
   "source": [
    "Created by Andy Guna @2019-2021 Credits: Josh Hug, and Berkeley Data Science Group, Steve Skiena, David Rodreguez"
   ]
  }
 ],
 "metadata": {
  "colab": {
   "name": "MidSemester Project - F21.ipynb",
   "provenance": []
  },
  "kernelspec": {
   "display_name": "Python 3",
   "language": "python",
   "name": "python3"
  },
  "language_info": {
   "codemirror_mode": {
    "name": "ipython",
    "version": 3
   },
   "file_extension": ".py",
   "mimetype": "text/x-python",
   "name": "python",
   "nbconvert_exporter": "python",
   "pygments_lexer": "ipython3",
   "version": "3.8.8"
  }
 },
 "nbformat": 4,
 "nbformat_minor": 1
}
