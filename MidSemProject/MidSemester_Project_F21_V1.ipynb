{
 "cells": [
  {
   "cell_type": "markdown",
   "metadata": {
    "id": "6uBju7svapPs"
   },
   "source": [
    "<div class=\"alert alert-block alert-info\">\n",
    "<h3>Student(s) Information</h3> Please provide information about yourself.<br>\n",
    "<b>Name1</b>: Aarif Razak <br>\n",
    "<b>Name2 (optional) </b>: Catherine Nguyen<br>\n",
    "<b>NetID 1</b>: ahr58 <br>\n",
    "<b>NetID 2 (optional)</b>: cvn12 <br>\n",
    "<b>Notes to Grader</b> (optional):<br>\n",
    "<br><br>\n",
    "<b>IMPORTANT</b>\n",
    "Your work will not be graded withour your initials below<br>\n",
    "I certify that this lab represents my own work and I have read the RU academic intergrity policies at<br>\n",
    "<a href=\"https://www.cs.rutgers.edu/academic-integrity/introduction\">https://www.cs.rutgers.edu/academic-integrity/introduction </a><br>\n",
    "<b>Initials</b>: AR, CN    \n",
    "\n",
    "\n",
    "<h3>Grader Notes</h3>\n",
    "<b>Your Grade<b>:<br>\n",
    "<b>Grader Initials</b>:<br>\n",
    "<b>Grader Comments</b> (optional):<br>\n",
    "</div>\n",
    "\n",
    "### CS 439 - Introduction to Data Science\n",
    "### Fall 2021\n",
    "\n",
    "# Midsemester Project : Twitter Data Analysis\n",
    "\n",
    "### Due Date : November 14th, 2021 by 11:59 PM\n",
    "\n",
    "\n",
    "### About this project\n",
    "This is your mid-semester project. You are allowed to work with a partner (if you'd like). Only one partner (or max two per group is allowed). The goal of this mid-semester project is to work with Twitter API to analyze tweets from a person, and in this case, President Donald Trump.  @RealDonaldTrump tweets provide a great opportunity to understand how online media can be used to communicate over the traditional media. Moreoover, Trump tweets has become so consequential, they actually can move the stock market on short term and get network TV to debate and discuss hours and hours about what Trump meant.\n",
    "\n",
    "We hope this project will be fun as we can analyze range of emotions, hope, controversy, vagueness that are part of Trump tweets. We are interested in seeing what conclusions you can draw from US Presidents tweets. \n",
    "* DISCLAIMER: This project is not designed with any bias in mind. Note that we could pick either candiadate (Hillary Clinton or Donald Trump) or anyone else to do the same analysis. We hope your analysis is objective, independent of any political bias you may have. As Data Scientists, it is our responsiblity to do independent analysis of the data we try to understand. You should follow data and interpret w/o any bias.\n"
   ]
  },
  {
   "cell_type": "markdown",
   "metadata": {
    "id": "nrwHuwfbapPw"
   },
   "source": [
    "## Set up\n",
    "Let us get all the libaries initialized as necessary"
   ]
  },
  {
   "cell_type": "code",
   "execution_count": 306,
   "metadata": {
    "id": "M_FL--h5apPw"
   },
   "outputs": [],
   "source": [
    "# Run this cell to set up your notebook\n",
    "import csv\n",
    "import numpy as np\n",
    "import pandas as pd\n",
    "import matplotlib.pyplot as plt\n",
    "import zipfile\n",
    "import json\n",
    "\n",
    "# Ensure that Pandas shows at least 280 characters in columns, so we can see full tweets\n",
    "pd.set_option('max_colwidth', 280)\n",
    "\n",
    "%matplotlib inline\n",
    "plt.style.use('fivethirtyeight')\n",
    "import seaborn as sns\n",
    "sns.set()\n",
    "sns.set_context(\"talk\")\n",
    "import re"
   ]
  },
  {
   "cell_type": "markdown",
   "metadata": {
    "id": "6ORGPFVgapPx"
   },
   "source": [
    "## Downloading Recent Tweets\n",
    "It is important to download the most recent tweets (especially if you are working as a group). Those who are working by themselves are allowed to use the downloaded files w/o setting up access to any twitter API (which can sometime be bit complicated). Twitter provides the API Tweepy (http://www.tweepy.org/) that makes it easy to access twitter content that is publicly available. We will also provide example code as needed."
   ]
  },
  {
   "cell_type": "code",
   "execution_count": 307,
   "metadata": {
    "id": "JOOqNiaJapPy"
   },
   "outputs": [],
   "source": [
    "## Make sure you have set up tweepy if you are working locally.\n",
    "# https://www.pythoncentral.io/introduction-to-tweepy-twitter-for-python/\n",
    "# After set up, the following should run:\n",
    "import tweepy"
   ]
  },
  {
   "cell_type": "markdown",
   "metadata": {
    "id": "pSnwuTGlapPy"
   },
   "source": [
    "## PART 1:  Accessing Twitter API  (optional for individuals)\n",
    "In order to access Twitter API, you need to get keys by signing up as a Twitter developer. We will walk you through this process. \n",
    "* if you are working by yourself on this project, you can skip PART 1, and complete the project using the data files provided in the data folder. PART 1 is optional for those working by themselves. However, we highly recommend that you do Part 1 (after completing the project with offline data) if you would like to \"learn\" how to use Twitter API that might be useful."
   ]
  },
  {
   "cell_type": "markdown",
   "metadata": {
    "id": "4ua3d1joapPz"
   },
   "source": [
    "### Task 1.1\n",
    "\n",
    "Follow the instructions below to get your Twitter API keys.  **Read the instructions completely before starting.**\n",
    "\n",
    "1. [Create a Twitter account](https://twitter.com/).  You can use an existing account if you have one; if you prefer to not do this assignment under your regular account, feel free to create a throw-away account.\n",
    "2. Under account settings, add your phone number to the account.\n",
    "3. [Create a Twitter developer account](https://developer.twitter.com/en/apply/) by clicking the 'Apply' button on the top right of the page. Attach it to your Twitter account. You'll have to fill out a form describing what you want to do with the developer account. Explain that you are doing this for a class at Rutgers University and that you don't know exactly what you're building yet and just need the account to get started. These applications are approved by some sort of AI system, so it doesn't matter exactly what you write. Just don't enter a bunch of alweiofalwiuhflawiuehflawuihflaiwhfe type stuff or you might get rejected.\n",
    "4. Once you're logged into your developer account, [create an application for this assignment](https://apps.twitter.com/app/new).  You can call it whatever you want, and you can write any URL when it asks for a web site.  You don't need to provide a callback URL.\n",
    "5. On the page for that application, find your Consumer Key and Consumer Secret.\n",
    "6. On the same page, create an Access Token.  Record the resulting Access Token and Access Token Secret.\n",
    "7. Edit the file [keys.json](keys.json) and replace the placeholders with your keys."
   ]
  },
  {
   "cell_type": "markdown",
   "metadata": {
    "id": "1OgUJbFCapP0"
   },
   "source": [
    "## WARNING (Please Read) !!!!\n",
    "\n",
    "\n",
    "### Protect your Twitter Keys\n",
    "<span style=\"color:red\">\n",
    "If someone has your authentication keys, they can access your Twitter account and post as you!  So don't give them to anyone, and **don't write them down in this notebook**. \n",
    "</span>\n",
    "The usual way to store sensitive information like this is to put it in a separate file and read it programmatically.  That way, you can share the rest of your code without sharing your keys.  That's why we're asking you to put your keys in `keys.json` for this assignment.\n",
    "\n",
    "\n",
    "### Avoid making too many API calls.\n",
    "\n",
    "<span style=\"color:red\">\n",
    "Twitter limits developers to a certain rate of requests for data.  If you make too many requests in a short period of time, you'll have to wait awhile (around 15 minutes) before you can make more.  </span> \n",
    "So carefully follow the code examples you see and don't rerun cells without thinking.  Instead, always save the data you've collected to a file.  We've provided templates to help you do that.\n",
    "\n",
    "\n",
    "### Be careful about which functions you call!\n",
    "\n",
    "<span style=\"color:red\">\n",
    "This API can retweet tweets, follow and unfollow people, and modify your twitter settings.  Be careful which functions you invoke! </span> It is possible that you can accidentally re-tweet some tweets because you typed `retweet` instead of `retweet_count`. \n",
    "</span>\n"
   ]
  },
  {
   "cell_type": "code",
   "execution_count": 308,
   "metadata": {
    "colab": {
     "base_uri": "https://localhost:8080/",
     "height": 232
    },
    "id": "s3GABOPEapP0",
    "outputId": "22edcb96-5f48-4682-8d8c-ed669bca9294"
   },
   "outputs": [],
   "source": [
    "import json\n",
    "key_file = 'keys.json'\n",
    "# Loading your keys from keys.json (which you should have filled\n",
    "# in in question 1):\n",
    "with open(key_file) as f:\n",
    "    keys = json.load(f)\n",
    "# if you print or view the contents of keys be sure to delete the cell!"
   ]
  },
  {
   "cell_type": "markdown",
   "metadata": {
    "id": "woTVwrZWapP1"
   },
   "source": [
    "### Task 1.2 Testing Twitter Authentication\n",
    "This following code should run w/o erros or warnings and display Rutgers University's twitter username"
   ]
  },
  {
   "cell_type": "code",
   "execution_count": 309,
   "metadata": {
    "id": "jeF48lesapP1",
    "outputId": "7d96ba32-cb41-4356-b10d-b0f57480bb96"
   },
   "outputs": [
    {
     "name": "stdout",
     "output_type": "stream",
     "text": [
      "Rutgers username is: Rutgers University\n"
     ]
    }
   ],
   "source": [
    "import tweepy\n",
    "from tweepy import TweepyException\n",
    "import logging\n",
    "\n",
    "try:\n",
    "    auth = tweepy.OAuthHandler(keys[\"consumer_key\"], keys[\"consumer_secret\"])\n",
    "    redirect_url = auth.get_authorization_url()\n",
    "    auth.set_access_token(keys[\"access_token\"], keys[\"access_token_secret\"])\n",
    "    api = tweepy.API(auth)\n",
    "    print(\"Rutgers username is:\", api.get_user(screen_name=\"RutgersU\").name)\n",
    "except TweepyException as e:\n",
    "    logging.warning(\"There was a Tweepy error. Double check your API keys and try again.\")\n",
    "    logging.warning(e)"
   ]
  },
  {
   "cell_type": "markdown",
   "metadata": {
    "id": "usVPef0dapP2"
   },
   "source": [
    "## PART 2 - Working with Twitter\n",
    "The json file in data folder contains (to be downloaded by you) some loaded tweets from @RutgersU. Run it and read the code. You can also try other json files in the data folder to try this. "
   ]
  },
  {
   "cell_type": "code",
   "execution_count": 310,
   "metadata": {
    "id": "LtJWj1sVapP2"
   },
   "outputs": [],
   "source": [
    "from pathlib import Path\n",
    "import json\n",
    "\n",
    "ds_tweets_save_path = \"data/RutgersU_recent_tweets.json\"   # need to get this file\n",
    "\n",
    "# Guarding against attempts to download the data multiple\n",
    "# times:\n",
    "if not Path(ds_tweets_save_path).is_file():\n",
    "    # Getting as many recent tweets by @RutgersU as Twitter will let us have.\n",
    "    # We use tweet_mode='extended' so that Twitter gives us full 280 character tweets.\n",
    "    # This was a change introduced in September 2017.\n",
    "    \n",
    "    # The tweepy Cursor API actually returns \"sophisticated\" Status objects but we \n",
    "    # will use the basic Python dictionaries stored in the _json field. \n",
    "    example_tweets = [t._json for t in tweepy.Cursor(api.user_timeline, screen_name=\"RutgersU\", \n",
    "                                             tweet_mode='extended').items()]\n",
    "    \n",
    "    # Saving the tweets to a json file on disk for future analysis\n",
    "    with open(ds_tweets_save_path, \"w\") as f:        \n",
    "        json.dump(example_tweets, f)\n",
    "\n",
    "# Re-loading the json file:\n",
    "with open(ds_tweets_save_path, \"r\") as f:\n",
    "    example_tweets = json.load(f)"
   ]
  },
  {
   "cell_type": "markdown",
   "metadata": {
    "id": "hPx2hgTcapP3"
   },
   "source": [
    "If things ran as expected, you should be able to look at the first tweet by running the code below. It probabably does not make sense to view all tweets in a notebook, as size of the tweets can freeze your browser (always a good idea to press ctrl-S to save the latest, in case you have to restart Jupyter)"
   ]
  },
  {
   "cell_type": "code",
   "execution_count": 311,
   "metadata": {
    "id": "V6YxFwAKapP3",
    "outputId": "9c8bb2ee-4f49-4f05-cc2b-546fd168dd25"
   },
   "outputs": [
    {
     "name": "stdout",
     "output_type": "stream",
     "text": [
      "{'contributors': None,\n",
      " 'coordinates': None,\n",
      " 'created_at': 'Sat Nov 02 23:02:49 +0000 2019',\n",
      " 'display_text_range': [0, 140],\n",
      " 'entities': {'hashtags': [{'indices': [22, 31], 'text': 'internet'}],\n",
      "              'symbols': [],\n",
      "              'urls': [],\n",
      "              'user_mentions': [{'id': 955836661702774784,\n",
      "                                 'id_str': '955836661702774784',\n",
      "                                 'indices': [3, 13],\n",
      "                                 'name': 'Rutgers University–New Brunswick',\n",
      "                                 'screen_name': 'RutgersNB'},\n",
      "                                {'id': 52517689,\n",
      "                                 'id_str': '52517689',\n",
      "                                 'indices': [42, 58],\n",
      "                                 'name': 'Rutgers School of Communication and '\n",
      "                                         'Information',\n",
      "                                 'screen_name': 'RutgersCommInfo'},\n",
      "                                {'id': 392737670,\n",
      "                                 'id_str': '392737670',\n",
      "                                 'indices': [61, 72],\n",
      "                                 'name': 'Mary Chayko',\n",
      "                                 'screen_name': 'MaryChayko'}]},\n",
      " 'favorite_count': 0,\n",
      " 'favorited': False,\n",
      " 'full_text': \"RT @RutgersNB: As the #internet turns 50, @RutgersCommInfo's \"\n",
      "              '@MaryChayko focuses on how we have used the innovation and what '\n",
      "              'it has meant f…',\n",
      " 'geo': None,\n",
      " 'id': 1190766238110236673,\n",
      " 'id_str': '1190766238110236673',\n",
      " 'in_reply_to_screen_name': None,\n",
      " 'in_reply_to_status_id': None,\n",
      " 'in_reply_to_status_id_str': None,\n",
      " 'in_reply_to_user_id': None,\n",
      " 'in_reply_to_user_id_str': None,\n",
      " 'is_quote_status': False,\n",
      " 'lang': 'en',\n",
      " 'place': None,\n",
      " 'retweet_count': 3,\n",
      " 'retweeted': False,\n",
      " 'retweeted_status': {'contributors': None,\n",
      "                      'coordinates': None,\n",
      "                      'created_at': 'Sat Nov 02 18:26:39 +0000 2019',\n",
      "                      'display_text_range': [0, 191],\n",
      "                      'entities': {'hashtags': [{'indices': [7, 16],\n",
      "                                                 'text': 'internet'}],\n",
      "                                   'symbols': [],\n",
      "                                   'urls': [{'display_url': 'nbcnews.com/think/opinion/…',\n",
      "                                             'expanded_url': 'https://www.nbcnews.com/think/opinion/what-50-years-spent-internet-worth-humanity-ncna1073656',\n",
      "                                             'indices': [168, 191],\n",
      "                                             'url': 'https://t.co/dmxjKYGmvU'}],\n",
      "                                   'user_mentions': [{'id': 52517689,\n",
      "                                                      'id_str': '52517689',\n",
      "                                                      'indices': [27, 43],\n",
      "                                                      'name': 'Rutgers School '\n",
      "                                                              'of '\n",
      "                                                              'Communication '\n",
      "                                                              'and Information',\n",
      "                                                      'screen_name': 'RutgersCommInfo'},\n",
      "                                                     {'id': 392737670,\n",
      "                                                      'id_str': '392737670',\n",
      "                                                      'indices': [46, 57],\n",
      "                                                      'name': 'Mary Chayko',\n",
      "                                                      'screen_name': 'MaryChayko'}]},\n",
      "                      'favorite_count': 6,\n",
      "                      'favorited': False,\n",
      "                      'full_text': 'As the #internet turns 50, '\n",
      "                                   \"@RutgersCommInfo's @MaryChayko focuses on \"\n",
      "                                   'how we have used the innovation and what '\n",
      "                                   'it has meant for the way we communicate '\n",
      "                                   'with each other.\\n'\n",
      "                                   '\\n'\n",
      "                                   'https://t.co/dmxjKYGmvU',\n",
      "                      'geo': None,\n",
      "                      'id': 1190696737868001280,\n",
      "                      'id_str': '1190696737868001280',\n",
      "                      'in_reply_to_screen_name': None,\n",
      "                      'in_reply_to_status_id': None,\n",
      "                      'in_reply_to_status_id_str': None,\n",
      "                      'in_reply_to_user_id': None,\n",
      "                      'in_reply_to_user_id_str': None,\n",
      "                      'is_quote_status': False,\n",
      "                      'lang': 'en',\n",
      "                      'place': None,\n",
      "                      'possibly_sensitive': False,\n",
      "                      'retweet_count': 3,\n",
      "                      'retweeted': False,\n",
      "                      'source': '<a href=\"https://sproutsocial.com\" '\n",
      "                                'rel=\"nofollow\">Sprout Social</a>',\n",
      "                      'truncated': False,\n",
      "                      'user': {'can_media_tag': True,\n",
      "                               'contributors_enabled': False,\n",
      "                               'created_at': 'Tue Jan 23 16:16:33 +0000 2018',\n",
      "                               'default_profile': False,\n",
      "                               'default_profile_image': False,\n",
      "                               'description': 'The official Twitter account of '\n",
      "                                              'Rutgers University–New '\n",
      "                                              'Brunswick, the flagship home of '\n",
      "                                              'Rutgers, The State University '\n",
      "                                              'of New Jersey.',\n",
      "                               'entities': {'description': {'urls': []},\n",
      "                                            'url': {'urls': [{'display_url': 'newbrunswick.rutgers.edu',\n",
      "                                                              'expanded_url': 'https://newbrunswick.rutgers.edu/',\n",
      "                                                              'indices': [0,\n",
      "                                                                          23],\n",
      "                                                              'url': 'https://t.co/Pll3p27ECO'}]}},\n",
      "                               'favourites_count': 1274,\n",
      "                               'follow_request_sent': False,\n",
      "                               'followed_by': False,\n",
      "                               'followers_count': 2094,\n",
      "                               'following': False,\n",
      "                               'friends_count': 178,\n",
      "                               'geo_enabled': True,\n",
      "                               'has_extended_profile': False,\n",
      "                               'id': 955836661702774784,\n",
      "                               'id_str': '955836661702774784',\n",
      "                               'is_translation_enabled': False,\n",
      "                               'is_translator': False,\n",
      "                               'lang': None,\n",
      "                               'listed_count': 18,\n",
      "                               'location': 'New Brunswick, NJ',\n",
      "                               'name': 'Rutgers University–New Brunswick',\n",
      "                               'notifications': False,\n",
      "                               'profile_background_color': '000000',\n",
      "                               'profile_background_image_url': 'http://abs.twimg.com/images/themes/theme1/bg.png',\n",
      "                               'profile_background_image_url_https': 'https://abs.twimg.com/images/themes/theme1/bg.png',\n",
      "                               'profile_background_tile': False,\n",
      "                               'profile_banner_url': 'https://pbs.twimg.com/profile_banners/955836661702774784/1564589696',\n",
      "                               'profile_image_url': 'http://pbs.twimg.com/profile_images/1111272066609827848/9zSX0WEt_normal.png',\n",
      "                               'profile_image_url_https': 'https://pbs.twimg.com/profile_images/1111272066609827848/9zSX0WEt_normal.png',\n",
      "                               'profile_link_color': 'E81C4F',\n",
      "                               'profile_sidebar_border_color': '000000',\n",
      "                               'profile_sidebar_fill_color': '000000',\n",
      "                               'profile_text_color': '000000',\n",
      "                               'profile_use_background_image': False,\n",
      "                               'protected': False,\n",
      "                               'screen_name': 'RutgersNB',\n",
      "                               'statuses_count': 1679,\n",
      "                               'time_zone': None,\n",
      "                               'translator_type': 'none',\n",
      "                               'url': 'https://t.co/Pll3p27ECO',\n",
      "                               'utc_offset': None,\n",
      "                               'verified': False}},\n",
      " 'source': '<a href=\"http://twitter.com/download/iphone\" '\n",
      "           'rel=\"nofollow\">Twitter for iPhone</a>',\n",
      " 'truncated': False,\n",
      " 'user': {'can_media_tag': True,\n",
      "          'contributors_enabled': False,\n",
      "          'created_at': 'Wed Jan 21 02:57:47 +0000 2009',\n",
      "          'default_profile': False,\n",
      "          'default_profile_image': False,\n",
      "          'description': 'Rutgers, The State University of New Jersey, is a '\n",
      "                         'leading public research university. Follow us for '\n",
      "                         'all things Rutgers.',\n",
      "          'entities': {'description': {'urls': []},\n",
      "                       'url': {'urls': [{'display_url': 'rutgers.edu',\n",
      "                                         'expanded_url': 'http://www.rutgers.edu',\n",
      "                                         'indices': [0, 22],\n",
      "                                         'url': 'http://t.co/stAPJIzh8b'}]}},\n",
      "          'favourites_count': 4590,\n",
      "          'follow_request_sent': False,\n",
      "          'followed_by': False,\n",
      "          'followers_count': 132798,\n",
      "          'following': False,\n",
      "          'friends_count': 595,\n",
      "          'geo_enabled': True,\n",
      "          'has_extended_profile': False,\n",
      "          'id': 19272796,\n",
      "          'id_str': '19272796',\n",
      "          'is_translation_enabled': False,\n",
      "          'is_translator': False,\n",
      "          'lang': None,\n",
      "          'listed_count': 838,\n",
      "          'location': 'New Jersey',\n",
      "          'name': 'Rutgers University',\n",
      "          'notifications': False,\n",
      "          'profile_background_color': 'C7141C',\n",
      "          'profile_background_image_url': 'http://abs.twimg.com/images/themes/theme15/bg.png',\n",
      "          'profile_background_image_url_https': 'https://abs.twimg.com/images/themes/theme15/bg.png',\n",
      "          'profile_background_tile': False,\n",
      "          'profile_banner_url': 'https://pbs.twimg.com/profile_banners/19272796/1494779773',\n",
      "          'profile_image_url': 'http://pbs.twimg.com/profile_images/809450270375772160/rWmyBIig_normal.jpg',\n",
      "          'profile_image_url_https': 'https://pbs.twimg.com/profile_images/809450270375772160/rWmyBIig_normal.jpg',\n",
      "          'profile_link_color': '0084B4',\n",
      "          'profile_sidebar_border_color': '000205',\n",
      "          'profile_sidebar_fill_color': 'C0DFEC',\n",
      "          'profile_text_color': '333333',\n",
      "          'profile_use_background_image': False,\n",
      "          'protected': False,\n",
      "          'screen_name': 'RutgersU',\n",
      "          'statuses_count': 16165,\n",
      "          'time_zone': None,\n",
      "          'translator_type': 'none',\n",
      "          'url': 'http://t.co/stAPJIzh8b',\n",
      "          'utc_offset': None,\n",
      "          'verified': True}}\n"
     ]
    }
   ],
   "source": [
    "# Looking at one tweet object, which has type Status: \n",
    "from pprint import pprint # ...to get a more easily-readable view.\n",
    "pprint(example_tweets[0])"
   ]
  },
  {
   "cell_type": "markdown",
   "metadata": {
    "id": "YL8O3oWrapP3"
   },
   "source": [
    "### Task 2.1 (Optional for Individuals)\n",
    "\n",
    "### What you need to do. \n",
    "\n",
    "Re-factor the above code fragment into reusable snippets below.  You should not need to make major modifications; this is mostly an exercise in understanding the above code block. "
   ]
  },
  {
   "cell_type": "code",
   "execution_count": 312,
   "metadata": {
    "id": "Vac0VdRmapP4"
   },
   "outputs": [],
   "source": [
    "def load_keys(path):\n",
    "    \"\"\"Loads your Twitter authentication keys from a file on disk.\n",
    "    \n",
    "    Args:\n",
    "        path (str): The path to your key file.  The file should\n",
    "          be in JSON format and look like this (but filled in):\n",
    "            {\n",
    "                \"consumer_key\": \"<your Consumer Key here>\",\n",
    "                \"consumer_secret\":  \"<your Consumer Secret here>\",\n",
    "                \"access_token\": \"<your Access Token here>\",\n",
    "                \"access_token_secret\": \"<your Access Token Secret here>\"\n",
    "            }\n",
    "    \n",
    "    Returns:\n",
    "        dict: A dictionary mapping key names (like \"consumer_key\") to\n",
    "          key values.\"\"\"\n",
    "    \n",
    "    ### BEGIN SOLUTION\n",
    "   \n",
    "    with open(path) as f:\n",
    "        keys = json.load(f) #load file as json object\n",
    "    return keys \n",
    "\n",
    "    ### END SOLUTION"
   ]
  },
  {
   "cell_type": "code",
   "execution_count": null,
   "metadata": {
    "id": "Ei4KEzlnapP4"
   },
   "outputs": [],
   "source": [
    "def download_recent_tweets_by_user(user_account_name, keys):\n",
    "    \"\"\"Downloads tweets by one Twitter user.\n",
    "\n",
    "    Args:\n",
    "        user_account_name (str): The name of the Twitter account\n",
    "          whose tweets will be downloaded.\n",
    "        keys (dict): A Python dictionary with Twitter authentication\n",
    "          keys (strings), like this (but filled in):\n",
    "            {\n",
    "                \"consumer_key\": \"<your Consumer Key here>\",\n",
    "                \"consumer_secret\":  \"<your Consumer Secret here>\",\n",
    "                \"access_token\": \"<your Access Token here>\",\n",
    "                \"access_token_secret\": \"<your Access Token Secret here>\"\n",
    "            }\n",
    "\n",
    "    Returns:\n",
    "        list: A list of Dictonary objects, each representing one tweet.\"\"\"\n",
    "    import tweepy\n",
    "    ### BEGIN SOLUTION\n",
    "    try:\n",
    "        auth = tweepy.OAuthHandler(keys[\"consumer_key\"], keys[\"consumer_secret\"])\n",
    "        redirect_url = auth.get_authorization_url()\n",
    "        auth.set_access_token(keys[\"access_token\"], keys[\"access_token_secret\"])\n",
    "        api = tweepy.API(auth)\n",
    "        #print(\"Grabbing tweets for user: \", api.get_user(screen_name=str(user_account_name).name)\n",
    "    except TweepyException as e:\n",
    "        logging.warning(\"There was a Tweepy error. Double check your API keys and try again.\")\n",
    "        logging.warning(e)\n",
    "    recent_tweets = [t._json for t in tweepy.Cursor(api.user_timeline, screen_name=str(user_account_name), tweet_mode='extended').items()] #using 'extended' means we can get as many as wec can\n",
    "    return recent_tweets\n",
    "    \n",
    "    ### END SOLUTION"
   ]
  },
  {
   "cell_type": "code",
   "execution_count": 313,
   "metadata": {
    "id": "xCjxPXNzapP4"
   },
   "outputs": [],
   "source": [
    "def load_tweets(path):\n",
    "    \"\"\"Loads tweets that have previously been saved.\n",
    "    \n",
    "    Calling load_tweets(path) after save_tweets(tweets, path)\n",
    "    will produce the same list of tweets.\n",
    "    \n",
    "    Args:\n",
    "        path (str): The place where the tweets were be saved.\n",
    "\n",
    "    Returns:\n",
    "        list: A list of Dictionary objects, each representing one tweet.\"\"\"\n",
    "    \n",
    "    ### BEGIN SOLUTION\n",
    " \n",
    "    with open(path, \"r\") as f:\n",
    "        example_tweets = json.load(f)\n",
    "    return example_tweets\n",
    "    \n",
    "    ### END SOLUTION"
   ]
  },
  {
   "cell_type": "code",
   "execution_count": 314,
   "metadata": {
    "id": "p6ckUKvJapP5"
   },
   "outputs": [],
   "source": [
    "def get_tweets_with_cache(user_account_name, keys_path):\n",
    "    \"\"\"Get recent tweets from one user, loading from a disk cache if available.\n",
    "    \n",
    "    The first time you call this function, it will download tweets by\n",
    "    a user.  Subsequent calls will not re-download the tweets; instead\n",
    "    they'll load the tweets from a save file in your local filesystem.\n",
    "    All this is done using the functions you defined in the previous cell.\n",
    "    This has benefits and drawbacks that often appear when you cache data:\n",
    "    \n",
    "    +: Using this function will prevent extraneous usage of the Twitter API.\n",
    "    +: You will get your data much faster after the first time it's called.\n",
    "    -: If you really want to re-download the tweets (say, to get newer ones,\n",
    "       or because you screwed up something in the previous cell and your\n",
    "       tweets aren't what you wanted), you'll have to find the save file\n",
    "       (which will look like <something>_recent_tweets.pkl) and delete it.\n",
    "    \n",
    "    Args:\n",
    "        user_account_name (str): The Twitter handle of a user, without the @.\n",
    "        keys_path (str): The path to a JSON keys file in your filesystem.\n",
    "    \"\"\"\n",
    "    \n",
    "    ### BEGIN SOLUTION\n",
    "    \n",
    "    # your solution here\n",
    "    \n",
    "    ds_tweets_save_path = f\"data/{user_account_name}_recent_tweets.json\"   # need to get this file\n",
    "    #if the file doesn't exist (ie it hasnt been downloaded yet)\n",
    "    if not Path(ds_tweets_save_path).is_file():\n",
    "        loadedKeys = load_keys(keys_path)\n",
    "        tweets = download_recent_tweets_by_user(user_account_name, loadedKeys)\n",
    "        #save tweets to file first\n",
    "        with open(ds_tweets_save_path, \"w\") as f:        \n",
    "            json.dump(tweets, f)\n",
    "        result = tweets\n",
    "    else:\n",
    "        #load from file\n",
    "        result = load_tweets(ds_tweets_save_path)\n",
    "    \n",
    "    return result\n",
    "    \n",
    "    \n",
    "    ### END SOLUTION"
   ]
  },
  {
   "cell_type": "markdown",
   "metadata": {
    "id": "-MZGu9P-apP5"
   },
   "source": [
    "If everything was implemented correctly you should be able to obtain roughly the last 3000 tweets by @RutgersU. (This may take a few minutes)"
   ]
  },
  {
   "cell_type": "code",
   "execution_count": 315,
   "metadata": {
    "id": "kdqvDP24apP5"
   },
   "outputs": [
    {
     "name": "stdout",
     "output_type": "stream",
     "text": [
      "Number of tweets downloaded: 3237\n"
     ]
    }
   ],
   "source": [
    "# When you are done, run this cell to load @RutgersU 's tweets.\n",
    "# Note the function get_tweets_with_cache.  You may find it useful\n",
    "# later.\n",
    "rutgers_tweets = get_tweets_with_cache(\"RutgersU\", key_file)\n",
    "print(\"Number of tweets downloaded:\", len(rutgers_tweets))"
   ]
  },
  {
   "cell_type": "markdown",
   "metadata": {
    "id": "6vhrwHw5apP5"
   },
   "source": [
    "### Task 2.2\n",
    "To be consistent we are going to use the same dataset no matter what you get from your twitter api. So from this point on, if you are working as a group or individually, be sure to use the data sets provided to you in the zip file. There should be two json files inside your data folder. One is '2017-2018.json', the other one is '2016-2017.json'. We will load the '2017-2018.json' first."
   ]
  },
  {
   "cell_type": "code",
   "execution_count": 316,
   "metadata": {
    "id": "kLq9NDhAapP5"
   },
   "outputs": [],
   "source": [
    "def load_tweets(path):\n",
    "    \"\"\"Loads tweets that have previously been saved.\n",
    "    \n",
    "    Calling load_tweets(path) after save_tweets(tweets, path)\n",
    "    will produce the same list of tweets.\n",
    "    \n",
    "    Args:\n",
    "        path (str): The place where the tweets will be saved.\n",
    "\n",
    "    Returns:\n",
    "        list: A list of Dictionary objects, each representing one tweet.\"\"\"\n",
    "    \n",
    "    with open(path, \"rb\") as f:\n",
    "        import json\n",
    "        return json.load(f)"
   ]
  },
  {
   "cell_type": "code",
   "execution_count": 317,
   "metadata": {
    "id": "xW1xN_3XapP6"
   },
   "outputs": [],
   "source": [
    "dest_path = 'data/2017-2018.json' # Enter path of '2017-2018.json' here\n",
    "trump_tweets = load_tweets(dest_path)"
   ]
  },
  {
   "cell_type": "markdown",
   "metadata": {
    "id": "_i_aHCjSapP6"
   },
   "source": [
    "If everything is working correctly correctly this should load roughly the last 3000 tweets by `realdonaldtrump`."
   ]
  },
  {
   "cell_type": "code",
   "execution_count": 318,
   "metadata": {
    "id": "xr55obB8apP6"
   },
   "outputs": [],
   "source": [
    "assert 2000 <= len(trump_tweets) <= 4000"
   ]
  },
  {
   "cell_type": "markdown",
   "metadata": {
    "id": "WjYXBPCpapP6"
   },
   "source": [
    "If the assert statement above works, then continue on to task 2.3.\n",
    "\n",
    "### Task 2.3\n",
    "\n",
    "Find the number of the month of the oldest tweet."
   ]
  },
  {
   "cell_type": "code",
   "execution_count": 319,
   "metadata": {
    "id": "lYPMcwPdapP6"
   },
   "outputs": [
    {
     "name": "stdout",
     "output_type": "stream",
     "text": [
      "10\n"
     ]
    }
   ],
   "source": [
    "# Enter the number of the month of the oldest tweet (e.g. 1 for January)\n",
    "oldest_month = 10 # Enter answer here and code below this\n",
    "from time import strptime\n",
    "\n",
    "trump_tweets = pd.DataFrame(trump_tweets)\n",
    "### BEGIN SOLUTION\n",
    "oldest_tweet = trump_tweets['created_at'].iloc[-1]\n",
    "splitted = oldest_tweet.split()\n",
    "month = strptime(splitted[1],'%b').tm_mon\n",
    "print(month)\n",
    "#*** code to compute **** \n",
    "\n",
    "### END SOLUTION"
   ]
  },
  {
   "cell_type": "markdown",
   "metadata": {
    "id": "cNdIIfM4apP6"
   },
   "source": [
    "## PART 3  Twitter Source Analysis\n",
    "\n"
   ]
  },
  {
   "cell_type": "markdown",
   "metadata": {
    "id": "bnZTwTGRapP6"
   },
   "source": [
    "### Task 3.1\n",
    "\n",
    "Create a new data frame from `2016-2017.json` and merge with `trump_tweets` \n",
    "\n",
    "**Important:** There may/will be some overlap so be sure to __eliminate duplicate tweets__. If you do not eliminate the duplicates properly, your results might not be compatible with the test solution. \n",
    "**Hint:** the `id` of a tweet is always unique."
   ]
  },
  {
   "cell_type": "code",
   "execution_count": 537,
   "metadata": {
    "id": "UKw0vaWTapP6"
   },
   "outputs": [
    {
     "name": "stdout",
     "output_type": "stream",
     "text": [
      "40176\n"
     ]
    }
   ],
   "source": [
    "# if you do not have new tweets, then all_tweets is the same as  old_trump_tweets\n",
    "\n",
    "### BEGIN SOLUTION\n",
    "with open('data/2016-2017.json', 'rb') as f:\n",
    "    old_tweets = json.load(f)\n",
    "with open('data/2017-2018.json', 'rb') as f:\n",
    "    new_tweets = json.load(f)\n",
    "\n",
    "df_old = pd.DataFrame(old_tweets)\n",
    "df_new = pd.DataFrame(new_tweets)\n",
    "\n",
    "df_new = df_new.rename(columns={\"full_text\": \"text\"})\n",
    "\n",
    "df_old = df_old[['id', 'created_at', 'source', 'text', 'retweet_count']]\n",
    "df_new = df_new[['id', 'created_at', 'source', 'text', 'retweet_count']]\n",
    "\n",
    "df_old.loc[:, 'id'] = df_old['id'].astype('int64')\n",
    "df_new.loc[:, 'id'] = df_new['id'].astype('int64')\n",
    "\n",
    "df_old = df_old.set_index('id')\n",
    "df_new = df_new.set_index('id')\n",
    "\n",
    "all_tweets = pd.concat([df_old, df_new])\n",
    "\n",
    "all_tweets.sort_index()\n",
    "\n",
    "print(all_tweets.size)\n",
    "all_tweets.head()\n",
    "### END SOLUTION\n",
    "assert(all_tweets.size == 40176) "
   ]
  },
  {
   "cell_type": "markdown",
   "metadata": {
    "id": "w2f3pX1TapP6"
   },
   "source": [
    "### Task 3.2\n",
    "Construct a DataFrame called `df_trump` containing all the tweets stored in `all_tweets`. The index of the dataframe should be the ID of each tweet (looks something like `907698529606541312`). It should have these columns:\n",
    "\n",
    "- `time`: The time the tweet was created encoded as a datetime object. (Use `pd.to_datetime` to encode the timestamp.)\n",
    "- `source`: The source device of the tweet.\n",
    "- `text`: The text of the tweet.\n",
    "- `retweet_count`: The retweet count of the tweet. \n",
    "\n",
    "Finally, **the resulting dataframe should be sorted by the index.**\n",
    "\n",
    "**Warning:** *Some tweets will store the text in the `text` field and other will use the `full_text` field.*\n",
    "\n",
    "**Warning:** *Don't forget to check the type of index*"
   ]
  },
  {
   "cell_type": "code",
   "execution_count": 516,
   "metadata": {
    "id": "BaBrQPLNapP6"
   },
   "outputs": [],
   "source": [
    "### BEGIN SOLUTION\n",
    "df_trump = all_tweets\n",
    "\n",
    "df_trump = df_trump.rename(columns={\"created_at\": \"time\"})\n",
    "df_trump['time'] = pd.to_datetime(df_trump['time'], format='%a %b %d %H:%M:%S %z %Y')\n",
    "### END SOLUTION"
   ]
  },
  {
   "cell_type": "markdown",
   "metadata": {
    "id": "w8WbUgNBapP7"
   },
   "source": [
    "In the following questions, we are going to find out the charateristics of Trump tweets and the devices used for the tweets.\n",
    "\n",
    "First let's examine the source field:"
   ]
  },
  {
   "cell_type": "code",
   "execution_count": 517,
   "metadata": {
    "id": "NiXXHDmpapP7"
   },
   "outputs": [
    {
     "data": {
      "text/plain": [
       "array(['Twitter for iPhone', 'Media Studio', 'Twitter for iPad',\n",
       "       'Twitter Web Client', 'Twitter Ads', 'Twitter for Android',\n",
       "       'Periscope', 'TweetDeck', 'Instagram', 'Mobile Web (M5)',\n",
       "       '<a href=\"http://twitter.com/download/iphone\" rel=\"nofollow\">Twitter for iPhone</a>',\n",
       "       '<a href=\"https://studio.twitter.com\" rel=\"nofollow\">Media Studio</a>',\n",
       "       '<a href=\"http://twitter.com/#!/download/ipad\" rel=\"nofollow\">Twitter for iPad</a>',\n",
       "       '<a href=\"http://twitter.com\" rel=\"nofollow\">Twitter Web Client</a>'],\n",
       "      dtype=object)"
      ]
     },
     "execution_count": 517,
     "metadata": {},
     "output_type": "execute_result"
    }
   ],
   "source": [
    "df_trump['source'].unique()"
   ]
  },
  {
   "cell_type": "markdown",
   "metadata": {
    "id": "pR-pQJ-FapP7"
   },
   "source": [
    "## Task 3.3\n",
    "\n",
    "Remove the HTML tags from the source field. \n",
    "\n",
    "**Hint:** Use `df_trump['source'].str.replace` and your favorite regular expression."
   ]
  },
  {
   "cell_type": "code",
   "execution_count": 518,
   "metadata": {
    "id": "uys4JaIuapP7"
   },
   "outputs": [],
   "source": [
    "### BEGIN SOLUTION\n",
    "import re\n",
    "df_trump['source'] = df_trump['source'].str.replace('<.*?>', '', regex=True)\n",
    "### END SOLUTION"
   ]
  },
  {
   "cell_type": "markdown",
   "metadata": {
    "id": "PZo4QU7MapP7"
   },
   "source": [
    "### Make a plot to find out the most common device types used in accessing twitter\n",
    "\n",
    "Sort the plot in decreasing order of the most common device type"
   ]
  },
  {
   "cell_type": "code",
   "execution_count": 519,
   "metadata": {
    "id": "WOdz32WZapP7"
   },
   "outputs": [
    {
     "data": {
      "image/png": "[encoded data removed]",
      "text/plain": [
       "<Figure size 432x288 with 1 Axes>"
      ]
     },
     "metadata": {},
     "output_type": "display_data"
    }
   ],
   "source": [
    "### BEGIN SOLUTION\n",
    "\n",
    "ax = sns.countplot(x = 'source',\n",
    "              data = df_trump,\n",
    "              order = df_trump['source'].value_counts().index)\n",
    "ax.set_xticklabels(ax.get_xticklabels(),rotation = 90);\n",
    "### END SOLUTION"
   ]
  },
  {
   "cell_type": "markdown",
   "metadata": {
    "id": "ZatUeX2capP7"
   },
   "source": [
    "### Task 3.4\n",
    "Is there a difference between his Tweet behavior across these devices? We will attempt to answer this question in our subsequent analysis.\n",
    "\n",
    "First, we'll take a look at whether Trump's tweets from an Android come at different times than his tweets from an iPhone. Note that Twitter gives us his tweets in the [UTC timezone](https://www.wikiwand.com/en/List_of_UTC_time_offsets) (notice the `+0000` in the first few tweets)\n",
    "\n",
    "**Note** - If your `time` column is not in datetime format, the following code will not work."
   ]
  },
  {
   "cell_type": "code",
   "execution_count": 520,
   "metadata": {
    "id": "VhBLwCxcapP7"
   },
   "outputs": [
    {
     "data": {
      "text/plain": [
       "id\n",
       "947824196909961216   2018-01-01 13:37:52+00:00\n",
       "947810806430826496   2018-01-01 12:44:40+00:00\n",
       "947802588174577664   2018-01-01 12:12:00+00:00\n",
       "Name: time, dtype: datetime64[ns, UTC]"
      ]
     },
     "execution_count": 520,
     "metadata": {},
     "output_type": "execute_result"
    }
   ],
   "source": [
    "df_trump['time'][0:3]"
   ]
  },
  {
   "cell_type": "markdown",
   "metadata": {
    "id": "CN0KG6ktapP7"
   },
   "source": [
    "We'll convert the tweet times to US Eastern Time, the timezone of New York and Washington D.C., since those are the places we would expect the most tweet activity from Trump."
   ]
  },
  {
   "cell_type": "code",
   "execution_count": 521,
   "metadata": {
    "id": "0uB-3WK4apP7"
   },
   "outputs": [
    {
     "data": {
      "text/html": [
       "<div>\n",
       "<style scoped>\n",
       "    .dataframe tbody tr th:only-of-type {\n",
       "        vertical-align: middle;\n",
       "    }\n",
       "\n",
       "    .dataframe tbody tr th {\n",
       "        vertical-align: top;\n",
       "    }\n",
       "\n",
       "    .dataframe thead th {\n",
       "        text-align: right;\n",
       "    }\n",
       "</style>\n",
       "<table border=\"1\" class=\"dataframe\">\n",
       "  <thead>\n",
       "    <tr style=\"text-align: right;\">\n",
       "      <th></th>\n",
       "      <th>time</th>\n",
       "      <th>source</th>\n",
       "      <th>text</th>\n",
       "      <th>retweet_count</th>\n",
       "      <th>est_time</th>\n",
       "    </tr>\n",
       "    <tr>\n",
       "      <th>id</th>\n",
       "      <th></th>\n",
       "      <th></th>\n",
       "      <th></th>\n",
       "      <th></th>\n",
       "      <th></th>\n",
       "    </tr>\n",
       "  </thead>\n",
       "  <tbody>\n",
       "    <tr>\n",
       "      <th>947824196909961216</th>\n",
       "      <td>2018-01-01 13:37:52+00:00</td>\n",
       "      <td>Twitter for iPhone</td>\n",
       "      <td>Will be leaving Florida for Washington (D.C.) today at 4:00 P.M. Much work to be done, but it will be a great New Year!</td>\n",
       "      <td>8237</td>\n",
       "      <td>2018-01-01 08:37:52-05:00</td>\n",
       "    </tr>\n",
       "    <tr>\n",
       "      <th>947810806430826496</th>\n",
       "      <td>2018-01-01 12:44:40+00:00</td>\n",
       "      <td>Twitter for iPhone</td>\n",
       "      <td>Iran is failing at every level despite the terrible deal made with them by the Obama Administration. The great Iranian people have been repressed for many years. They are hungry for food &amp;amp; for freedom. Along with human rights, the wealth of Iran is being looted. TIME FOR ...</td>\n",
       "      <td>14595</td>\n",
       "      <td>2018-01-01 07:44:40-05:00</td>\n",
       "    </tr>\n",
       "    <tr>\n",
       "      <th>947802588174577664</th>\n",
       "      <td>2018-01-01 12:12:00+00:00</td>\n",
       "      <td>Twitter for iPhone</td>\n",
       "      <td>The United States has foolishly given Pakistan more than 33 billion dollars in aid over the last 15 years, and they have given us nothing but lies &amp;amp; deceit, thinking of our leaders as fools. They give safe haven to the terrorists we hunt in Afghanistan, with little help. ...</td>\n",
       "      <td>49566</td>\n",
       "      <td>2018-01-01 07:12:00-05:00</td>\n",
       "    </tr>\n",
       "    <tr>\n",
       "      <th>947614110082043904</th>\n",
       "      <td>2017-12-31 23:43:04+00:00</td>\n",
       "      <td>Twitter for iPhone</td>\n",
       "      <td>HAPPY NEW YEAR! We are MAKING AMERICA GREAT AGAIN, and much faster than anyone thought possible!</td>\n",
       "      <td>35164</td>\n",
       "      <td>2017-12-31 18:43:04-05:00</td>\n",
       "    </tr>\n",
       "    <tr>\n",
       "      <th>947592785519173637</th>\n",
       "      <td>2017-12-31 22:18:20+00:00</td>\n",
       "      <td>Twitter for iPhone</td>\n",
       "      <td>As our Country rapidly grows stronger and smarter, I want to wish all of my friends, supporters, enemies, haters, and even the very dishonest Fake News Media, a Happy and Healthy New Year. 2018 will be a great year for America!</td>\n",
       "      <td>39428</td>\n",
       "      <td>2017-12-31 17:18:20-05:00</td>\n",
       "    </tr>\n",
       "  </tbody>\n",
       "</table>\n",
       "</div>"
      ],
      "text/plain": [
       "                                        time              source  \\\n",
       "id                                                                 \n",
       "947824196909961216 2018-01-01 13:37:52+00:00  Twitter for iPhone   \n",
       "947810806430826496 2018-01-01 12:44:40+00:00  Twitter for iPhone   \n",
       "947802588174577664 2018-01-01 12:12:00+00:00  Twitter for iPhone   \n",
       "947614110082043904 2017-12-31 23:43:04+00:00  Twitter for iPhone   \n",
       "947592785519173637 2017-12-31 22:18:20+00:00  Twitter for iPhone   \n",
       "\n",
       "                                                                                                                                                                                                                                                                                                       text  \\\n",
       "id                                                                                                                                                                                                                                                                                                            \n",
       "947824196909961216                                                                                                                                                                  Will be leaving Florida for Washington (D.C.) today at 4:00 P.M. Much work to be done, but it will be a great New Year!   \n",
       "947810806430826496  Iran is failing at every level despite the terrible deal made with them by the Obama Administration. The great Iranian people have been repressed for many years. They are hungry for food &amp; for freedom. Along with human rights, the wealth of Iran is being looted. TIME FOR ...   \n",
       "947802588174577664  The United States has foolishly given Pakistan more than 33 billion dollars in aid over the last 15 years, and they have given us nothing but lies &amp; deceit, thinking of our leaders as fools. They give safe haven to the terrorists we hunt in Afghanistan, with little help. ...   \n",
       "947614110082043904                                                                                                                                                                                         HAPPY NEW YEAR! We are MAKING AMERICA GREAT AGAIN, and much faster than anyone thought possible!   \n",
       "947592785519173637                                                      As our Country rapidly grows stronger and smarter, I want to wish all of my friends, supporters, enemies, haters, and even the very dishonest Fake News Media, a Happy and Healthy New Year. 2018 will be a great year for America!   \n",
       "\n",
       "                    retweet_count                  est_time  \n",
       "id                                                           \n",
       "947824196909961216           8237 2018-01-01 08:37:52-05:00  \n",
       "947810806430826496          14595 2018-01-01 07:44:40-05:00  \n",
       "947802588174577664          49566 2018-01-01 07:12:00-05:00  \n",
       "947614110082043904          35164 2017-12-31 18:43:04-05:00  \n",
       "947592785519173637          39428 2017-12-31 17:18:20-05:00  "
      ]
     },
     "execution_count": 521,
     "metadata": {},
     "output_type": "execute_result"
    }
   ],
   "source": [
    "df_trump['est_time'] = (\n",
    "    df_trump['time'] # Set initial timezone to UTC\n",
    "                 .dt.tz_convert(\"EST\") # Convert to Eastern Time\n",
    ")\n",
    "df_trump.head()"
   ]
  },
  {
   "cell_type": "markdown",
   "metadata": {
    "id": "pTusdoO5apP7"
   },
   "source": [
    "**What you need to do:**\n",
    "\n",
    "Add a column called `hour` to the `df_trump` table which contains the hour of the day as floating point number computed by:\n",
    "\n",
    "$$\n",
    "\\text{hour} + \\frac{\\text{minute}}{60} + \\frac{\\text{second}}{60^2}\n",
    "$$"
   ]
  },
  {
   "cell_type": "code",
   "execution_count": 522,
   "metadata": {
    "id": "UhkJKBxeapP8"
   },
   "outputs": [],
   "source": [
    "def calc_hour(time):\n",
    "    #helper function assuming time is in datetime format\n",
    "    res = time.dt.hour + (time.dt.minute/60) + (time.dt.second/3600)\n",
    "    return res\n",
    "    \n",
    "df_trump['hour'] = calc_hour(df_trump['est_time']) # Write your code here\n",
    "df_trump['roundhour']=round(df_trump['hour'])\n",
    "\n"
   ]
  },
  {
   "cell_type": "code",
   "execution_count": 523,
   "metadata": {
    "id": "EkFBxTQOapP8"
   },
   "outputs": [],
   "source": [
    "assert np.isclose(df_trump.loc[690171032150237184]['hour'], 8.93639)\n"
   ]
  },
  {
   "cell_type": "markdown",
   "metadata": {
    "id": "Ib6CTpMTapP8"
   },
   "source": [
    "Use the `roundhour` column and plot the number of tweets at every hour of the day.\n",
    "Order the plot using the hour of the day (1 to 24). Use seaborn `countplot`"
   ]
  },
  {
   "cell_type": "code",
   "execution_count": 524,
   "metadata": {
    "id": "MQkwODiAapP8"
   },
   "outputs": [
    {
     "data": {
      "image/png": "[encoded data removed]",
      "text/plain": [
       "<Figure size 432x288 with 1 Axes>"
      ]
     },
     "metadata": {},
     "output_type": "display_data"
    }
   ],
   "source": [
    "# make a bar plot here\n",
    "### BEGIN SOLUTION\n",
    "\n",
    "ax = sns.countplot(x = 'roundhour',\n",
    "              data = df_trump)\n",
    "ax.set_xticklabels(ax.get_xticklabels(), rotation = 90);\n",
    "\n",
    "### END SOLUTION"
   ]
  },
  {
   "cell_type": "markdown",
   "metadata": {
    "id": "mGD_SCtAapP8"
   },
   "source": [
    "Now, use this data along with the seaborn `distplot` function to examine the distribution over hours of the day in eastern time that trump tweets on each device for the 2 most commonly used devices.  Your plot should look somewhat similar to the following. \n",
    "![device_hour2.png](attachment:device_hour2.png)\n"
   ]
  },
  {
   "cell_type": "code",
   "execution_count": 525,
   "metadata": {
    "id": "_lXwAyKFapP8"
   },
   "outputs": [
    {
     "name": "stderr",
     "output_type": "stream",
     "text": [
      "C:\\ProgramData\\Anaconda3\\lib\\site-packages\\seaborn\\distributions.py:2557: FutureWarning: `distplot` is a deprecated function and will be removed in a future version. Please adapt your code to use either `displot` (a figure-level function with similar flexibility) or `kdeplot` (an axes-level function for kernel density plots).\n",
      "  warnings.warn(msg, FutureWarning)\n",
      "C:\\ProgramData\\Anaconda3\\lib\\site-packages\\seaborn\\distributions.py:2557: FutureWarning: `distplot` is a deprecated function and will be removed in a future version. Please adapt your code to use either `displot` (a figure-level function with similar flexibility) or `kdeplot` (an axes-level function for kernel density plots).\n",
      "  warnings.warn(msg, FutureWarning)\n"
     ]
    },
    {
     "data": {
      "image/png": "[encoded data removed]",
      "text/plain": [
       "<Figure size 720x432 with 1 Axes>"
      ]
     },
     "metadata": {},
     "output_type": "display_data"
    }
   ],
   "source": [
    "### BEGIN SOLUTION\n",
    "### make your plot here\n",
    "fig = plt.figure(figsize=(10,6))\n",
    "two_common = df_trump['source'].value_counts().nlargest(n=2)\n",
    "first = df_trump.loc[(df_trump['source'] == two_common.index[0])]\n",
    "second = df_trump.loc[(df_trump['source'] == two_common.index[1])]\n",
    "sns.distplot(first['hour'], hist=False)\n",
    "sns.distplot(second['hour'], hist=False)\n",
    "plt.ylabel('Fraction')\n",
    "fig.legend(labels=['iPhone','Android'])\n",
    "plt.show()\n",
    "### END SOLUTION"
   ]
  },
  {
   "cell_type": "markdown",
   "metadata": {
    "id": "L1jbqJBqapP8"
   },
   "source": [
    "### Task 3.5\n",
    "\n",
    "According to [this Verge article](https://www.theverge.com/2017/3/29/15103504/donald-trump-iphone-using-switched-android), Donald Trump switched from an Android to an iPhone sometime in March 2017.\n",
    "\n",
    "Create a figure identical to your figure from 3.4, except that you should show the results only from 2016. If you get stuck consider looking at the `year_fraction` function from the next problem.\n",
    "\n",
    "Use this data along with the seaborn `distplot` function to examine the distribution over hours of the day in eastern time that trump tweets on each device for the 2 most commonly used devices.  Your plot should look somewhat similar to the following. \n",
    "\n",
    "During the campaign, it was theorized that Donald Trump's tweets from Android were written by him personally, and the tweets from iPhone were from his staff. Does your figure give support the theory?\n",
    "\n",
    "Response: In 2016, the time allocation for the usage of the iphone centered in the afternoon, while his tweets from 2015 to present shows that he mostly tweets in the morning. It seems that the tweets from iphone in 2016 were from his staff, not himself."
   ]
  },
  {
   "cell_type": "markdown",
   "metadata": {
    "id": "BKGr1_ULapP8"
   },
   "source": [
    "![title](images/device_hour2.png)"
   ]
  },
  {
   "cell_type": "code",
   "execution_count": 526,
   "metadata": {
    "id": "QHtptHMCapP8"
   },
   "outputs": [
    {
     "name": "stderr",
     "output_type": "stream",
     "text": [
      "C:\\ProgramData\\Anaconda3\\lib\\site-packages\\seaborn\\distributions.py:2557: FutureWarning: `distplot` is a deprecated function and will be removed in a future version. Please adapt your code to use either `displot` (a figure-level function with similar flexibility) or `kdeplot` (an axes-level function for kernel density plots).\n",
      "  warnings.warn(msg, FutureWarning)\n",
      "C:\\ProgramData\\Anaconda3\\lib\\site-packages\\seaborn\\distributions.py:2557: FutureWarning: `distplot` is a deprecated function and will be removed in a future version. Please adapt your code to use either `displot` (a figure-level function with similar flexibility) or `kdeplot` (an axes-level function for kernel density plots).\n",
      "  warnings.warn(msg, FutureWarning)\n"
     ]
    },
    {
     "data": {
      "image/png": "[encoded data removed]",
      "text/plain": [
       "<Figure size 720x432 with 1 Axes>"
      ]
     },
     "metadata": {},
     "output_type": "display_data"
    }
   ],
   "source": [
    "### BEGIN SOLUTION\n",
    "\n",
    "# code to plot\n",
    "fig = plt.figure(figsize=(10,6))\n",
    "two_common = df_trump['source'].value_counts().nlargest(n=2)\n",
    "first = df_trump.loc[(df_trump['source'] == two_common.index[0]) & (df_trump['time'].dt.year == 2016)]\n",
    "second = df_trump.loc[(df_trump['source'] == two_common.index[1]) & (df_trump['time'].dt.year == 2016)]\n",
    "sns.distplot(first['hour'], hist=False)\n",
    "sns.distplot(second['hour'], hist=False)\n",
    "plt.ylabel('Fraction')\n",
    "fig.legend(labels=['iPhone','Android'])\n",
    "plt.show()\n",
    "### END SOLUTION"
   ]
  },
  {
   "cell_type": "markdown",
   "metadata": {
    "id": "1XFRyB9FapP8"
   },
   "source": [
    "### Task 3.6\n",
    "Edit this cell to answer the following questions.\n",
    "* What time of the day the Android tweets were made by Trump himself? (eg: morning, late night etc)\n",
    "<strong>The Android tweets were mostly made in the morning, between the hours of 5 am and 10 am</strong>\n",
    "* What time of the day the Android tweets were made by paid staff?\n",
    "<strong>According to the theory that paid staff tweet mostly in the evening, it seems that they tweet mainly around the hours between 8 pm and midnight.</strong>\n",
    "\n",
    "Note that these are speculations based on what you observe in the data set."
   ]
  },
  {
   "cell_type": "markdown",
   "metadata": {
    "id": "P0zbpLZUapP9"
   },
   "source": [
    "### Task 3.7 Device Analysis\n",
    "Let's now look at which device he has used over the entire time period of this dataset.\n",
    "\n",
    "To examine the distribution of dates we will convert the date to a fractional year that can be plotted as a distribution.\n",
    "\n",
    "(Code borrowed from https://stackoverflow.com/questions/6451655/python-how-to-convert-datetime-dates-to-decimal-years)"
   ]
  },
  {
   "cell_type": "code",
   "execution_count": 527,
   "metadata": {
    "id": "4OEbR4afapP9"
   },
   "outputs": [],
   "source": [
    "import datetime\n",
    "def year_fraction(date):\n",
    "    start = datetime.date(date.year, 1, 1).toordinal()\n",
    "    year_length = datetime.date(date.year+1, 1, 1).toordinal() - start\n",
    "    return date.year + float(date.toordinal() - start) / year_length\n",
    "\n",
    "\n",
    "df_trump['year'] = df_trump['time'].apply(year_fraction) #should be df_trump"
   ]
  },
  {
   "cell_type": "markdown",
   "metadata": {
    "id": "7j4xEBAOapP9"
   },
   "source": [
    "Use the `sns.distplot` to overlay the distributions of the 2 most frequently used web technologies over the years.  Your final plot should be similar to:\n",
    "\n",
    "![source_years.png](attachment:source_years.png)"
   ]
  },
  {
   "cell_type": "code",
   "execution_count": 528,
   "metadata": {
    "id": "oRdFIObiapP9"
   },
   "outputs": [
    {
     "name": "stderr",
     "output_type": "stream",
     "text": [
      "C:\\ProgramData\\Anaconda3\\lib\\site-packages\\seaborn\\distributions.py:2557: FutureWarning: `distplot` is a deprecated function and will be removed in a future version. Please adapt your code to use either `displot` (a figure-level function with similar flexibility) or `histplot` (an axes-level function for histograms).\n",
      "  warnings.warn(msg, FutureWarning)\n",
      "C:\\ProgramData\\Anaconda3\\lib\\site-packages\\seaborn\\distributions.py:2557: FutureWarning: `distplot` is a deprecated function and will be removed in a future version. Please adapt your code to use either `displot` (a figure-level function with similar flexibility) or `histplot` (an axes-level function for histograms).\n",
      "  warnings.warn(msg, FutureWarning)\n"
     ]
    },
    {
     "data": {
      "image/png": "[encoded data removed]",
      "text/plain": [
       "<Figure size 720x432 with 1 Axes>"
      ]
     },
     "metadata": {},
     "output_type": "display_data"
    }
   ],
   "source": [
    "### BEGIN SOLUTION\n",
    "fig = plt.figure(figsize=(10,6))\n",
    "two_common = df_trump['source'].value_counts().nlargest(n=2)\n",
    "first = df_trump.loc[(df_trump['source'] == two_common.index[0])]\n",
    "second = df_trump.loc[(df_trump['source'] == two_common.index[1])]\n",
    "sns.distplot(first['year'], hist=True)\n",
    "sns.distplot(second['year'], hist=True)\n",
    "plt.ylabel('')\n",
    "plt.xticks([2016, 2017, 2018, 2019])\n",
    "fig.legend(labels=['iPhone','Android'])\n",
    "plt.show()\n",
    "\n",
    "### END SOLUTION"
   ]
  },
  {
   "cell_type": "markdown",
   "metadata": {
    "id": "Nn0opKxWapP9"
   },
   "source": [
    "## PART 4 - Sentiment Analysis\n",
    "\n",
    "It turns out that we can use the words in Trump's tweets to calculate a measure of the sentiment of the tweet. For example, the sentence \"I love America!\" has positive sentiment, whereas the sentence \"I hate taxes!\" has a negative sentiment. In addition, some words have stronger positive / negative sentiment than others: \"I love America.\" is more positive than \"I like America.\"\n",
    "\n",
    "We will use the [VADER (Valence Aware Dictionary and sEntiment Reasoner)](https://github.com/cjhutto/vaderSentiment) lexicon to analyze the sentiment of Trump's tweets. VADER is a lexicon and rule-based sentiment analysis tool that is specifically attuned to sentiments expressed in social media which is great for our usage.\n",
    "\n",
    "The VADER lexicon gives the sentiment of individual words. Run the following cell to show the first few rows of the lexicon:"
   ]
  },
  {
   "cell_type": "code",
   "execution_count": 529,
   "metadata": {
    "id": "NICSCaj_apP9",
    "outputId": "f2ddb09d-b75a-41c9-a12b-89eec667c346"
   },
   "outputs": [
    {
     "name": "stdout",
     "output_type": "stream",
     "text": [
      "$:\t-1.5\t0.80623\t[-1, -1, -1, -1, -3, -1, -3, -1, -2, -1]\n",
      "%)\t-0.4\t1.0198\t[-1, 0, -1, 0, 0, -2, -1, 2, -1, 0]\n",
      "%-)\t-1.5\t1.43178\t[-2, 0, -2, -2, -1, 2, -2, -3, -2, -3]\n",
      "&-:\t-0.4\t1.42829\t[-3, -1, 0, 0, -1, -1, -1, 2, -1, 2]\n",
      "&:\t-0.7\t0.64031\t[0, -1, -1, -1, 1, -1, -1, -1, -1, -1]\n",
      "( '}{' )\t1.6\t0.66332\t[1, 2, 2, 1, 1, 2, 2, 1, 3, 1]\n",
      "(%\t-0.9\t0.9434\t[0, 0, 1, -1, -1, -1, -2, -2, -1, -2]\n",
      "('-:\t2.2\t1.16619\t[4, 1, 4, 3, 1, 2, 3, 1, 2, 1]\n",
      "(':\t2.3\t0.9\t[1, 3, 3, 2, 2, 4, 2, 3, 1, 2]\n",
      "((-:\t2.1\t0.53852\t[2, 2, 2, 1, 2, 3, 2, 2, 3, 2]\n",
      "\n"
     ]
    }
   ],
   "source": [
    "print(''.join(open(\"data/vader_lexicon.txt\").readlines()[:10]))"
   ]
  },
  {
   "cell_type": "markdown",
   "metadata": {
    "id": "Cqr5pItGapP9"
   },
   "source": [
    "### Task 4.1\n",
    "\n",
    "As you can see, the lexicon contains emojis too! The first column of the lexicon is the *token*, or the word itself. The second column is the *polarity* of the word, or how positive / negative it is.\n",
    "\n",
    "(How did they decide the polarities of these words? What are the other two columns in the lexicon? See the link above.)\n",
    "\n",
    " Read in the lexicon into a DataFrame called `df_sent`. The index of the DF should be the tokens in the lexicon. `df_sent` should have one column: `polarity`: The polarity of each token."
   ]
  },
  {
   "cell_type": "code",
   "execution_count": 530,
   "metadata": {
    "id": "TR_upovHapP9"
   },
   "outputs": [],
   "source": [
    "### BEGIN SOLUTION\n",
    "df_sent = pd.read_csv(\"data/vader_lexicon.txt\", sep=\"\\t\", header=None)\n",
    "df_sent = df_sent.set_index(df_sent.columns[0])\n",
    "df_sent = df_sent.drop(columns=[2, 3])\n",
    "df_sent = df_sent.rename(columns = {1: 'polarity'})\n",
    "\n",
    "### END SOLUTION"
   ]
  },
  {
   "cell_type": "markdown",
   "metadata": {
    "id": "rP0VMBSFapP9"
   },
   "source": [
    "### Task 4.2\n",
    "\n",
    "Now, let's use this lexicon to calculate the overall sentiment for each of Trump's tweets. Here's the basic idea:\n",
    "\n",
    "1. For each tweet, find the sentiment of each word.\n",
    "2. Calculate the sentiment of each tweet by taking the sum of the sentiments of its words.\n",
    "\n",
    "First, let's lowercase the text in the tweets since the lexicon is also lowercase. Set the `text` column of the `df_trump` DF to be the lowercased text of each tweet."
   ]
  },
  {
   "cell_type": "code",
   "execution_count": 531,
   "metadata": {
    "id": "s5sBadfbapP9"
   },
   "outputs": [],
   "source": [
    "### BEGIN SOLUTION\n",
    "df_trump['text'] = df_trump['text'].str.lower()\n",
    "\n",
    "### END SOLUTION"
   ]
  },
  {
   "cell_type": "markdown",
   "metadata": {
    "id": "cqK4HQNVapP-"
   },
   "source": [
    "### Task 4.3\n",
    "\n",
    "Now, let's get rid of punctuation since it'll cause us to fail to match words. Create a new column called `no_punc` in the `df_trump` to be the lowercased text of each tweet with all punctuation replaced by a single space. We consider punctuation characters to be any character that isn't a Unicode word character or a whitespace character. You may want to consult the Python documentation on regexes for this problem.\n",
    "\n",
    "(Why don't we simply remove punctuation instead of replacing with a space? See if you can figure this out by looking at the tweet data.)"
   ]
  },
  {
   "cell_type": "code",
   "execution_count": 532,
   "metadata": {
    "id": "QNAvW1axapP-"
   },
   "outputs": [
    {
     "name": "stderr",
     "output_type": "stream",
     "text": [
      "<ipython-input-532-ae12571bad8d>:6: FutureWarning: The default value of regex will change from True to False in a future version.\n",
      "  df_trump['no_punc'] = df_trump['text'].str.replace(punct_re, ' ')\n"
     ]
    }
   ],
   "source": [
    "# Save your regex in punct_re\n",
    "punct_re = r'[^\\w\\s\\\\n]'\n",
    "\n",
    "\n",
    "### BEGIN SOLUTION\n",
    "df_trump['no_punc'] = df_trump['text'].str.replace(punct_re, ' ')\n",
    "\n",
    "### END SOLUTION"
   ]
  },
  {
   "cell_type": "code",
   "execution_count": 534,
   "metadata": {
    "id": "fmaOn2D7apP-"
   },
   "outputs": [],
   "source": [
    "assert isinstance(punct_re, str)\n",
    "assert re.search(punct_re, 'this') is None\n",
    "assert re.search(punct_re, 'this is ok') is None\n",
    "assert re.search(punct_re, 'this is\\nok') is None\n",
    "assert re.search(punct_re, 'this is not ok.') is not None\n",
    "assert re.search(punct_re, 'this#is#ok') is not None\n",
    "assert re.search(punct_re, 'this^is ok') is not None\n",
    "assert df_trump['no_punc'].loc[800329364986626048] == 'i watched parts of  nbcsnl saturday night live last night  it is a totally one sided  biased show   nothing funny at all  equal time for us '\n",
    "assert df_trump['text'].loc[884740553040175104] == 'working hard to get the olympics for the united states (l.a.). stay tuned!'\n"
   ]
  },
  {
   "cell_type": "markdown",
   "metadata": {
    "id": "2KsT--c-apP-"
   },
   "source": [
    "### Task 4.4\n",
    "\n",
    "\n",
    "Now, let's convert the tweets into what's called a [*tidy format*](https://cran.r-project.org/web/packages/tidyr/vignettes/tidy-data.html) to make the sentiments easier to calculate. Use the `no_punc` column of `df_trump` to create a table called `tidy_format`. The index of the table should be the IDs of the tweets, repeated once for every word in the tweet. It has two columns:\n",
    "\n",
    "1. `num`: The location of the word in the tweet. For example, if the tweet was \"i love america\", then the location of the word \"i\" is 0, \"love\" is 1, and \"america\" is 2.\n",
    "2. `word`: The individual words of each tweet.\n",
    "\n",
    "The first few rows of our `tidy_format` table look like:\n",
    "\n",
    "<table border=\"1\" class=\"dataframe\">\n",
    "  <thead>\n",
    "    <tr style=\"text-align: right;\">\n",
    "      <th></th>\n",
    "      <th>num</th>\n",
    "      <th>word</th>\n",
    "    </tr>\n",
    "  </thead>\n",
    "  <tbody>\n",
    "    <tr>\n",
    "      <th>894661651760377856</th>\n",
    "      <td>0</td>\n",
    "      <td>i</td>\n",
    "    </tr>\n",
    "    <tr>\n",
    "      <th>894661651760377856</th>\n",
    "      <td>1</td>\n",
    "      <td>think</td>\n",
    "    </tr>\n",
    "    <tr>\n",
    "      <th>894661651760377856</th>\n",
    "      <td>2</td>\n",
    "      <td>senator</td>\n",
    "    </tr>\n",
    "    <tr>\n",
    "      <th>894661651760377856</th>\n",
    "      <td>3</td>\n",
    "      <td>blumenthal</td>\n",
    "    </tr>\n",
    "    <tr>\n",
    "      <th>894661651760377856</th>\n",
    "      <td>4</td>\n",
    "      <td>should</td>\n",
    "    </tr>\n",
    "  </tbody>\n",
    "</table>\n",
    "\n",
    "You can double check that your tweet with ID `894661651760377856` has the same rows as ours. Our tests don't check whether your table looks exactly like ours.\n",
    "\n",
    "As usual, try to avoid using any for loops. Our solution uses a chain of 5 methods on the 'trump' DF, albeit using some rather advanced Pandas hacking.\n",
    "\n",
    "* **Hint 1:** Try looking at the `expand` argument to pandas' `str.split`.\n",
    "\n",
    "* **Hint 2:** Try looking at the `stack()` method.\n",
    "\n",
    "* **Hint 3:** Try looking at the `level` parameter of the `reset_index` method."
   ]
  },
  {
   "cell_type": "code",
   "execution_count": 535,
   "metadata": {
    "id": "BqaENYt3apP-"
   },
   "outputs": [],
   "source": [
    "#tidy_format = ...\n",
    "\n",
    "### BEGIN SOLUTION\n",
    "tidy_format = df_trump['no_punc'].str.split(expand=True)\n",
    "tidy_format = tidy_format.stack()\n",
    "tidy_format = tidy_format.to_frame()\n",
    "tidy_format = tidy_format.reset_index()\n",
    "tidy_format = tidy_format.set_index('id')\n",
    "tidy_format.columns = ['num', 'word']\n",
    "\n",
    "### END SOLUTION"
   ]
  },
  {
   "cell_type": "code",
   "execution_count": 340,
   "metadata": {
    "id": "WPHMJKK1apP-"
   },
   "outputs": [],
   "source": [
    "assert tidy_format.loc[894661651760377856].shape == (27, 2)\n",
    "assert ' '.join(list(tidy_format.loc[894661651760377856]['word'])) == 'i think senator blumenthal should take a nice long vacation in vietnam where he lied about his service so he can at least say he was there'"
   ]
  },
  {
   "cell_type": "markdown",
   "metadata": {
    "id": "LCkJmueyapP-"
   },
   "source": [
    "### Task 4.5\n",
    "\n",
    "Now that we have this table in the tidy format, it becomes much easier to find the sentiment of each tweet: we can join the table with the lexicon table. \n",
    "\n",
    "Add a `polarity` column to the `df_trump` table.  The `polarity` column should contain the sum of the sentiment polarity of each word in the text of the tweet.\n",
    "\n",
    "**Hint** you will need to merge the `tidy_format` and `df_sent` tables and group the final answer.\n"
   ]
  },
  {
   "cell_type": "code",
   "execution_count": 341,
   "metadata": {
    "id": "Aem_gXlMapP-"
   },
   "outputs": [
    {
     "data": {
      "text/html": [
       "<div>\n",
       "<style scoped>\n",
       "    .dataframe tbody tr th:only-of-type {\n",
       "        vertical-align: middle;\n",
       "    }\n",
       "\n",
       "    .dataframe tbody tr th {\n",
       "        vertical-align: top;\n",
       "    }\n",
       "\n",
       "    .dataframe thead th {\n",
       "        text-align: right;\n",
       "    }\n",
       "</style>\n",
       "<table border=\"1\" class=\"dataframe\">\n",
       "  <thead>\n",
       "    <tr style=\"text-align: right;\">\n",
       "      <th></th>\n",
       "      <th>source</th>\n",
       "      <th>text</th>\n",
       "      <th>time</th>\n",
       "      <th>retweet_count</th>\n",
       "      <th>est_time</th>\n",
       "      <th>hour</th>\n",
       "      <th>roundhour</th>\n",
       "      <th>year</th>\n",
       "      <th>no_punc</th>\n",
       "      <th>polarity</th>\n",
       "    </tr>\n",
       "    <tr>\n",
       "      <th>id</th>\n",
       "      <th></th>\n",
       "      <th></th>\n",
       "      <th></th>\n",
       "      <th></th>\n",
       "      <th></th>\n",
       "      <th></th>\n",
       "      <th></th>\n",
       "      <th></th>\n",
       "      <th></th>\n",
       "      <th></th>\n",
       "    </tr>\n",
       "  </thead>\n",
       "  <tbody>\n",
       "    <tr>\n",
       "      <th>682723973449289728</th>\n",
       "      <td>Twitter for Android</td>\n",
       "      <td>i will be on @foxnews live,  with members of my family, at 11:50 p.m. we will ring in the new year together! make america great again!</td>\n",
       "      <td>2016-01-01 00:44:14+00:00</td>\n",
       "      <td>2108</td>\n",
       "      <td>2015-12-31 19:44:14-05:00</td>\n",
       "      <td>19.737222</td>\n",
       "      <td>20.0</td>\n",
       "      <td>2016.000000</td>\n",
       "      <td>i will be on  foxnews live   with members of my family  at 11 50 p m  we will ring in the new year together  make america great again</td>\n",
       "      <td>3.1</td>\n",
       "    </tr>\n",
       "    <tr>\n",
       "      <th>682764544402440192</th>\n",
       "      <td>Twitter for iPhone</td>\n",
       "      <td>happy new year &amp;amp; thank you! https://t.co/yo1yi8qbzy https://t.co/uxuxwj1rbv</td>\n",
       "      <td>2016-01-01 03:25:27+00:00</td>\n",
       "      <td>3460</td>\n",
       "      <td>2015-12-31 22:25:27-05:00</td>\n",
       "      <td>22.424167</td>\n",
       "      <td>22.0</td>\n",
       "      <td>2016.000000</td>\n",
       "      <td>happy new year  amp  thank you  https   t co yo1yi8qbzy https   t co uxuxwj1rbv</td>\n",
       "      <td>4.2</td>\n",
       "    </tr>\n",
       "    <tr>\n",
       "      <th>682792967736848385</th>\n",
       "      <td>Twitter for iPhone</td>\n",
       "      <td>#happynewyearamerica! https://t.co/eeqb8pdrue</td>\n",
       "      <td>2016-01-01 05:18:23+00:00</td>\n",
       "      <td>3434</td>\n",
       "      <td>2016-01-01 00:18:23-05:00</td>\n",
       "      <td>0.306389</td>\n",
       "      <td>0.0</td>\n",
       "      <td>2016.000000</td>\n",
       "      <td>happynewyearamerica  https   t co eeqb8pdrue</td>\n",
       "      <td>0.0</td>\n",
       "    </tr>\n",
       "    <tr>\n",
       "      <th>682805320217980929</th>\n",
       "      <td>Twitter for iPhone</td>\n",
       "      <td>happy new year from #maralago! thank you to my great family for all of their support. https://t.co/6usqsiaaj7</td>\n",
       "      <td>2016-01-01 06:07:28+00:00</td>\n",
       "      <td>1948</td>\n",
       "      <td>2016-01-01 01:07:28-05:00</td>\n",
       "      <td>1.124444</td>\n",
       "      <td>1.0</td>\n",
       "      <td>2016.000000</td>\n",
       "      <td>happy new year from  maralago  thank you to my great family for all of their support  https   t co 6usqsiaaj7</td>\n",
       "      <td>9.0</td>\n",
       "    </tr>\n",
       "    <tr>\n",
       "      <th>682805477168779264</th>\n",
       "      <td>Twitter for Android</td>\n",
       "      <td>\"@jallenaip: hillary said she was in a \"fog of war\" as explanation for the lies about benghazi. no fog allowed in wh. vote trump potus!\"</td>\n",
       "      <td>2016-01-01 06:08:06+00:00</td>\n",
       "      <td>2721</td>\n",
       "      <td>2016-01-01 01:08:06-05:00</td>\n",
       "      <td>1.135000</td>\n",
       "      <td>1.0</td>\n",
       "      <td>2016.000000</td>\n",
       "      <td>jallenaip  hillary said she was in a  fog of war  as explanation for the lies about benghazi  no fog allowed in wh  vote trump potus</td>\n",
       "      <td>-5.9</td>\n",
       "    </tr>\n",
       "    <tr>\n",
       "      <th>...</th>\n",
       "      <td>...</td>\n",
       "      <td>...</td>\n",
       "      <td>...</td>\n",
       "      <td>...</td>\n",
       "      <td>...</td>\n",
       "      <td>...</td>\n",
       "      <td>...</td>\n",
       "      <td>...</td>\n",
       "      <td>...</td>\n",
       "      <td>...</td>\n",
       "    </tr>\n",
       "    <tr>\n",
       "      <th>1052213711295930368</th>\n",
       "      <td>Twitter for iPhone</td>\n",
       "      <td>“federal judge throws out stormy danials lawsuit versus trump. trump is entitled to full legal fees.” @foxnews great, now i can go after horseface and her 3rd rate lawyer in the great state of texas. she will confirm the letter she signed! she knows nothing about me, a total ...</td>\n",
       "      <td>2018-10-16 15:04:32+00:00</td>\n",
       "      <td>14594</td>\n",
       "      <td>2018-10-16 10:04:32-05:00</td>\n",
       "      <td>10.075556</td>\n",
       "      <td>10.0</td>\n",
       "      <td>2018.789041</td>\n",
       "      <td>federal judge throws out stormy danials lawsuit versus trump  trump is entitled to full legal fees    foxnews great  now i can go after horseface and her 3rd rate lawyer in the great state of texas  she will confirm the letter she signed  she knows nothing about me  a total ...</td>\n",
       "      <td>6.9</td>\n",
       "    </tr>\n",
       "    <tr>\n",
       "      <th>1052217314463100928</th>\n",
       "      <td>Twitter for iPhone</td>\n",
       "      <td>“conflict between glen simpson’s testimony to another house panel about his contact with justice department official bruce ohr. ohr was used by simpson and steele as a back channel to get (fake) dossier to fbi. simpson pleading fifth.” catherine herridge. where is jeff sessions?</td>\n",
       "      <td>2018-10-16 15:18:51+00:00</td>\n",
       "      <td>6271</td>\n",
       "      <td>2018-10-16 10:18:51-05:00</td>\n",
       "      <td>10.314167</td>\n",
       "      <td>10.0</td>\n",
       "      <td>2018.789041</td>\n",
       "      <td>conflict between glen simpson s testimony to another house panel about his contact with justice department official bruce ohr  ohr was used by simpson and steele as a back channel to get  fake  dossier to fbi  simpson pleading fifth   catherine herridge  where is jeff sessions</td>\n",
       "      <td>-1.0</td>\n",
       "    </tr>\n",
       "    <tr>\n",
       "      <th>1052219253384994816</th>\n",
       "      <td>Twitter for iPhone</td>\n",
       "      <td>is it really possible that bruce ohr, whose wife nellie was paid by simpson and gps fusion for work done on the fake dossier, and who was used as a pawn in this whole scam (witch hunt), is still working for the department of justice????? can this really be so?????</td>\n",
       "      <td>2018-10-16 15:26:33+00:00</td>\n",
       "      <td>13103</td>\n",
       "      <td>2018-10-16 10:26:33-05:00</td>\n",
       "      <td>10.442500</td>\n",
       "      <td>10.0</td>\n",
       "      <td>2018.789041</td>\n",
       "      <td>is it really possible that bruce ohr  whose wife nellie was paid by simpson and gps fusion for work done on the fake dossier  and who was used as a pawn in this whole scam  witch hunt   is still working for the department of justice      can this really be so</td>\n",
       "      <td>-3.9</td>\n",
       "    </tr>\n",
       "    <tr>\n",
       "      <th>1052232230972678145</th>\n",
       "      <td>Twitter for iPhone</td>\n",
       "      <td>rt @whitehouse: https://t.co/rnqlpots3o</td>\n",
       "      <td>2018-10-16 16:18:08+00:00</td>\n",
       "      <td>4478</td>\n",
       "      <td>2018-10-16 11:18:08-05:00</td>\n",
       "      <td>11.302222</td>\n",
       "      <td>11.0</td>\n",
       "      <td>2018.789041</td>\n",
       "      <td>rt  whitehouse  https   t co rnqlpots3o</td>\n",
       "      <td>0.0</td>\n",
       "    </tr>\n",
       "    <tr>\n",
       "      <th>1052233253040640001</th>\n",
       "      <td>Twitter for iPhone</td>\n",
       "      <td>register to https://t.co/0pwiwchgbh! #maga🇺🇸 https://t.co/actme53tzu</td>\n",
       "      <td>2018-10-16 16:22:11+00:00</td>\n",
       "      <td>5415</td>\n",
       "      <td>2018-10-16 11:22:11-05:00</td>\n",
       "      <td>11.369722</td>\n",
       "      <td>11.0</td>\n",
       "      <td>2018.789041</td>\n",
       "      <td>register to https   t co 0pwiwchgbh   maga   https   t co actme53tzu</td>\n",
       "      <td>0.0</td>\n",
       "    </tr>\n",
       "  </tbody>\n",
       "</table>\n",
       "<p>9478 rows × 10 columns</p>\n",
       "</div>"
      ],
      "text/plain": [
       "                                  source  \\\n",
       "id                                         \n",
       "682723973449289728   Twitter for Android   \n",
       "682764544402440192    Twitter for iPhone   \n",
       "682792967736848385    Twitter for iPhone   \n",
       "682805320217980929    Twitter for iPhone   \n",
       "682805477168779264   Twitter for Android   \n",
       "...                                  ...   \n",
       "1052213711295930368   Twitter for iPhone   \n",
       "1052217314463100928   Twitter for iPhone   \n",
       "1052219253384994816   Twitter for iPhone   \n",
       "1052232230972678145   Twitter for iPhone   \n",
       "1052233253040640001   Twitter for iPhone   \n",
       "\n",
       "                                                                                                                                                                                                                                                                                                        text  \\\n",
       "id                                                                                                                                                                                                                                                                                                             \n",
       "682723973449289728                                                                                                                                                    i will be on @foxnews live,  with members of my family, at 11:50 p.m. we will ring in the new year together! make america great again!   \n",
       "682764544402440192                                                                                                                                                                                                           happy new year &amp; thank you! https://t.co/yo1yi8qbzy https://t.co/uxuxwj1rbv   \n",
       "682792967736848385                                                                                                                                                                                                                                             #happynewyearamerica! https://t.co/eeqb8pdrue   \n",
       "682805320217980929                                                                                                                                                                             happy new year from #maralago! thank you to my great family for all of their support. https://t.co/6usqsiaaj7   \n",
       "682805477168779264                                                                                                                                                  \"@jallenaip: hillary said she was in a \"fog of war\" as explanation for the lies about benghazi. no fog allowed in wh. vote trump potus!\"   \n",
       "...                                                                                                                                                                                                                                                                                                      ...   \n",
       "1052213711295930368  “federal judge throws out stormy danials lawsuit versus trump. trump is entitled to full legal fees.” @foxnews great, now i can go after horseface and her 3rd rate lawyer in the great state of texas. she will confirm the letter she signed! she knows nothing about me, a total ...   \n",
       "1052217314463100928  “conflict between glen simpson’s testimony to another house panel about his contact with justice department official bruce ohr. ohr was used by simpson and steele as a back channel to get (fake) dossier to fbi. simpson pleading fifth.” catherine herridge. where is jeff sessions?   \n",
       "1052219253384994816                 is it really possible that bruce ohr, whose wife nellie was paid by simpson and gps fusion for work done on the fake dossier, and who was used as a pawn in this whole scam (witch hunt), is still working for the department of justice????? can this really be so?????   \n",
       "1052232230972678145                                                                                                                                                                                                                                                  rt @whitehouse: https://t.co/rnqlpots3o   \n",
       "1052233253040640001                                                                                                                                                                                                                     register to https://t.co/0pwiwchgbh! #maga🇺🇸 https://t.co/actme53tzu   \n",
       "\n",
       "                                         time  retweet_count  \\\n",
       "id                                                             \n",
       "682723973449289728  2016-01-01 00:44:14+00:00           2108   \n",
       "682764544402440192  2016-01-01 03:25:27+00:00           3460   \n",
       "682792967736848385  2016-01-01 05:18:23+00:00           3434   \n",
       "682805320217980929  2016-01-01 06:07:28+00:00           1948   \n",
       "682805477168779264  2016-01-01 06:08:06+00:00           2721   \n",
       "...                                       ...            ...   \n",
       "1052213711295930368 2018-10-16 15:04:32+00:00          14594   \n",
       "1052217314463100928 2018-10-16 15:18:51+00:00           6271   \n",
       "1052219253384994816 2018-10-16 15:26:33+00:00          13103   \n",
       "1052232230972678145 2018-10-16 16:18:08+00:00           4478   \n",
       "1052233253040640001 2018-10-16 16:22:11+00:00           5415   \n",
       "\n",
       "                                     est_time       hour  roundhour  \\\n",
       "id                                                                    \n",
       "682723973449289728  2015-12-31 19:44:14-05:00  19.737222       20.0   \n",
       "682764544402440192  2015-12-31 22:25:27-05:00  22.424167       22.0   \n",
       "682792967736848385  2016-01-01 00:18:23-05:00   0.306389        0.0   \n",
       "682805320217980929  2016-01-01 01:07:28-05:00   1.124444        1.0   \n",
       "682805477168779264  2016-01-01 01:08:06-05:00   1.135000        1.0   \n",
       "...                                       ...        ...        ...   \n",
       "1052213711295930368 2018-10-16 10:04:32-05:00  10.075556       10.0   \n",
       "1052217314463100928 2018-10-16 10:18:51-05:00  10.314167       10.0   \n",
       "1052219253384994816 2018-10-16 10:26:33-05:00  10.442500       10.0   \n",
       "1052232230972678145 2018-10-16 11:18:08-05:00  11.302222       11.0   \n",
       "1052233253040640001 2018-10-16 11:22:11-05:00  11.369722       11.0   \n",
       "\n",
       "                            year  \\\n",
       "id                                 \n",
       "682723973449289728   2016.000000   \n",
       "682764544402440192   2016.000000   \n",
       "682792967736848385   2016.000000   \n",
       "682805320217980929   2016.000000   \n",
       "682805477168779264   2016.000000   \n",
       "...                          ...   \n",
       "1052213711295930368  2018.789041   \n",
       "1052217314463100928  2018.789041   \n",
       "1052219253384994816  2018.789041   \n",
       "1052232230972678145  2018.789041   \n",
       "1052233253040640001  2018.789041   \n",
       "\n",
       "                                                                                                                                                                                                                                                                                                     no_punc  \\\n",
       "id                                                                                                                                                                                                                                                                                                             \n",
       "682723973449289728                                                                                                                                                    i will be on  foxnews live   with members of my family  at 11 50 p m  we will ring in the new year together  make america great again    \n",
       "682764544402440192                                                                                                                                                                                                           happy new year  amp  thank you  https   t co yo1yi8qbzy https   t co uxuxwj1rbv   \n",
       "682792967736848385                                                                                                                                                                                                                                              happynewyearamerica  https   t co eeqb8pdrue   \n",
       "682805320217980929                                                                                                                                                                             happy new year from  maralago  thank you to my great family for all of their support  https   t co 6usqsiaaj7   \n",
       "682805477168779264                                                                                                                                                    jallenaip  hillary said she was in a  fog of war  as explanation for the lies about benghazi  no fog allowed in wh  vote trump potus     \n",
       "...                                                                                                                                                                                                                                                                                                      ...   \n",
       "1052213711295930368   federal judge throws out stormy danials lawsuit versus trump  trump is entitled to full legal fees    foxnews great  now i can go after horseface and her 3rd rate lawyer in the great state of texas  she will confirm the letter she signed  she knows nothing about me  a total ...   \n",
       "1052217314463100928   conflict between glen simpson s testimony to another house panel about his contact with justice department official bruce ohr  ohr was used by simpson and steele as a back channel to get  fake  dossier to fbi  simpson pleading fifth   catherine herridge  where is jeff sessions    \n",
       "1052219253384994816                 is it really possible that bruce ohr  whose wife nellie was paid by simpson and gps fusion for work done on the fake dossier  and who was used as a pawn in this whole scam  witch hunt   is still working for the department of justice      can this really be so        \n",
       "1052232230972678145                                                                                                                                                                                                                                                  rt  whitehouse  https   t co rnqlpots3o   \n",
       "1052233253040640001                                                                                                                                                                                                                     register to https   t co 0pwiwchgbh   maga   https   t co actme53tzu   \n",
       "\n",
       "                     polarity  \n",
       "id                             \n",
       "682723973449289728        3.1  \n",
       "682764544402440192        4.2  \n",
       "682792967736848385        0.0  \n",
       "682805320217980929        9.0  \n",
       "682805477168779264       -5.9  \n",
       "...                       ...  \n",
       "1052213711295930368       6.9  \n",
       "1052217314463100928      -1.0  \n",
       "1052219253384994816      -3.9  \n",
       "1052232230972678145       0.0  \n",
       "1052233253040640001       0.0  \n",
       "\n",
       "[9478 rows x 10 columns]"
      ]
     },
     "execution_count": 341,
     "metadata": {},
     "output_type": "execute_result"
    }
   ],
   "source": [
    "#df_trump['polarity'] = ...\n",
    "\n",
    "### BEGIN SOLUTION\n",
    "merged = tidy_format.merge(df_sent, left_on='word', right_on=df_sent.index, how= \"left\", right_index=True)\n",
    "#replace nans with zero\n",
    "merged = merged.fillna(0)\n",
    "merged = merged.groupby('id')['polarity'].sum()\n",
    "\n",
    "df_trump['polarity'] = merged\n",
    "df_trump\n",
    "### END SOLUTION"
   ]
  },
  {
   "cell_type": "code",
   "execution_count": 342,
   "metadata": {
    "id": "mhgNONHiapP-"
   },
   "outputs": [],
   "source": [
    "assert np.allclose(df_trump.loc[744701872456536064, 'polarity'], 8.4)\n",
    "assert np.allclose(df_trump.loc[745304731346702336, 'polarity'], 2.5)\n",
    "assert np.allclose(df_trump.loc[744519497764184064, 'polarity'], 1.7)\n",
    "assert np.allclose(df_trump.loc[894661651760377856, 'polarity'], 0.2)\n",
    "assert np.allclose(df_trump.loc[894620077634592769, 'polarity'], 5.4)\n",
    "# If you fail this test, you dropped tweets with 0 polarity\n",
    "assert np.allclose(df_trump.loc[744355251365511169, 'polarity'], 0.0)\n"
   ]
  },
  {
   "cell_type": "markdown",
   "metadata": {
    "id": "7iNmWEDNapP-"
   },
   "source": [
    "### Task 4.6\n",
    "Now we have a measure of the sentiment of each of his tweets! You can read over the VADER readme to understand a more robust sentiment analysis.\n",
    "Now, write the code to see the most positive and most negative tweets from Trump in your dataset:\n",
    "Find the most negative and most positive tweets made by Trump"
   ]
  },
  {
   "cell_type": "code",
   "execution_count": 343,
   "metadata": {
    "id": "MFanLgGlapP-"
   },
   "outputs": [
    {
     "name": "stdout",
     "output_type": "stream",
     "text": [
      "Most negative tweets:\n"
     ]
    },
    {
     "data": {
      "text/html": [
       "<div>\n",
       "<style scoped>\n",
       "    .dataframe tbody tr th:only-of-type {\n",
       "        vertical-align: middle;\n",
       "    }\n",
       "\n",
       "    .dataframe tbody tr th {\n",
       "        vertical-align: top;\n",
       "    }\n",
       "\n",
       "    .dataframe thead th {\n",
       "        text-align: right;\n",
       "    }\n",
       "</style>\n",
       "<table border=\"1\" class=\"dataframe\">\n",
       "  <thead>\n",
       "    <tr style=\"text-align: right;\">\n",
       "      <th></th>\n",
       "      <th>source</th>\n",
       "      <th>text</th>\n",
       "      <th>time</th>\n",
       "      <th>retweet_count</th>\n",
       "      <th>est_time</th>\n",
       "      <th>hour</th>\n",
       "      <th>roundhour</th>\n",
       "      <th>year</th>\n",
       "      <th>no_punc</th>\n",
       "      <th>polarity</th>\n",
       "    </tr>\n",
       "    <tr>\n",
       "      <th>id</th>\n",
       "      <th></th>\n",
       "      <th></th>\n",
       "      <th></th>\n",
       "      <th></th>\n",
       "      <th></th>\n",
       "      <th></th>\n",
       "      <th></th>\n",
       "      <th></th>\n",
       "      <th></th>\n",
       "      <th></th>\n",
       "    </tr>\n",
       "  </thead>\n",
       "  <tbody>\n",
       "    <tr>\n",
       "      <th>1031590431379865600</th>\n",
       "      <td>Twitter for iPhone</td>\n",
       "      <td>it is outrageous that poisonous synthetic heroin fentanyl comes pouring into the u.s. postal system from china. we can, and must, end this now! the senate should pass the stop act – and firmly stop this poison from killing our children and destroying our country. no more delay!</td>\n",
       "      <td>2018-08-20 17:14:59+00:00</td>\n",
       "      <td>28007</td>\n",
       "      <td>2018-08-20 12:14:59-05:00</td>\n",
       "      <td>12.249722</td>\n",
       "      <td>12.0</td>\n",
       "      <td>2018.632877</td>\n",
       "      <td>it is outrageous that poisonous synthetic heroin fentanyl comes pouring into the u s  postal system from china  we can  and must  end this now  the senate should pass the stop act   and firmly stop this poison from killing our children and destroying our country  no more delay</td>\n",
       "      <td>-20.3</td>\n",
       "    </tr>\n",
       "    <tr>\n",
       "      <th>1029731513573822464</th>\n",
       "      <td>Twitter for iPhone</td>\n",
       "      <td>the rigged russian witch hunt goes on and on as the “originators and founders” of this scam continue to be fired and demoted for their corrupt and illegal activity. all credibility is gone from this terrible hoax, and much more will be lost as it proceeds. no collusion!</td>\n",
       "      <td>2018-08-15 14:08:18+00:00</td>\n",
       "      <td>18887</td>\n",
       "      <td>2018-08-15 09:08:18-05:00</td>\n",
       "      <td>9.138333</td>\n",
       "      <td>9.0</td>\n",
       "      <td>2018.619178</td>\n",
       "      <td>the rigged russian witch hunt goes on and on as the  originators and founders  of this scam continue to be fired and demoted for their corrupt and illegal activity  all credibility is gone from this terrible hoax  and much more will be lost as it proceeds  no collusion</td>\n",
       "      <td>-16.6</td>\n",
       "    </tr>\n",
       "    <tr>\n",
       "      <th>984763579210633216</th>\n",
       "      <td>Twitter for iPhone</td>\n",
       "      <td>james comey is a proven leaker &amp;amp; liar. virtually everyone in washington thought he should be fired for the terrible job he did-until he was, in fact, fired. he leaked classified information, for which he should be prosecuted. he lied to congress under oath. he is a weak a...</td>\n",
       "      <td>2018-04-13 12:01:47+00:00</td>\n",
       "      <td>31488</td>\n",
       "      <td>2018-04-13 07:01:47-05:00</td>\n",
       "      <td>7.029722</td>\n",
       "      <td>7.0</td>\n",
       "      <td>2018.279452</td>\n",
       "      <td>james comey is a proven leaker  amp  liar  virtually everyone in washington thought he should be fired for the terrible job he did until he was  in fact  fired  he leaked classified information  for which he should be prosecuted  he lied to congress under oath  he is a weak a...</td>\n",
       "      <td>-16.0</td>\n",
       "    </tr>\n",
       "    <tr>\n",
       "      <th>1027585937163931648</th>\n",
       "      <td>Twitter for iPhone</td>\n",
       "      <td>this is an illegally brought rigged witch hunt run by people who are totally corrupt and/or conflicted. it was started and paid for by crooked hillary and the democrats. phony dossier, fisa disgrace and so many lying and dishonest people already fired. 17 angry dems? stay tuned!</td>\n",
       "      <td>2018-08-09 16:02:33+00:00</td>\n",
       "      <td>25954</td>\n",
       "      <td>2018-08-09 11:02:33-05:00</td>\n",
       "      <td>11.042500</td>\n",
       "      <td>11.0</td>\n",
       "      <td>2018.602740</td>\n",
       "      <td>this is an illegally brought rigged witch hunt run by people who are totally corrupt and or conflicted  it was started and paid for by crooked hillary and the democrats  phony dossier  fisa disgrace and so many lying and dishonest people already fired  17 angry dems  stay tuned</td>\n",
       "      <td>-15.2</td>\n",
       "    </tr>\n",
       "    <tr>\n",
       "      <th>1031508193107763200</th>\n",
       "      <td>Twitter for iPhone</td>\n",
       "      <td>where’s the collusion? they made up a phony crime called collusion, and when there was no collusion they say there was obstruction (of a phony crime that never existed). if you fight back or say anything bad about the rigged witch hunt, they scream obstruction!</td>\n",
       "      <td>2018-08-20 11:48:12+00:00</td>\n",
       "      <td>23739</td>\n",
       "      <td>2018-08-20 06:48:12-05:00</td>\n",
       "      <td>6.803333</td>\n",
       "      <td>7.0</td>\n",
       "      <td>2018.632877</td>\n",
       "      <td>where s the collusion  they made up a phony crime called collusion  and when there was no collusion they say there was obstruction  of a phony crime that never existed   if you fight back or say anything bad about the rigged witch hunt  they scream obstruction</td>\n",
       "      <td>-15.0</td>\n",
       "    </tr>\n",
       "    <tr>\n",
       "      <th>1022808452677160960</th>\n",
       "      <td>Twitter for iPhone</td>\n",
       "      <td>....,the only collusion with russia was with the democrats, so now they are looking at my tweets (along with 53 million other people) - the rigged witch hunt continues! how stupid and unfair to our country....and so the fake news doesn’t waste my time with dumb questions, no,...</td>\n",
       "      <td>2018-07-27 11:38:32+00:00</td>\n",
       "      <td>22298</td>\n",
       "      <td>2018-07-27 06:38:32-05:00</td>\n",
       "      <td>6.642222</td>\n",
       "      <td>7.0</td>\n",
       "      <td>2018.567123</td>\n",
       "      <td>the only collusion with russia was with the democrats  so now they are looking at my tweets  along with 53 million other people    the rigged witch hunt continues  how stupid and unfair to our country    and so the fake news doesn t waste my time with dumb questions  no ...</td>\n",
       "      <td>-14.9</td>\n",
       "    </tr>\n",
       "    <tr>\n",
       "      <th>1031137499995930624</th>\n",
       "      <td>Twitter for iPhone</td>\n",
       "      <td>....and have demanded transparency so that this rigged and disgusting witch hunt can come to a close. so many lives have been ruined over nothing - mccarthyism at its worst! yet mueller &amp;amp; his gang of dems refuse to look at the real crimes on the other side - media is even...</td>\n",
       "      <td>2018-08-19 11:15:12+00:00</td>\n",
       "      <td>19590</td>\n",
       "      <td>2018-08-19 06:15:12-05:00</td>\n",
       "      <td>6.253333</td>\n",
       "      <td>6.0</td>\n",
       "      <td>2018.630137</td>\n",
       "      <td>and have demanded transparency so that this rigged and disgusting witch hunt can come to a close  so many lives have been ruined over nothing   mccarthyism at its worst  yet mueller  amp  his gang of dems refuse to look at the real crimes on the other side   media is even...</td>\n",
       "      <td>-14.8</td>\n",
       "    </tr>\n",
       "    <tr>\n",
       "      <th>934080974773776384</th>\n",
       "      <td>Twitter for iPhone</td>\n",
       "      <td>horrible and cowardly terrorist attack on innocent and defenseless worshipers in egypt. the world cannot tolerate terrorism, we must defeat them militarily and discredit the extremist ideology that forms the basis of their existence!</td>\n",
       "      <td>2017-11-24 15:27:13+00:00</td>\n",
       "      <td>33866</td>\n",
       "      <td>2017-11-24 10:27:13-05:00</td>\n",
       "      <td>10.453611</td>\n",
       "      <td>10.0</td>\n",
       "      <td>2017.895890</td>\n",
       "      <td>horrible and cowardly terrorist attack on innocent and defenseless worshipers in egypt  the world cannot tolerate terrorism  we must defeat them militarily and discredit the extremist ideology that forms the basis of their existence</td>\n",
       "      <td>-14.6</td>\n",
       "    </tr>\n",
       "    <tr>\n",
       "      <th>1023653191974625280</th>\n",
       "      <td>Twitter for iPhone</td>\n",
       "      <td>there is no collusion! the robert mueller rigged witch hunt, headed now by 17 (increased from 13, including an obama white house lawyer) angry democrats, was started by a fraudulent dossier, paid for by crooked hillary and the dnc. therefore, the witch hunt is an illegal scam!</td>\n",
       "      <td>2018-07-29 19:35:14+00:00</td>\n",
       "      <td>30454</td>\n",
       "      <td>2018-07-29 14:35:14-05:00</td>\n",
       "      <td>14.587222</td>\n",
       "      <td>15.0</td>\n",
       "      <td>2018.572603</td>\n",
       "      <td>there is no collusion  the robert mueller rigged witch hunt  headed now by 17  increased from 13  including an obama white house lawyer  angry democrats  was started by a fraudulent dossier  paid for by crooked hillary and the dnc  therefore  the witch hunt is an illegal scam</td>\n",
       "      <td>-14.4</td>\n",
       "    </tr>\n",
       "    <tr>\n",
       "      <th>977585879651966980</th>\n",
       "      <td>Twitter for iPhone</td>\n",
       "      <td>our thoughts and prayers are with the victims of the horrible attack in france yesterday, and we grieve the nation’s loss. we also condemn the violent actions of the attacker and anyone who would provide him support. we are with you @emmanuelmacron!</td>\n",
       "      <td>2018-03-24 16:40:11+00:00</td>\n",
       "      <td>14797</td>\n",
       "      <td>2018-03-24 11:40:11-05:00</td>\n",
       "      <td>11.669722</td>\n",
       "      <td>12.0</td>\n",
       "      <td>2018.224658</td>\n",
       "      <td>our thoughts and prayers are with the victims of the horrible attack in france yesterday  and we grieve the nation s loss  we also condemn the violent actions of the attacker and anyone who would provide him support  we are with you  emmanuelmacron</td>\n",
       "      <td>-14.3</td>\n",
       "    </tr>\n",
       "    <tr>\n",
       "      <th>1035120511259500544</th>\n",
       "      <td>Twitter for iPhone</td>\n",
       "      <td>what’s going on at @cnn is happening, to different degrees, at other networks - with @nbcnews being the worst. the good news is that andy lack(y) is about to be fired(?) for incompetence, and much worse. when lester holt got caught fudging my tape on russia, they were hurt ba...</td>\n",
       "      <td>2018-08-30 11:02:16+00:00</td>\n",
       "      <td>18558</td>\n",
       "      <td>2018-08-30 06:02:16-05:00</td>\n",
       "      <td>6.037778</td>\n",
       "      <td>6.0</td>\n",
       "      <td>2018.660274</td>\n",
       "      <td>what s going on at  cnn is happening  to different degrees  at other networks   with  nbcnews being the worst  the good news is that andy lack y  is about to be fired    for incompetence  and much worse  when lester holt got caught fudging my tape on russia  they were hurt ba...</td>\n",
       "      <td>-14.0</td>\n",
       "    </tr>\n",
       "    <tr>\n",
       "      <th>854283110191685634</th>\n",
       "      <td>Twitter for iPhone</td>\n",
       "      <td>democrat jon ossoff would be a disaster in congress. very weak on crime and illegal immigration, bad for jobs and wants higher taxes. say no</td>\n",
       "      <td>2017-04-18 10:38:59+00:00</td>\n",
       "      <td>14367</td>\n",
       "      <td>2017-04-18 05:38:59-05:00</td>\n",
       "      <td>5.649722</td>\n",
       "      <td>6.0</td>\n",
       "      <td>2017.293151</td>\n",
       "      <td>democrat jon ossoff would be a disaster in congress  very weak on crime and illegal immigration  bad for jobs and wants higher taxes  say no</td>\n",
       "      <td>-13.8</td>\n",
       "    </tr>\n",
       "    <tr>\n",
       "      <th>803423203620245504</th>\n",
       "      <td>Twitter for Android</td>\n",
       "      <td>\"@fiiibuster: @jeffzeleny pathetic - you have no sufficient evidence that donald trump did not suffer from voter fraud, shame! bad reporter.</td>\n",
       "      <td>2016-11-29 02:19:53+00:00</td>\n",
       "      <td>7723</td>\n",
       "      <td>2016-11-28 21:19:53-05:00</td>\n",
       "      <td>21.331389</td>\n",
       "      <td>21.0</td>\n",
       "      <td>2016.909836</td>\n",
       "      <td>fiiibuster   jeffzeleny pathetic   you have no sufficient evidence that donald trump did not suffer from voter fraud  shame  bad reporter</td>\n",
       "      <td>-13.8</td>\n",
       "    </tr>\n",
       "    <tr>\n",
       "      <th>984877999718895616</th>\n",
       "      <td>Twitter for iPhone</td>\n",
       "      <td>doj just issued the mccabe report - which is a total disaster. he lied! lied! lied! mccabe was totally controlled by comey - mccabe is comey!! no collusion, all made up by this den of thieves and lowlifes!</td>\n",
       "      <td>2018-04-13 19:36:27+00:00</td>\n",
       "      <td>34524</td>\n",
       "      <td>2018-04-13 14:36:27-05:00</td>\n",
       "      <td>14.607500</td>\n",
       "      <td>15.0</td>\n",
       "      <td>2018.279452</td>\n",
       "      <td>doj just issued the mccabe report   which is a total disaster  he lied  lied  lied  mccabe was totally controlled by comey   mccabe is comey   no collusion  all made up by this den of thieves and lowlifes</td>\n",
       "      <td>-13.6</td>\n",
       "    </tr>\n",
       "    <tr>\n",
       "      <th>1041330897948160002</th>\n",
       "      <td>Twitter for iPhone</td>\n",
       "      <td>the illegal mueller witch hunt continues in search of a crime. there was never collusion with russia, except by the clinton campaign, so the 17 angry democrats are looking at anything they can find. very unfair and bad for the country. also, not allowed under the law!</td>\n",
       "      <td>2018-09-16 14:20:07+00:00</td>\n",
       "      <td>25746</td>\n",
       "      <td>2018-09-16 09:20:07-05:00</td>\n",
       "      <td>9.335278</td>\n",
       "      <td>9.0</td>\n",
       "      <td>2018.706849</td>\n",
       "      <td>the illegal mueller witch hunt continues in search of a crime  there was never collusion with russia  except by the clinton campaign  so the 17 angry democrats are looking at anything they can find  very unfair and bad for the country  also  not allowed under the law</td>\n",
       "      <td>-13.5</td>\n",
       "    </tr>\n",
       "  </tbody>\n",
       "</table>\n",
       "</div>"
      ],
      "text/plain": [
       "                                  source  \\\n",
       "id                                         \n",
       "1031590431379865600   Twitter for iPhone   \n",
       "1029731513573822464   Twitter for iPhone   \n",
       "984763579210633216    Twitter for iPhone   \n",
       "1027585937163931648   Twitter for iPhone   \n",
       "1031508193107763200   Twitter for iPhone   \n",
       "1022808452677160960   Twitter for iPhone   \n",
       "1031137499995930624   Twitter for iPhone   \n",
       "934080974773776384    Twitter for iPhone   \n",
       "1023653191974625280   Twitter for iPhone   \n",
       "977585879651966980    Twitter for iPhone   \n",
       "1035120511259500544   Twitter for iPhone   \n",
       "854283110191685634    Twitter for iPhone   \n",
       "803423203620245504   Twitter for Android   \n",
       "984877999718895616    Twitter for iPhone   \n",
       "1041330897948160002   Twitter for iPhone   \n",
       "\n",
       "                                                                                                                                                                                                                                                                                                        text  \\\n",
       "id                                                                                                                                                                                                                                                                                                             \n",
       "1031590431379865600   it is outrageous that poisonous synthetic heroin fentanyl comes pouring into the u.s. postal system from china. we can, and must, end this now! the senate should pass the stop act – and firmly stop this poison from killing our children and destroying our country. no more delay!   \n",
       "1029731513573822464           the rigged russian witch hunt goes on and on as the “originators and founders” of this scam continue to be fired and demoted for their corrupt and illegal activity. all credibility is gone from this terrible hoax, and much more will be lost as it proceeds. no collusion!   \n",
       "984763579210633216   james comey is a proven leaker &amp; liar. virtually everyone in washington thought he should be fired for the terrible job he did-until he was, in fact, fired. he leaked classified information, for which he should be prosecuted. he lied to congress under oath. he is a weak a...   \n",
       "1027585937163931648  this is an illegally brought rigged witch hunt run by people who are totally corrupt and/or conflicted. it was started and paid for by crooked hillary and the democrats. phony dossier, fisa disgrace and so many lying and dishonest people already fired. 17 angry dems? stay tuned!   \n",
       "1031508193107763200                    where’s the collusion? they made up a phony crime called collusion, and when there was no collusion they say there was obstruction (of a phony crime that never existed). if you fight back or say anything bad about the rigged witch hunt, they scream obstruction!   \n",
       "1022808452677160960  ....,the only collusion with russia was with the democrats, so now they are looking at my tweets (along with 53 million other people) - the rigged witch hunt continues! how stupid and unfair to our country....and so the fake news doesn’t waste my time with dumb questions, no,...   \n",
       "1031137499995930624  ....and have demanded transparency so that this rigged and disgusting witch hunt can come to a close. so many lives have been ruined over nothing - mccarthyism at its worst! yet mueller &amp; his gang of dems refuse to look at the real crimes on the other side - media is even...   \n",
       "934080974773776384                                                 horrible and cowardly terrorist attack on innocent and defenseless worshipers in egypt. the world cannot tolerate terrorism, we must defeat them militarily and discredit the extremist ideology that forms the basis of their existence!   \n",
       "1023653191974625280    there is no collusion! the robert mueller rigged witch hunt, headed now by 17 (increased from 13, including an obama white house lawyer) angry democrats, was started by a fraudulent dossier, paid for by crooked hillary and the dnc. therefore, the witch hunt is an illegal scam!   \n",
       "977585879651966980                                 our thoughts and prayers are with the victims of the horrible attack in france yesterday, and we grieve the nation’s loss. we also condemn the violent actions of the attacker and anyone who would provide him support. we are with you @emmanuelmacron!   \n",
       "1035120511259500544  what’s going on at @cnn is happening, to different degrees, at other networks - with @nbcnews being the worst. the good news is that andy lack(y) is about to be fired(?) for incompetence, and much worse. when lester holt got caught fudging my tape on russia, they were hurt ba...   \n",
       "854283110191685634                                                                                                                                              democrat jon ossoff would be a disaster in congress. very weak on crime and illegal immigration, bad for jobs and wants higher taxes. say no   \n",
       "803423203620245504                                                                                                                                              \"@fiiibuster: @jeffzeleny pathetic - you have no sufficient evidence that donald trump did not suffer from voter fraud, shame! bad reporter.   \n",
       "984877999718895616                                                                             doj just issued the mccabe report - which is a total disaster. he lied! lied! lied! mccabe was totally controlled by comey - mccabe is comey!! no collusion, all made up by this den of thieves and lowlifes!   \n",
       "1041330897948160002             the illegal mueller witch hunt continues in search of a crime. there was never collusion with russia, except by the clinton campaign, so the 17 angry democrats are looking at anything they can find. very unfair and bad for the country. also, not allowed under the law!   \n",
       "\n",
       "                                         time  retweet_count  \\\n",
       "id                                                             \n",
       "1031590431379865600 2018-08-20 17:14:59+00:00          28007   \n",
       "1029731513573822464 2018-08-15 14:08:18+00:00          18887   \n",
       "984763579210633216  2018-04-13 12:01:47+00:00          31488   \n",
       "1027585937163931648 2018-08-09 16:02:33+00:00          25954   \n",
       "1031508193107763200 2018-08-20 11:48:12+00:00          23739   \n",
       "1022808452677160960 2018-07-27 11:38:32+00:00          22298   \n",
       "1031137499995930624 2018-08-19 11:15:12+00:00          19590   \n",
       "934080974773776384  2017-11-24 15:27:13+00:00          33866   \n",
       "1023653191974625280 2018-07-29 19:35:14+00:00          30454   \n",
       "977585879651966980  2018-03-24 16:40:11+00:00          14797   \n",
       "1035120511259500544 2018-08-30 11:02:16+00:00          18558   \n",
       "854283110191685634  2017-04-18 10:38:59+00:00          14367   \n",
       "803423203620245504  2016-11-29 02:19:53+00:00           7723   \n",
       "984877999718895616  2018-04-13 19:36:27+00:00          34524   \n",
       "1041330897948160002 2018-09-16 14:20:07+00:00          25746   \n",
       "\n",
       "                                     est_time       hour  roundhour  \\\n",
       "id                                                                    \n",
       "1031590431379865600 2018-08-20 12:14:59-05:00  12.249722       12.0   \n",
       "1029731513573822464 2018-08-15 09:08:18-05:00   9.138333        9.0   \n",
       "984763579210633216  2018-04-13 07:01:47-05:00   7.029722        7.0   \n",
       "1027585937163931648 2018-08-09 11:02:33-05:00  11.042500       11.0   \n",
       "1031508193107763200 2018-08-20 06:48:12-05:00   6.803333        7.0   \n",
       "1022808452677160960 2018-07-27 06:38:32-05:00   6.642222        7.0   \n",
       "1031137499995930624 2018-08-19 06:15:12-05:00   6.253333        6.0   \n",
       "934080974773776384  2017-11-24 10:27:13-05:00  10.453611       10.0   \n",
       "1023653191974625280 2018-07-29 14:35:14-05:00  14.587222       15.0   \n",
       "977585879651966980  2018-03-24 11:40:11-05:00  11.669722       12.0   \n",
       "1035120511259500544 2018-08-30 06:02:16-05:00   6.037778        6.0   \n",
       "854283110191685634  2017-04-18 05:38:59-05:00   5.649722        6.0   \n",
       "803423203620245504  2016-11-28 21:19:53-05:00  21.331389       21.0   \n",
       "984877999718895616  2018-04-13 14:36:27-05:00  14.607500       15.0   \n",
       "1041330897948160002 2018-09-16 09:20:07-05:00   9.335278        9.0   \n",
       "\n",
       "                            year  \\\n",
       "id                                 \n",
       "1031590431379865600  2018.632877   \n",
       "1029731513573822464  2018.619178   \n",
       "984763579210633216   2018.279452   \n",
       "1027585937163931648  2018.602740   \n",
       "1031508193107763200  2018.632877   \n",
       "1022808452677160960  2018.567123   \n",
       "1031137499995930624  2018.630137   \n",
       "934080974773776384   2017.895890   \n",
       "1023653191974625280  2018.572603   \n",
       "977585879651966980   2018.224658   \n",
       "1035120511259500544  2018.660274   \n",
       "854283110191685634   2017.293151   \n",
       "803423203620245504   2016.909836   \n",
       "984877999718895616   2018.279452   \n",
       "1041330897948160002  2018.706849   \n",
       "\n",
       "                                                                                                                                                                                                                                                                                                     no_punc  \\\n",
       "id                                                                                                                                                                                                                                                                                                             \n",
       "1031590431379865600   it is outrageous that poisonous synthetic heroin fentanyl comes pouring into the u s  postal system from china  we can  and must  end this now  the senate should pass the stop act   and firmly stop this poison from killing our children and destroying our country  no more delay    \n",
       "1029731513573822464           the rigged russian witch hunt goes on and on as the  originators and founders  of this scam continue to be fired and demoted for their corrupt and illegal activity  all credibility is gone from this terrible hoax  and much more will be lost as it proceeds  no collusion    \n",
       "984763579210633216   james comey is a proven leaker  amp  liar  virtually everyone in washington thought he should be fired for the terrible job he did until he was  in fact  fired  he leaked classified information  for which he should be prosecuted  he lied to congress under oath  he is a weak a...   \n",
       "1027585937163931648  this is an illegally brought rigged witch hunt run by people who are totally corrupt and or conflicted  it was started and paid for by crooked hillary and the democrats  phony dossier  fisa disgrace and so many lying and dishonest people already fired  17 angry dems  stay tuned    \n",
       "1031508193107763200                    where s the collusion  they made up a phony crime called collusion  and when there was no collusion they say there was obstruction  of a phony crime that never existed   if you fight back or say anything bad about the rigged witch hunt  they scream obstruction    \n",
       "1022808452677160960       the only collusion with russia was with the democrats  so now they are looking at my tweets  along with 53 million other people    the rigged witch hunt continues  how stupid and unfair to our country    and so the fake news doesn t waste my time with dumb questions  no ...   \n",
       "1031137499995930624      and have demanded transparency so that this rigged and disgusting witch hunt can come to a close  so many lives have been ruined over nothing   mccarthyism at its worst  yet mueller  amp  his gang of dems refuse to look at the real crimes on the other side   media is even...   \n",
       "934080974773776384                                                 horrible and cowardly terrorist attack on innocent and defenseless worshipers in egypt  the world cannot tolerate terrorism  we must defeat them militarily and discredit the extremist ideology that forms the basis of their existence    \n",
       "1023653191974625280    there is no collusion  the robert mueller rigged witch hunt  headed now by 17  increased from 13  including an obama white house lawyer  angry democrats  was started by a fraudulent dossier  paid for by crooked hillary and the dnc  therefore  the witch hunt is an illegal scam    \n",
       "977585879651966980                                 our thoughts and prayers are with the victims of the horrible attack in france yesterday  and we grieve the nation s loss  we also condemn the violent actions of the attacker and anyone who would provide him support  we are with you  emmanuelmacron    \n",
       "1035120511259500544  what s going on at  cnn is happening  to different degrees  at other networks   with  nbcnews being the worst  the good news is that andy lack y  is about to be fired    for incompetence  and much worse  when lester holt got caught fudging my tape on russia  they were hurt ba...   \n",
       "854283110191685634                                                                                                                                              democrat jon ossoff would be a disaster in congress  very weak on crime and illegal immigration  bad for jobs and wants higher taxes  say no   \n",
       "803423203620245504                                                                                                                                                fiiibuster   jeffzeleny pathetic   you have no sufficient evidence that donald trump did not suffer from voter fraud  shame  bad reporter    \n",
       "984877999718895616                                                                             doj just issued the mccabe report   which is a total disaster  he lied  lied  lied  mccabe was totally controlled by comey   mccabe is comey   no collusion  all made up by this den of thieves and lowlifes    \n",
       "1041330897948160002             the illegal mueller witch hunt continues in search of a crime  there was never collusion with russia  except by the clinton campaign  so the 17 angry democrats are looking at anything they can find  very unfair and bad for the country  also  not allowed under the law    \n",
       "\n",
       "                     polarity  \n",
       "id                             \n",
       "1031590431379865600     -20.3  \n",
       "1029731513573822464     -16.6  \n",
       "984763579210633216      -16.0  \n",
       "1027585937163931648     -15.2  \n",
       "1031508193107763200     -15.0  \n",
       "1022808452677160960     -14.9  \n",
       "1031137499995930624     -14.8  \n",
       "934080974773776384      -14.6  \n",
       "1023653191974625280     -14.4  \n",
       "977585879651966980      -14.3  \n",
       "1035120511259500544     -14.0  \n",
       "854283110191685634      -13.8  \n",
       "803423203620245504      -13.8  \n",
       "984877999718895616      -13.6  \n",
       "1041330897948160002     -13.5  "
      ]
     },
     "metadata": {},
     "output_type": "display_data"
    }
   ],
   "source": [
    "### BEGIN SOLUTION\n",
    "\n",
    "negative = df_trump.sort_values('polarity', ascending = True)\n",
    "\n",
    "print('Most negative tweets:')\n",
    "\n",
    "display(negative.head(15))\n",
    "\n",
    "### END SOLUTION"
   ]
  },
  {
   "cell_type": "code",
   "execution_count": 344,
   "metadata": {
    "id": "b66zMSi6apP_"
   },
   "outputs": [
    {
     "name": "stdout",
     "output_type": "stream",
     "text": [
      "Most positive tweets:\n"
     ]
    },
    {
     "data": {
      "text/html": [
       "<div>\n",
       "<style scoped>\n",
       "    .dataframe tbody tr th:only-of-type {\n",
       "        vertical-align: middle;\n",
       "    }\n",
       "\n",
       "    .dataframe tbody tr th {\n",
       "        vertical-align: top;\n",
       "    }\n",
       "\n",
       "    .dataframe thead th {\n",
       "        text-align: right;\n",
       "    }\n",
       "</style>\n",
       "<table border=\"1\" class=\"dataframe\">\n",
       "  <thead>\n",
       "    <tr style=\"text-align: right;\">\n",
       "      <th></th>\n",
       "      <th>source</th>\n",
       "      <th>text</th>\n",
       "      <th>time</th>\n",
       "      <th>retweet_count</th>\n",
       "      <th>est_time</th>\n",
       "      <th>hour</th>\n",
       "      <th>roundhour</th>\n",
       "      <th>year</th>\n",
       "      <th>no_punc</th>\n",
       "      <th>polarity</th>\n",
       "    </tr>\n",
       "    <tr>\n",
       "      <th>id</th>\n",
       "      <th></th>\n",
       "      <th></th>\n",
       "      <th></th>\n",
       "      <th></th>\n",
       "      <th></th>\n",
       "      <th></th>\n",
       "      <th></th>\n",
       "      <th></th>\n",
       "      <th></th>\n",
       "      <th></th>\n",
       "    </tr>\n",
       "  </thead>\n",
       "  <tbody>\n",
       "    <tr>\n",
       "      <th>983143317889323008</th>\n",
       "      <td>Twitter for iPhone</td>\n",
       "      <td>congratulations to patrick reed on his great and courageous masters win! when patrick had his amazing win at doral 5 years ago, people saw his great talent, and a bright future ahead. now he is the masters champion!</td>\n",
       "      <td>2018-04-09 00:43:27+00:00</td>\n",
       "      <td>12169</td>\n",
       "      <td>2018-04-08 19:43:27-05:00</td>\n",
       "      <td>19.724167</td>\n",
       "      <td>20.0</td>\n",
       "      <td>2018.268493</td>\n",
       "      <td>congratulations to patrick reed on his great and courageous masters win  when patrick had his amazing win at doral 5 years ago  people saw his great talent  and a bright future ahead  now he is the masters champion</td>\n",
       "      <td>26.5</td>\n",
       "    </tr>\n",
       "    <tr>\n",
       "      <th>1007974129474121728</th>\n",
       "      <td>Twitter for iPhone</td>\n",
       "      <td>my supporters are the smartest, strongest, most hard working and most loyal that we have seen in our countries history. it is a beautiful thing to watch as we win elections and gather support from all over the country. as we get stronger, so does our country. best numbers ever!</td>\n",
       "      <td>2018-06-16 13:12:14+00:00</td>\n",
       "      <td>42103</td>\n",
       "      <td>2018-06-16 08:12:14-05:00</td>\n",
       "      <td>8.203889</td>\n",
       "      <td>8.0</td>\n",
       "      <td>2018.454795</td>\n",
       "      <td>my supporters are the smartest  strongest  most hard working and most loyal that we have seen in our countries history  it is a beautiful thing to watch as we win elections and gather support from all over the country  as we get stronger  so does our country  best numbers ever</td>\n",
       "      <td>20.7</td>\n",
       "    </tr>\n",
       "    <tr>\n",
       "      <th>1016638035281219584</th>\n",
       "      <td>Twitter for iPhone</td>\n",
       "      <td>thank you to all of my great supporters, really big progress being made. other countries wanting to fix crazy trade deals. economy is roaring. supreme court pick getting great reviews. new poll says trump, at over 90%, is the most popular republican in history of the party. wow!</td>\n",
       "      <td>2018-07-10 10:59:30+00:00</td>\n",
       "      <td>25284</td>\n",
       "      <td>2018-07-10 05:59:30-05:00</td>\n",
       "      <td>5.991667</td>\n",
       "      <td>6.0</td>\n",
       "      <td>2018.520548</td>\n",
       "      <td>thank you to all of my great supporters  really big progress being made  other countries wanting to fix crazy trade deals  economy is roaring  supreme court pick getting great reviews  new poll says trump  at over 90   is the most popular republican in history of the party  wow</td>\n",
       "      <td>18.9</td>\n",
       "    </tr>\n",
       "    <tr>\n",
       "      <th>973716838889660416</th>\n",
       "      <td>Twitter for iPhone</td>\n",
       "      <td>it was my great honor to deliver a message at the marine corps air station miramar to our great u.s. military, straight from the heart of the american people: we support you, we thank you, we love you - and we will always have your back! https://t.co/oct1nh3don</td>\n",
       "      <td>2018-03-14 00:25:59+00:00</td>\n",
       "      <td>14786</td>\n",
       "      <td>2018-03-13 19:25:59-05:00</td>\n",
       "      <td>19.433056</td>\n",
       "      <td>19.0</td>\n",
       "      <td>2018.197260</td>\n",
       "      <td>it was my great honor to deliver a message at the marine corps air station miramar to our great u s  military  straight from the heart of the american people  we support you  we thank you  we love you   and we will always have your back  https   t co oct1nh3don</td>\n",
       "      <td>18.9</td>\n",
       "    </tr>\n",
       "    <tr>\n",
       "      <th>1014287566386888709</th>\n",
       "      <td>Twitter for iPhone</td>\n",
       "      <td>thank you, @wvgovernor jim justice, for that warm introduction. tonight, it was my great honor to attend the “greenbrier classic – salute to service dinner” in west virginia! god bless our veterans. god bless america - and happy independence day to all! https://t.co/v35qvcn8m6</td>\n",
       "      <td>2018-07-03 23:19:35+00:00</td>\n",
       "      <td>9951</td>\n",
       "      <td>2018-07-03 18:19:35-05:00</td>\n",
       "      <td>18.326389</td>\n",
       "      <td>18.0</td>\n",
       "      <td>2018.501370</td>\n",
       "      <td>thank you   wvgovernor jim justice  for that warm introduction  tonight  it was my great honor to attend the  greenbrier classic   salute to service dinner  in west virginia  god bless our veterans  god bless america   and happy independence day to all  https   t co v35qvcn8m6</td>\n",
       "      <td>18.6</td>\n",
       "    </tr>\n",
       "    <tr>\n",
       "      <th>994176238846664706</th>\n",
       "      <td>Twitter for iPhone</td>\n",
       "      <td>the republican party had a great night. tremendous voter energy and excitement, and all candidates are those who have a great chance of winning in november. the economy is sooo strong, and with nancy pelosi wanting to end the big tax cuts and raise taxes, why wouldn’t we win?</td>\n",
       "      <td>2018-05-09 11:24:20+00:00</td>\n",
       "      <td>18374</td>\n",
       "      <td>2018-05-09 06:24:20-05:00</td>\n",
       "      <td>6.405556</td>\n",
       "      <td>6.0</td>\n",
       "      <td>2018.350685</td>\n",
       "      <td>the republican party had a great night  tremendous voter energy and excitement  and all candidates are those who have a great chance of winning in november  the economy is sooo strong  and with nancy pelosi wanting to end the big tax cuts and raise taxes  why wouldn t we win</td>\n",
       "      <td>18.5</td>\n",
       "    </tr>\n",
       "    <tr>\n",
       "      <th>819541997325316096</th>\n",
       "      <td>Twitter for Android</td>\n",
       "      <td>thank you to linda bean of l.l.bean for your great support and courage. people will support you even more now. buy l.l.bean. @lbperfectmaine</td>\n",
       "      <td>2017-01-12 13:50:13+00:00</td>\n",
       "      <td>21477</td>\n",
       "      <td>2017-01-12 08:50:13-05:00</td>\n",
       "      <td>8.836944</td>\n",
       "      <td>9.0</td>\n",
       "      <td>2017.030137</td>\n",
       "      <td>thank you to linda bean of l l bean for your great support and courage  people will support you even more now  buy l l bean   lbperfectmaine</td>\n",
       "      <td>18.2</td>\n",
       "    </tr>\n",
       "    <tr>\n",
       "      <th>1018541464416997376</th>\n",
       "      <td>Twitter for iPhone</td>\n",
       "      <td>congratulations to france, who played extraordinary soccer, on winning the 2018 world cup. additionally, congratulations to president putin and russia for putting on a truly great world cup tournament -- one of the best ever!</td>\n",
       "      <td>2018-07-15 17:03:03+00:00</td>\n",
       "      <td>34834</td>\n",
       "      <td>2018-07-15 12:03:03-05:00</td>\n",
       "      <td>12.050833</td>\n",
       "      <td>12.0</td>\n",
       "      <td>2018.534247</td>\n",
       "      <td>congratulations to france  who played extraordinary soccer  on winning the 2018 world cup  additionally  congratulations to president putin and russia for putting on a truly great world cup tournament    one of the best ever</td>\n",
       "      <td>17.8</td>\n",
       "    </tr>\n",
       "    <tr>\n",
       "      <th>939560154269405184</th>\n",
       "      <td>Twitter for iPhone</td>\n",
       "      <td>it was my great honor to celebrate the opening of two extraordinary museums-the mississippi state history museum &amp;amp; the mississippi civil rights museum. we pay solemn tribute to our heroes of the past &amp;amp; dedicate ourselves to building a future of freedom, equality, just...</td>\n",
       "      <td>2017-12-09 18:19:31+00:00</td>\n",
       "      <td>14844</td>\n",
       "      <td>2017-12-09 13:19:31-05:00</td>\n",
       "      <td>13.325278</td>\n",
       "      <td>13.0</td>\n",
       "      <td>2017.936986</td>\n",
       "      <td>it was my great honor to celebrate the opening of two extraordinary museums the mississippi state history museum  amp  the mississippi civil rights museum  we pay solemn tribute to our heroes of the past  amp  dedicate ourselves to building a future of freedom  equality  just...</td>\n",
       "      <td>17.7</td>\n",
       "    </tr>\n",
       "    <tr>\n",
       "      <th>1029717928130818048</th>\n",
       "      <td>Twitter for iPhone</td>\n",
       "      <td>congratulations to bryan steil on a wonderful win last night. you will be replacing a great guy in paul ryan, and your win in november will make the entire state of wisconsin very proud. you have my complete and total endorsement!</td>\n",
       "      <td>2018-08-15 13:14:19+00:00</td>\n",
       "      <td>9852</td>\n",
       "      <td>2018-08-15 08:14:19-05:00</td>\n",
       "      <td>8.238611</td>\n",
       "      <td>8.0</td>\n",
       "      <td>2018.619178</td>\n",
       "      <td>congratulations to bryan steil on a wonderful win last night  you will be replacing a great guy in paul ryan  and your win in november will make the entire state of wisconsin very proud  you have my complete and total endorsement</td>\n",
       "      <td>17.7</td>\n",
       "    </tr>\n",
       "    <tr>\n",
       "      <th>1016663151935291393</th>\n",
       "      <td>Twitter for iPhone</td>\n",
       "      <td>on behalf of the united states, congratulations to the thai navy seals and all on the successful rescue of the 12 boys and their coach from the treacherous cave in thailand. such a beautiful moment - all freed, great job!</td>\n",
       "      <td>2018-07-10 12:39:18+00:00</td>\n",
       "      <td>39276</td>\n",
       "      <td>2018-07-10 07:39:18-05:00</td>\n",
       "      <td>7.655000</td>\n",
       "      <td>8.0</td>\n",
       "      <td>2018.520548</td>\n",
       "      <td>on behalf of the united states  congratulations to the thai navy seals and all on the successful rescue of the 12 boys and their coach from the treacherous cave in thailand  such a beautiful moment   all freed  great job</td>\n",
       "      <td>17.5</td>\n",
       "    </tr>\n",
       "    <tr>\n",
       "      <th>996723907867676673</th>\n",
       "      <td>Twitter for iPhone</td>\n",
       "      <td>congratulations to lou barletta of pennsylvania. he will be a great senator and will represent his people well - like they haven’t been represented in many years. lou is a friend of mine and a special guy, he will very much help make america great again!</td>\n",
       "      <td>2018-05-16 12:07:52+00:00</td>\n",
       "      <td>16672</td>\n",
       "      <td>2018-05-16 07:07:52-05:00</td>\n",
       "      <td>7.131111</td>\n",
       "      <td>7.0</td>\n",
       "      <td>2018.369863</td>\n",
       "      <td>congratulations to lou barletta of pennsylvania  he will be a great senator and will represent his people well   like they haven t been represented in many years  lou is a friend of mine and a special guy  he will very much help make america great again</td>\n",
       "      <td>17.3</td>\n",
       "    </tr>\n",
       "    <tr>\n",
       "      <th>815449933453127681</th>\n",
       "      <td>Twitter for iPhone</td>\n",
       "      <td>rt @ivankatrump: 2016 has been one of the most eventful and exciting years of my life. i wish you peace, joy, love and laughter. happy new…</td>\n",
       "      <td>2017-01-01 06:49:49+00:00</td>\n",
       "      <td>13659</td>\n",
       "      <td>2017-01-01 01:49:49-05:00</td>\n",
       "      <td>1.830278</td>\n",
       "      <td>2.0</td>\n",
       "      <td>2017.000000</td>\n",
       "      <td>rt  ivankatrump  2016 has been one of the most eventful and exciting years of my life  i wish you peace  joy  love and laughter  happy new</td>\n",
       "      <td>17.3</td>\n",
       "    </tr>\n",
       "    <tr>\n",
       "      <th>950866561153331202</th>\n",
       "      <td>Twitter for iPhone</td>\n",
       "      <td>today, it was my great honor to sign a new executive order to ensure veterans have the resources they need as they transition back to civilian life. we must ensure that our heroes are given the care and support they so richly deserve! https://t.co/0mdp9ddias https://t.co/lp2a...</td>\n",
       "      <td>2018-01-09 23:07:09+00:00</td>\n",
       "      <td>18016</td>\n",
       "      <td>2018-01-09 18:07:09-05:00</td>\n",
       "      <td>18.119167</td>\n",
       "      <td>18.0</td>\n",
       "      <td>2018.021918</td>\n",
       "      <td>today  it was my great honor to sign a new executive order to ensure veterans have the resources they need as they transition back to civilian life  we must ensure that our heroes are given the care and support they so richly deserve  https   t co 0mdp9ddias https   t co lp2a...</td>\n",
       "      <td>16.6</td>\n",
       "    </tr>\n",
       "    <tr>\n",
       "      <th>1029712857724792832</th>\n",
       "      <td>Twitter for iPhone</td>\n",
       "      <td>congratulations to leah vukmir of wisconsin on your great win last night. you beat a very tough and good competitor and will make a fantastic senator after winning in november against someone who has done very little. you have my complete and total endorsement!</td>\n",
       "      <td>2018-08-15 12:54:11+00:00</td>\n",
       "      <td>10273</td>\n",
       "      <td>2018-08-15 07:54:11-05:00</td>\n",
       "      <td>7.903056</td>\n",
       "      <td>8.0</td>\n",
       "      <td>2018.619178</td>\n",
       "      <td>congratulations to leah vukmir of wisconsin on your great win last night  you beat a very tough and good competitor and will make a fantastic senator after winning in november against someone who has done very little  you have my complete and total endorsement</td>\n",
       "      <td>16.5</td>\n",
       "    </tr>\n",
       "  </tbody>\n",
       "</table>\n",
       "</div>"
      ],
      "text/plain": [
       "                                  source  \\\n",
       "id                                         \n",
       "983143317889323008    Twitter for iPhone   \n",
       "1007974129474121728   Twitter for iPhone   \n",
       "1016638035281219584   Twitter for iPhone   \n",
       "973716838889660416    Twitter for iPhone   \n",
       "1014287566386888709   Twitter for iPhone   \n",
       "994176238846664706    Twitter for iPhone   \n",
       "819541997325316096   Twitter for Android   \n",
       "1018541464416997376   Twitter for iPhone   \n",
       "939560154269405184    Twitter for iPhone   \n",
       "1029717928130818048   Twitter for iPhone   \n",
       "1016663151935291393   Twitter for iPhone   \n",
       "996723907867676673    Twitter for iPhone   \n",
       "815449933453127681    Twitter for iPhone   \n",
       "950866561153331202    Twitter for iPhone   \n",
       "1029712857724792832   Twitter for iPhone   \n",
       "\n",
       "                                                                                                                                                                                                                                                                                                        text  \\\n",
       "id                                                                                                                                                                                                                                                                                                             \n",
       "983143317889323008                                                                   congratulations to patrick reed on his great and courageous masters win! when patrick had his amazing win at doral 5 years ago, people saw his great talent, and a bright future ahead. now he is the masters champion!   \n",
       "1007974129474121728   my supporters are the smartest, strongest, most hard working and most loyal that we have seen in our countries history. it is a beautiful thing to watch as we win elections and gather support from all over the country. as we get stronger, so does our country. best numbers ever!   \n",
       "1016638035281219584  thank you to all of my great supporters, really big progress being made. other countries wanting to fix crazy trade deals. economy is roaring. supreme court pick getting great reviews. new poll says trump, at over 90%, is the most popular republican in history of the party. wow!   \n",
       "973716838889660416                     it was my great honor to deliver a message at the marine corps air station miramar to our great u.s. military, straight from the heart of the american people: we support you, we thank you, we love you - and we will always have your back! https://t.co/oct1nh3don   \n",
       "1014287566386888709    thank you, @wvgovernor jim justice, for that warm introduction. tonight, it was my great honor to attend the “greenbrier classic – salute to service dinner” in west virginia! god bless our veterans. god bless america - and happy independence day to all! https://t.co/v35qvcn8m6   \n",
       "994176238846664706      the republican party had a great night. tremendous voter energy and excitement, and all candidates are those who have a great chance of winning in november. the economy is sooo strong, and with nancy pelosi wanting to end the big tax cuts and raise taxes, why wouldn’t we win?   \n",
       "819541997325316096                                                                                                                                              thank you to linda bean of l.l.bean for your great support and courage. people will support you even more now. buy l.l.bean. @lbperfectmaine   \n",
       "1018541464416997376                                                        congratulations to france, who played extraordinary soccer, on winning the 2018 world cup. additionally, congratulations to president putin and russia for putting on a truly great world cup tournament -- one of the best ever!   \n",
       "939560154269405184   it was my great honor to celebrate the opening of two extraordinary museums-the mississippi state history museum &amp; the mississippi civil rights museum. we pay solemn tribute to our heroes of the past &amp; dedicate ourselves to building a future of freedom, equality, just...   \n",
       "1029717928130818048                                                   congratulations to bryan steil on a wonderful win last night. you will be replacing a great guy in paul ryan, and your win in november will make the entire state of wisconsin very proud. you have my complete and total endorsement!   \n",
       "1016663151935291393                                                            on behalf of the united states, congratulations to the thai navy seals and all on the successful rescue of the 12 boys and their coach from the treacherous cave in thailand. such a beautiful moment - all freed, great job!   \n",
       "996723907867676673                            congratulations to lou barletta of pennsylvania. he will be a great senator and will represent his people well - like they haven’t been represented in many years. lou is a friend of mine and a special guy, he will very much help make america great again!   \n",
       "815449933453127681                                                                                                                                               rt @ivankatrump: 2016 has been one of the most eventful and exciting years of my life. i wish you peace, joy, love and laughter. happy new…   \n",
       "950866561153331202   today, it was my great honor to sign a new executive order to ensure veterans have the resources they need as they transition back to civilian life. we must ensure that our heroes are given the care and support they so richly deserve! https://t.co/0mdp9ddias https://t.co/lp2a...   \n",
       "1029712857724792832                    congratulations to leah vukmir of wisconsin on your great win last night. you beat a very tough and good competitor and will make a fantastic senator after winning in november against someone who has done very little. you have my complete and total endorsement!   \n",
       "\n",
       "                                         time  retweet_count  \\\n",
       "id                                                             \n",
       "983143317889323008  2018-04-09 00:43:27+00:00          12169   \n",
       "1007974129474121728 2018-06-16 13:12:14+00:00          42103   \n",
       "1016638035281219584 2018-07-10 10:59:30+00:00          25284   \n",
       "973716838889660416  2018-03-14 00:25:59+00:00          14786   \n",
       "1014287566386888709 2018-07-03 23:19:35+00:00           9951   \n",
       "994176238846664706  2018-05-09 11:24:20+00:00          18374   \n",
       "819541997325316096  2017-01-12 13:50:13+00:00          21477   \n",
       "1018541464416997376 2018-07-15 17:03:03+00:00          34834   \n",
       "939560154269405184  2017-12-09 18:19:31+00:00          14844   \n",
       "1029717928130818048 2018-08-15 13:14:19+00:00           9852   \n",
       "1016663151935291393 2018-07-10 12:39:18+00:00          39276   \n",
       "996723907867676673  2018-05-16 12:07:52+00:00          16672   \n",
       "815449933453127681  2017-01-01 06:49:49+00:00          13659   \n",
       "950866561153331202  2018-01-09 23:07:09+00:00          18016   \n",
       "1029712857724792832 2018-08-15 12:54:11+00:00          10273   \n",
       "\n",
       "                                     est_time       hour  roundhour  \\\n",
       "id                                                                    \n",
       "983143317889323008  2018-04-08 19:43:27-05:00  19.724167       20.0   \n",
       "1007974129474121728 2018-06-16 08:12:14-05:00   8.203889        8.0   \n",
       "1016638035281219584 2018-07-10 05:59:30-05:00   5.991667        6.0   \n",
       "973716838889660416  2018-03-13 19:25:59-05:00  19.433056       19.0   \n",
       "1014287566386888709 2018-07-03 18:19:35-05:00  18.326389       18.0   \n",
       "994176238846664706  2018-05-09 06:24:20-05:00   6.405556        6.0   \n",
       "819541997325316096  2017-01-12 08:50:13-05:00   8.836944        9.0   \n",
       "1018541464416997376 2018-07-15 12:03:03-05:00  12.050833       12.0   \n",
       "939560154269405184  2017-12-09 13:19:31-05:00  13.325278       13.0   \n",
       "1029717928130818048 2018-08-15 08:14:19-05:00   8.238611        8.0   \n",
       "1016663151935291393 2018-07-10 07:39:18-05:00   7.655000        8.0   \n",
       "996723907867676673  2018-05-16 07:07:52-05:00   7.131111        7.0   \n",
       "815449933453127681  2017-01-01 01:49:49-05:00   1.830278        2.0   \n",
       "950866561153331202  2018-01-09 18:07:09-05:00  18.119167       18.0   \n",
       "1029712857724792832 2018-08-15 07:54:11-05:00   7.903056        8.0   \n",
       "\n",
       "                            year  \\\n",
       "id                                 \n",
       "983143317889323008   2018.268493   \n",
       "1007974129474121728  2018.454795   \n",
       "1016638035281219584  2018.520548   \n",
       "973716838889660416   2018.197260   \n",
       "1014287566386888709  2018.501370   \n",
       "994176238846664706   2018.350685   \n",
       "819541997325316096   2017.030137   \n",
       "1018541464416997376  2018.534247   \n",
       "939560154269405184   2017.936986   \n",
       "1029717928130818048  2018.619178   \n",
       "1016663151935291393  2018.520548   \n",
       "996723907867676673   2018.369863   \n",
       "815449933453127681   2017.000000   \n",
       "950866561153331202   2018.021918   \n",
       "1029712857724792832  2018.619178   \n",
       "\n",
       "                                                                                                                                                                                                                                                                                                     no_punc  \\\n",
       "id                                                                                                                                                                                                                                                                                                             \n",
       "983143317889323008                                                                   congratulations to patrick reed on his great and courageous masters win  when patrick had his amazing win at doral 5 years ago  people saw his great talent  and a bright future ahead  now he is the masters champion    \n",
       "1007974129474121728   my supporters are the smartest  strongest  most hard working and most loyal that we have seen in our countries history  it is a beautiful thing to watch as we win elections and gather support from all over the country  as we get stronger  so does our country  best numbers ever    \n",
       "1016638035281219584  thank you to all of my great supporters  really big progress being made  other countries wanting to fix crazy trade deals  economy is roaring  supreme court pick getting great reviews  new poll says trump  at over 90   is the most popular republican in history of the party  wow    \n",
       "973716838889660416                     it was my great honor to deliver a message at the marine corps air station miramar to our great u s  military  straight from the heart of the american people  we support you  we thank you  we love you   and we will always have your back  https   t co oct1nh3don   \n",
       "1014287566386888709    thank you   wvgovernor jim justice  for that warm introduction  tonight  it was my great honor to attend the  greenbrier classic   salute to service dinner  in west virginia  god bless our veterans  god bless america   and happy independence day to all  https   t co v35qvcn8m6   \n",
       "994176238846664706      the republican party had a great night  tremendous voter energy and excitement  and all candidates are those who have a great chance of winning in november  the economy is sooo strong  and with nancy pelosi wanting to end the big tax cuts and raise taxes  why wouldn t we win    \n",
       "819541997325316096                                                                                                                                              thank you to linda bean of l l bean for your great support and courage  people will support you even more now  buy l l bean   lbperfectmaine   \n",
       "1018541464416997376                                                        congratulations to france  who played extraordinary soccer  on winning the 2018 world cup  additionally  congratulations to president putin and russia for putting on a truly great world cup tournament    one of the best ever    \n",
       "939560154269405184   it was my great honor to celebrate the opening of two extraordinary museums the mississippi state history museum  amp  the mississippi civil rights museum  we pay solemn tribute to our heroes of the past  amp  dedicate ourselves to building a future of freedom  equality  just...   \n",
       "1029717928130818048                                                   congratulations to bryan steil on a wonderful win last night  you will be replacing a great guy in paul ryan  and your win in november will make the entire state of wisconsin very proud  you have my complete and total endorsement    \n",
       "1016663151935291393                                                            on behalf of the united states  congratulations to the thai navy seals and all on the successful rescue of the 12 boys and their coach from the treacherous cave in thailand  such a beautiful moment   all freed  great job    \n",
       "996723907867676673                            congratulations to lou barletta of pennsylvania  he will be a great senator and will represent his people well   like they haven t been represented in many years  lou is a friend of mine and a special guy  he will very much help make america great again    \n",
       "815449933453127681                                                                                                                                               rt  ivankatrump  2016 has been one of the most eventful and exciting years of my life  i wish you peace  joy  love and laughter  happy new    \n",
       "950866561153331202   today  it was my great honor to sign a new executive order to ensure veterans have the resources they need as they transition back to civilian life  we must ensure that our heroes are given the care and support they so richly deserve  https   t co 0mdp9ddias https   t co lp2a...   \n",
       "1029712857724792832                    congratulations to leah vukmir of wisconsin on your great win last night  you beat a very tough and good competitor and will make a fantastic senator after winning in november against someone who has done very little  you have my complete and total endorsement    \n",
       "\n",
       "                     polarity  \n",
       "id                             \n",
       "983143317889323008       26.5  \n",
       "1007974129474121728      20.7  \n",
       "1016638035281219584      18.9  \n",
       "973716838889660416       18.9  \n",
       "1014287566386888709      18.6  \n",
       "994176238846664706       18.5  \n",
       "819541997325316096       18.2  \n",
       "1018541464416997376      17.8  \n",
       "939560154269405184       17.7  \n",
       "1029717928130818048      17.7  \n",
       "1016663151935291393      17.5  \n",
       "996723907867676673       17.3  \n",
       "815449933453127681       17.3  \n",
       "950866561153331202       16.6  \n",
       "1029712857724792832      16.5  "
      ]
     },
     "metadata": {},
     "output_type": "display_data"
    }
   ],
   "source": [
    "### BEGIN SOLUTION\n",
    "positive = df_trump.sort_values('polarity', ascending = False)\n",
    "\n",
    "print('Most positive tweets:')\n",
    "\n",
    "display(positive.head(15))\n",
    "    \n",
    "### END SOLUTION"
   ]
  },
  {
   "cell_type": "markdown",
   "metadata": {
    "id": "rBTcV47lapP_"
   },
   "source": [
    "### Task 4.7\n",
    "Plot the distribution of tweet sentiments broken down by whether the text of the tweet contains `nyt` or `fox`.  Then in the box below comment on what we observe?\n",
    "\n",
    "![title](images/nyt_vs_fox.png)"
   ]
  },
  {
   "cell_type": "code",
   "execution_count": 345,
   "metadata": {
    "id": "0ktQdImsapP_"
   },
   "outputs": [
    {
     "data": {
      "image/png": "[encoded data removed]",
      "text/plain": [
       "<Figure size 720x576 with 1 Axes>"
      ]
     },
     "metadata": {},
     "output_type": "display_data"
    }
   ],
   "source": [
    "### BEGIN SOLUTION\n",
    "fig = plt.figure(figsize=(10,8))\n",
    "nyt = df_trump.loc[(df_trump['text'].str.contains('nyt'))]\n",
    "fox = df_trump.loc[(df_trump['text'].str.contains('fox'))]\n",
    "sns.distplot(fox['polarity'], hist=True)\n",
    "sns.distplot(nyt['polarity'], hist=True)\n",
    "plt.ylabel('')\n",
    "fig.legend(labels=['fox','nyt'])\n",
    "plt.show()\n",
    "### END SOLUTION"
   ]
  },
  {
   "cell_type": "markdown",
   "metadata": {
    "id": "-Z4exTkuapP_"
   },
   "source": [
    "##### Comment on what you observe:\n",
    "<strong> For most tweets involving the mention of FOX rarely has tweets that are measured with negative polarity. Especially looking at the histogram around the 0th mark, majority of the tweet are all above 0. When it comes to the NYT, alot more tweets are listed as negative polarity, which makes sense, given his presidency/political leanings.\n",
    "</strong>\n",
    "\n",
    "#### BEGIN SOLUTION\n",
    "\n",
    "\n",
    "#### END SOLUTION"
   ]
  },
  {
   "cell_type": "markdown",
   "metadata": {
    "id": "RnpgkUcpapP_"
   },
   "source": [
    "## PART 5 - Principal Component Analysis (PCA) and Twitter\n",
    "A look at the top words used and the sentiments expressed in Trump tweets indicates that, some words are used with others almost all the time. A notable example is the slogan like Make America Great Again. As such, it may be beneficial to look at groups of words rather than individual words. For that, we will look at an approach applying a Principal Component Analysis. \n",
    "\n",
    "### The PCA\n",
    "The Principal Component Analysis, or PCA, is a tool generally used to identify patterns and to reduce the number of variables you have to consider in your analysis. For example, if you have data with 200 columns, it may be that a significant amount of the variance in your data can be explained by just 100 principal components. In the PCA, the first component is chosen in such a way that has the largest variance, subsequent components are orthogonal and continue covering as much variance as possible. In this way, the PCA samples as much of the variability in the data set with the first few components. Mathematically, each component is a linear combination of all the input parameters times coefficients specific for that component. These coefficients, or loading factors, are constrained such that the sum of the squares of them are equal to 1. As such, the loading factors serve as weights describing how strongly certain parameters contribute to the specific principal component. Parameters with large values of positive or negative loading factors are correlated with each other, which can serve to identify trends in your data."
   ]
  },
  {
   "cell_type": "markdown",
   "metadata": {
    "id": "o9zY4IQFapP_"
   },
   "source": [
    "### Task 5.1 Cleaning up the Data\n",
    "Using NLTK (Natural Language Toolkit) package for language processing and other python libraries, parse the json file to deal with inflected words, such as plurals, and removed stop words like common English words (the, and, it, etc) and certain political terms (the candidates names, for example). You can start with the top 50 words, but full analysis may require large number of words.\n",
    "Create a document-frequecy (df) matrix with 5000 rows and 50 columns where each column is a particular word (feature) and each row is a tweet (observation). The values of the matrix is how often the word appears. Apply the techniques we learned to reduce the weight of most common words (if necessary). Since this is a sparse matrix, you can use the sparse martix libraries to make things a bit more efficient (we can also use a regular numpy arrays to store these things since the dimensions are not too large). Lecture 6.1 captures some sparse matrix routines you can use.\n",
    "Print the first 10 rows of the df to show the matrix you created\n",
    "\n",
    "Start with the `tidy_format` dataframe"
   ]
  },
  {
   "cell_type": "code",
   "execution_count": 411,
   "metadata": {
    "id": "oiWydwJJapP_"
   },
   "outputs": [
    {
     "name": "stderr",
     "output_type": "stream",
     "text": [
      "[nltk_data] Downloading package stopwords to\n",
      "[nltk_data]     C:\\Users\\coolk\\AppData\\Roaming\\nltk_data...\n",
      "[nltk_data]   Package stopwords is already up-to-date!\n",
      "[nltk_data] Downloading package wordnet to\n",
      "[nltk_data]     C:\\Users\\coolk\\AppData\\Roaming\\nltk_data...\n",
      "[nltk_data]   Package wordnet is already up-to-date!\n",
      "[nltk_data] Downloading package punkt to\n",
      "[nltk_data]     C:\\Users\\coolk\\AppData\\Roaming\\nltk_data...\n",
      "[nltk_data]   Package punkt is already up-to-date!\n"
     ]
    },
    {
     "data": {
      "text/plain": [
       "array([[1., 0., 0., ..., 0., 0., 0.],\n",
       "       [0., 1., 0., ..., 0., 0., 0.],\n",
       "       [1., 1., 0., ..., 0., 0., 0.],\n",
       "       ...,\n",
       "       [1., 0., 0., ..., 0., 0., 0.],\n",
       "       [0., 0., 0., ..., 0., 0., 0.],\n",
       "       [0., 0., 0., ..., 0., 0., 0.]])"
      ]
     },
     "execution_count": 411,
     "metadata": {},
     "output_type": "execute_result"
    }
   ],
   "source": [
    "### BEGIN SOLUTION\n",
    "## code to plot the first 10 rows of the matrix\n",
    "import nltk\n",
    "import nltk.stem\n",
    "import nltk.corpus\n",
    "from nltk.corpus import stopwords\n",
    "nltk.download('stopwords')\n",
    "nltk.download('wordnet')\n",
    "\n",
    "#create a dataframe called tmp to store all words appear in the tweets\n",
    "\n",
    "df_sep = df_trump['no_punc'].str.split(expand=True).stack().to_frame().reset_index()\n",
    "df_sep = df_sep.rename(columns={'level_1': 'num', 0: 'word'})\n",
    "tmp = df_sep.drop('num', axis=1)\n",
    "\n",
    "\n",
    "stop_words = stopwords.words('english')\n",
    "\n",
    "#remove stopwords\n",
    "#extending stopwords to remove https etc\n",
    "stop_words.extend(['rt','t','co','https','realdonaldtrump','amp',\"u\",'hillary','trump2016','trump','clinton','http','ha','wa'])\n",
    "\n",
    "tmp = tmp[~tmp['word'].isin(stop_words)]\n",
    "\n",
    "#deal with plurals\n",
    "from nltk.stem import WordNetLemmatizer\n",
    "nltk.download('punkt')\n",
    "\n",
    "lemmatizer = WordNetLemmatizer()\n",
    "\n",
    "tmp['word'] = tmp['word'].apply(lambda s: lemmatizer.lemmatize(s))\n",
    "\n",
    "# Remove numbers\n",
    "tmp = tmp[~(tmp['word'].str.isnumeric())]\n",
    "\n",
    "#Remove words with only 1 or 2 length\n",
    "\n",
    "tmp = tmp[(tmp['word'].str.len() != 1) & (tmp['word'].str.len() != 2 )]\n",
    "\n",
    "#get the top 50 words\n",
    "\n",
    "top50 = tmp['word'].value_counts().nlargest(50).to_frame()\n",
    "top50\n",
    "\n",
    "helper = tmp[tmp['word'].isin(top50.index)]\n",
    "helper \n",
    "\n",
    "# get the first 5000 unique ids (TWEETS)\n",
    "idlist = helper['id'].unique()\n",
    "idlist = idlist[:5000]\n",
    "idlist\n",
    "\n",
    "df_trump.loc[idlist]\n",
    "\n",
    "\n",
    "# create the df-matrix\n",
    "matrix = np.zeros((5000, 50))\n",
    "words = top50.index\n",
    "for i in range(5000):\n",
    "    for j in range(50):\n",
    "        if (words[j]) in df_trump['no_punc'].loc[idlist[i]].split():\n",
    "            matrix[i][j] += 1\n",
    "matrix\n",
    "\n",
    "### END SOLUTION"
   ]
  },
  {
   "cell_type": "markdown",
   "metadata": {
    "id": "ArZki_hcapP_"
   },
   "source": [
    "### Task 5.2 Find the PCA's\n",
    "Write the code to find the first 50 PCA's for the document-frequency matrix. Pass the document-term-matrix to scikit-learn’s (https://scikit-learn.org/stable/modules/decomposition.html#decompositions) PCA method to obtain the components and loading factors."
   ]
  },
  {
   "cell_type": "code",
   "execution_count": 412,
   "metadata": {
    "id": "CRABWO6xapP_"
   },
   "outputs": [
    {
     "name": "stdout",
     "output_type": "stream",
     "text": [
      "[[ 8.30464662e-01  1.29277863e-01  3.88371082e-03 ... -2.31876189e-03\n",
      "  -2.11228997e-02 -4.27973286e-03]\n",
      " [-1.19466008e-01  9.31304138e-01 -1.43808655e-01 ... -1.41408447e-02\n",
      "  -1.79291765e-02 -7.57830458e-03]\n",
      " [ 3.63657022e-01  1.23539368e-01  6.27320950e-01 ... -1.96759766e-03\n",
      "  -1.41534620e-02  1.42278684e-02]\n",
      " ...\n",
      " [ 1.41252697e-02  7.92841186e-03  5.34354196e-03 ...  5.32118448e-02\n",
      "   2.43028275e-02  9.59579078e-05]\n",
      " [ 2.35527022e-04  5.26286360e-03  5.28777512e-03 ...  5.06738214e-03\n",
      "   6.98223360e-03 -2.23413391e-03]\n",
      " [-0.00000000e+00  2.68461491e-17  8.57239472e-18 ... -2.60750194e-17\n",
      "   1.15911743e-16  7.55682285e-17]]\n",
      "[1.82236180e-01 1.40040394e-01 8.72405895e-02 7.50558538e-02\n",
      " 6.14971723e-02 5.98566287e-02 5.94552045e-02 5.56331725e-02\n",
      " 5.34334280e-02 5.26989494e-02 4.96558622e-02 4.62676560e-02\n",
      " 4.27859223e-02 4.12017881e-02 4.04068692e-02 3.99007084e-02\n",
      " 3.73051562e-02 3.69693557e-02 3.55753934e-02 3.48804778e-02\n",
      " 3.39086901e-02 3.20898494e-02 3.10709407e-02 3.02468053e-02\n",
      " 2.96893228e-02 2.92391739e-02 2.85818395e-02 2.75353176e-02\n",
      " 2.66360916e-02 2.57674396e-02 2.54642871e-02 2.50153890e-02\n",
      " 2.42217706e-02 2.42031910e-02 2.39425737e-02 2.38043911e-02\n",
      " 2.30074355e-02 2.23215328e-02 2.17926206e-02 2.13400537e-02\n",
      " 2.00670678e-02 1.84142735e-02 1.70552149e-02 1.61192464e-02\n",
      " 1.15884684e-02 1.12648781e-02 1.02647767e-02 9.41310469e-03\n",
      " 3.72154865e-03 6.12745882e-34]\n"
     ]
    }
   ],
   "source": [
    "### BEGIN SOLUTION\n",
    "\n",
    "\n",
    "# PCA\n",
    "from sklearn.decomposition import PCA\n",
    "pca = PCA()\n",
    "pca.fit(matrix)\n",
    "print(pca.components_)\n",
    "print(pca.explained_variance_)\n",
    "\n",
    "#w_to_idx ={}\n",
    "#for i in range(len(words)):\n",
    "#    w_to_idx[words[i]] = i\n",
    "    \n",
    "#X = np.zeros((1000,50))\n",
    "\n",
    "#selected_tweets = tmp.index.unique()[:1000]\n",
    "\n",
    "#for i in range(1000):\n",
    "#    tmp_i = tmp.loc[[selected_tweets[i]]]\n",
    "#    for j in range(len(tmp_i)):\n",
    "#        if tmp_i.iloc[j]['word'] in words:\n",
    "#            X[i, w_to_idx[tmp_i.iloc[j]['word']]] += 1\n",
    "\n",
    "### END SOLUTION"
   ]
  },
  {
   "cell_type": "markdown",
   "metadata": {
    "id": "UCjL4BbYapQA"
   },
   "source": [
    "### Task 5.3 Examine the PCA\n",
    "We can examine the PCA results to look at the heatmap. Make a grid plot which shows the various principal component along the x-axis and the individual words along the y-axes. Each grid box should be color-coded based on the sign of the loading factor and how large the square of that value is. Looking at it vertically, you can see which words constitute your principal components. Looking at it horizontally, you can see how individual terms are shared between components. \n",
    "\n",
    "![title](images/pca.png)\n",
    "\n"
   ]
  },
  {
   "cell_type": "code",
   "execution_count": 413,
   "metadata": {
    "id": "FeF4AKiPapQA"
   },
   "outputs": [
    {
     "data": {
      "text/plain": [
       "<matplotlib.axes._subplots.AxesSubplot at 0x240d82e5040>"
      ]
     },
     "execution_count": 413,
     "metadata": {},
     "output_type": "execute_result"
    },
    {
     "data": {
      "image/png": "[encoded data removed]",
      "text/plain": [
       "<Figure size 1440x1080 with 2 Axes>"
      ]
     },
     "metadata": {},
     "output_type": "display_data"
    }
   ],
   "source": [
    "### BEGIN SOLUTION\n",
    "\n",
    "\n",
    "pca_map= pd.DataFrame(pca.components_,columns=words)\n",
    "#transpose the matrix to switch the resulting heatmap axis\n",
    "pca_map_flipped = pca_map.transpose()\n",
    "plt.figure(figsize=(20,15))\n",
    "sns.heatmap(pca_map_flipped, cmap=\"BrBG\", vmin= -0.8, vmax=0.8, xticklabels=[\"PC\"+str(x) for x in range(1,51)]\n",
    ", yticklabels=True)\n",
    "\n",
    "### END SOLUTION"
   ]
  },
  {
   "cell_type": "markdown",
   "metadata": {
    "id": "BASs-3ERapQA"
   },
   "source": [
    "### Task 5.4 PCA Compare\n",
    "We can determine how many words and how many components are needed to do a good visualization. Plot PC1 and PC2 in a 2D plot. The results should be similar to following scatter plot \n",
    "\n",
    "![title](images/PC1_PC2.png)\n",
    "\n",
    "This is a scatter plot of the values of the components, but with arrows indicating some of the prominent terms as indicated by their loading factors. The values of the loading factors are used to determine the length and direction of these arrows and as such they serve as a way of expressing direction. That is, tweets which use these terms will be moved along the length of those arrows. Shown are the most important parameters."
   ]
  },
  {
   "cell_type": "code",
   "execution_count": 416,
   "metadata": {
    "id": "Kw7mi75wapQA"
   },
   "outputs": [
    {
     "data": {
      "text/plain": [
       "''"
      ]
     },
     "execution_count": 416,
     "metadata": {},
     "output_type": "execute_result"
    },
    {
     "data": {
      "image/png": "[encoded data removed]",
      "text/plain": [
       "<Figure size 432x432 with 3 Axes>"
      ]
     },
     "metadata": {},
     "output_type": "display_data"
    }
   ],
   "source": [
    "### BEGIN SOLUTION\n",
    "pca1 = pca.components_[:,0]\n",
    "pca2 = pca.components_[:,1]\n",
    "\n",
    "#pca1 = (pca1 - pca1.min())/(pca1.max() -pca1.min())\n",
    "#pca2 = (pca2 - pca2.min())/(pca2.max() -pca2.min())\n",
    "\n",
    "joint = sns.jointplot(pca1, pca2)\n",
    "\n",
    "# JointGrid has a convenience function\n",
    "joint.set_axis_labels('x', 'y', fontsize=16)\n",
    "\n",
    "\n",
    "# or set labels via the axes objects\n",
    "joint.ax_joint.set_xlabel('PC1')\n",
    "joint.ax_joint.set_ylabel('PC2')\n",
    "\n",
    ";\n",
    "\n",
    "### END SOLUTION"
   ]
  },
  {
   "cell_type": "markdown",
   "metadata": {
    "id": "n2-oIKbeapQA"
   },
   "source": [
    "## PART 6 - Twitter Engagement\n",
    "\n",
    "In this problem, we'll explore which words led to a greater average number of retweets. For example, at the time of this writing, Donald Trump has two tweets that contain the word 'oakland' (tweets 932570628451954688 and 1016609920031117312) with 36757 and 10286 retweets respectively, for an average of 23,521.5.\n",
    "\n",
    "\n",
    "Your `top_20` table should have this format:\n",
    "\n",
    "<table border=\"1\" class=\"dataframe\">\n",
    "  <thead>\n",
    "    <tr style=\"text-align: right;\">\n",
    "      <th></th>\n",
    "      <th>retweet_count</th>\n",
    "    </tr>\n",
    "    <tr>\n",
    "      <th>word</th>\n",
    "      <th></th>\n",
    "    </tr>\n",
    "  </thead>\n",
    "  <tbody>\n",
    "    <tr>\n",
    "      <th>jong</th>\n",
    "      <td>40675.666667</td>\n",
    "    </tr>\n",
    "    <tr>\n",
    "      <th>try</th>\n",
    "      <td>33937.800000</td>\n",
    "    </tr>\n",
    "    <tr>\n",
    "      <th>kim</th>\n",
    "      <td>32849.595745</td>\n",
    "    </tr>\n",
    "    <tr>\n",
    "      <th>un</th>\n",
    "      <td>32741.731707</td>\n",
    "    </tr>\n",
    "    <tr>\n",
    "      <th>maybe</th>\n",
    "      <td>30473.192308</td>\n",
    "    </tr>\n",
    "  </tbody>\n",
    "</table>"
   ]
  },
  {
   "cell_type": "markdown",
   "metadata": {
    "id": "3MzFQJDUapQA"
   },
   "source": [
    "### Task 6.1\n",
    "Find the top 20 most retweeted words. Include only words that appear in at least 25 tweets. As usual, try to do this without any for loops. You can string together ~5-7 pandas commands and get everything done on one line."
   ]
  },
  {
   "cell_type": "code",
   "execution_count": 447,
   "metadata": {
    "id": "LIiOKJjuapQA"
   },
   "outputs": [
    {
     "data": {
      "text/html": [
       "<div>\n",
       "<style scoped>\n",
       "    .dataframe tbody tr th:only-of-type {\n",
       "        vertical-align: middle;\n",
       "    }\n",
       "\n",
       "    .dataframe tbody tr th {\n",
       "        vertical-align: top;\n",
       "    }\n",
       "\n",
       "    .dataframe thead th {\n",
       "        text-align: right;\n",
       "    }\n",
       "</style>\n",
       "<table border=\"1\" class=\"dataframe\">\n",
       "  <thead>\n",
       "    <tr style=\"text-align: right;\">\n",
       "      <th></th>\n",
       "      <th>retweet_count</th>\n",
       "    </tr>\n",
       "    <tr>\n",
       "      <th>word</th>\n",
       "      <th></th>\n",
       "    </tr>\n",
       "  </thead>\n",
       "  <tbody>\n",
       "    <tr>\n",
       "      <th>jong</th>\n",
       "      <td>40408.666667</td>\n",
       "    </tr>\n",
       "    <tr>\n",
       "      <th>un</th>\n",
       "      <td>32569.365854</td>\n",
       "    </tr>\n",
       "    <tr>\n",
       "      <th>kim</th>\n",
       "      <td>32148.081633</td>\n",
       "    </tr>\n",
       "    <tr>\n",
       "      <th>maybe</th>\n",
       "      <td>30622.000000</td>\n",
       "    </tr>\n",
       "    <tr>\n",
       "      <th>try</th>\n",
       "      <td>29109.862069</td>\n",
       "    </tr>\n",
       "    <tr>\n",
       "      <th>nuclear</th>\n",
       "      <td>28703.000000</td>\n",
       "    </tr>\n",
       "    <tr>\n",
       "      <th>kavanaugh</th>\n",
       "      <td>28651.962963</td>\n",
       "    </tr>\n",
       "    <tr>\n",
       "      <th>old</th>\n",
       "      <td>28340.848485</td>\n",
       "    </tr>\n",
       "    <tr>\n",
       "      <th>mccabe</th>\n",
       "      <td>27836.870968</td>\n",
       "    </tr>\n",
       "    <tr>\n",
       "      <th>players</th>\n",
       "      <td>27724.333333</td>\n",
       "    </tr>\n",
       "    <tr>\n",
       "      <th>illegally</th>\n",
       "      <td>27161.343750</td>\n",
       "    </tr>\n",
       "    <tr>\n",
       "      <th>flag</th>\n",
       "      <td>26927.233333</td>\n",
       "    </tr>\n",
       "    <tr>\n",
       "      <th>lowest</th>\n",
       "      <td>26819.543478</td>\n",
       "    </tr>\n",
       "    <tr>\n",
       "      <th>emails</th>\n",
       "      <td>26446.075472</td>\n",
       "    </tr>\n",
       "    <tr>\n",
       "      <th>nfl</th>\n",
       "      <td>26396.540541</td>\n",
       "    </tr>\n",
       "    <tr>\n",
       "      <th>fbi</th>\n",
       "      <td>25187.850746</td>\n",
       "    </tr>\n",
       "    <tr>\n",
       "      <th>obstruction</th>\n",
       "      <td>25012.594595</td>\n",
       "    </tr>\n",
       "    <tr>\n",
       "      <th>anthem</th>\n",
       "      <td>24870.210526</td>\n",
       "    </tr>\n",
       "    <tr>\n",
       "      <th>longer</th>\n",
       "      <td>24699.481481</td>\n",
       "    </tr>\n",
       "    <tr>\n",
       "      <th>charge</th>\n",
       "      <td>24670.192308</td>\n",
       "    </tr>\n",
       "  </tbody>\n",
       "</table>\n",
       "</div>"
      ],
      "text/plain": [
       "             retweet_count\n",
       "word                      \n",
       "jong          40408.666667\n",
       "un            32569.365854\n",
       "kim           32148.081633\n",
       "maybe         30622.000000\n",
       "try           29109.862069\n",
       "nuclear       28703.000000\n",
       "kavanaugh     28651.962963\n",
       "old           28340.848485\n",
       "mccabe        27836.870968\n",
       "players       27724.333333\n",
       "illegally     27161.343750\n",
       "flag          26927.233333\n",
       "lowest        26819.543478\n",
       "emails        26446.075472\n",
       "nfl           26396.540541\n",
       "fbi           25187.850746\n",
       "obstruction   25012.594595\n",
       "anthem        24870.210526\n",
       "longer        24699.481481\n",
       "charge        24670.192308"
      ]
     },
     "execution_count": 447,
     "metadata": {},
     "output_type": "execute_result"
    }
   ],
   "source": [
    "#top_20 = ...\n",
    "### BEGIN SOLUTION\n",
    "rts = tidy_format\n",
    "rts = rts.groupby('word').filter(lambda x: len(x) > 25)\n",
    "rts = rts.merge(df_trump[['retweet_count']], left_on='id', right_on ='id')\n",
    "\n",
    "## CLEANUP\n",
    "stop_words = stopwords.words('english')\n",
    "#remove stopwords\n",
    "rts = rts[~rts['word'].isin(stop_words)]\n",
    "# Remove numbers\n",
    "rts = rts[~(rts['word'].str.isnumeric())]\n",
    "#Remove words with only 1 length\n",
    "rts = rts[(rts['word'].str.len() != 1)]\n",
    "\n",
    "rts = rts.groupby('word').mean()['retweet_count']\n",
    "rts = rts.to_frame()\n",
    "\n",
    "rts = rts.sort_values(by='retweet_count', ascending=False)\n",
    "rts.head(20)\n",
    "\n",
    "### END SOLUTION"
   ]
  },
  {
   "cell_type": "markdown",
   "metadata": {
    "id": "5lSh8NdyapQA"
   },
   "source": [
    "### Task 6.2\n",
    "Plot a bar chart of your results:"
   ]
  },
  {
   "cell_type": "code",
   "execution_count": 456,
   "metadata": {
    "id": "CPahzHsVapQA"
   },
   "outputs": [
    {
     "data": {
      "text/plain": [
       "<AxesSubplot:xlabel='word', ylabel='retweet_count'>"
      ]
     },
     "execution_count": 456,
     "metadata": {},
     "output_type": "execute_result"
    },
    {
     "data": {
      "image/png": "[encoded data removed]",
      "text/plain": [
       "<Figure size 1440x720 with 1 Axes>"
      ]
     },
     "metadata": {},
     "output_type": "display_data"
    }
   ],
   "source": [
    "### BEGIN SOLUTION\n",
    "import seaborn as sns\n",
    "fig = plt.figure( figsize = (20,10))\n",
    "top_twenty = rts[:20]\n",
    "sns.barplot(x=top_twenty.index, y=\"retweet_count\", data=top_twenty)\n",
    "### BEGIN SOLUTION"
   ]
  },
  {
   "cell_type": "markdown",
   "metadata": {
    "id": "3CzsT89dapQA"
   },
   "source": [
    "## PART 7 - Conclusion (Optional for Individual)\n",
    "What else can we do? Let us ask some open ended questions."
   ]
  },
  {
   "cell_type": "markdown",
   "metadata": {
    "id": "00lj_c39apQA"
   },
   "source": [
    "### Task 7.1\n",
    "\"kim\", \"jong\" and \"un\" are apparently really popular in Trump's tweets! It seems like we can conclude that his tweets involving jong are more popular than his other tweets. Or can we?\n",
    "\n",
    "Consider each of the statements about possible confounding factors below. State whether each statement is true or false and explain. If the statement is true, state whether the confounding factor could have made kim jong un related tweets higher in the list than they should be.\n",
    "\n",
    "1. We didn't restrict our word list to nouns, so we have unhelpful words like \"let\" and \"any\" in our result.\n",
    "      - That might be why 'un' is the most popular.\n",
    "      - <strong> Although we didn't specify/restrict nouns in our list, 'un' itself is usually in reference to Kim Jong Un, meaning that, extraneous words like 'let' and 'any' shouldn't really have an effect on the popularity of the word 'un' in terms of retweets. Additionally, unhelpful words shouldn't influence the popularitiy of others, lending evidence to this statement being false.</strong>\n",
    "1. We didn't remove hashtags in our text, so we have duplicate words (eg. #great and great).\n",
    "      - Some may only have '#great' not 'great' which make the average lower\n",
    "      - <strong> This could be true since, in terms of the dataframe, as well as how our popular tweets were calculated, they would be calculated seperately. This could lead to tweets mentioning Kim Jong Un to be higher in popularity in terms of the data. </strong>\n",
    "1. We didn't account for the fact that Trump's follower count has increased over time.\n",
    "      - This can affect a lot. As Trump's follower count has increased, the more popular every word be\n",
    "      - <strong> Having a higher follower count over time could absolutelty have affected the popularity of the words. As his following increases, more and more traffic would come to his twitter, and as newer tweets came in the pipeline, those would get teh most attention and thus, more retweets. If a more recent tweet regarding Kim Jong Un appeared, there's a good chance that a higher than average follower count could cause outliers in popularity for more recent tweets compared to the past ones.  </strong>"
   ]
  },
  {
   "cell_type": "code",
   "execution_count": 477,
   "metadata": {
    "id": "dShu7ypuapQB"
   },
   "outputs": [
    {
     "data": {
      "image/png": "[encoded data removed]",
      "text/plain": [
       "<Figure size 1440x720 with 1 Axes>"
      ]
     },
     "metadata": {},
     "output_type": "display_data"
    }
   ],
   "source": [
    "#### BEGIN SOLUTION\n",
    "plt.figure(figsize=(20,10))\n",
    "df_trump.head()\n",
    "sns.lineplot(data=df_trump, x=df_trump['time'], y=df_trump['retweet_count'])\n",
    "plt.xticks(['2016-01', '2016-02', '2016-03', '2016-04', '2016-05', '2016-06', '2016-07', '2016-08', '2016-09', '2016-10', '2016-11', '2016-12',\n",
    "           '2017-01', '2017-02', '2017-03', '2017-04', '2017-05', '2017-06', '2017-07', '2017-08', '2017-09', '2017-10', '2017-11', '2017-12',\n",
    "           '2018-01', '2018-02', '2018-03', '2018-04', '2018-05', '2018-06', '2018-07', '2018-08', '2018-09', '2018-10', '2018-11', '2018-12'],\n",
    "          rotation=90);\n",
    "#### END SOLUTION"
   ]
  },
  {
   "cell_type": "markdown",
   "metadata": {
    "id": "b6SBTwpsapQB"
   },
   "source": [
    "### Task 7.2\n",
    "Using the `df_trump` tweets construct an interesting plot describing a property of the data and discuss what you found below.\n",
    "\n",
    "**Ideas:**\n",
    "\n",
    "1. How has the sentiment changed with length of the tweets?\n",
    "1. Does sentiment affect retweet count?\n",
    "1. Are retweets more negative than regular tweets?\n",
    "1. Are there any spikes in the number of retweets and do the correspond to world events? \n",
    "1. What terms have an especially positive or negative sentiment?\n",
    "\n",
    "You can look at other data sources and even tweets. Do some plots and discuss. You can add more cells here as needed.\n"
   ]
  },
  {
   "cell_type": "markdown",
   "metadata": {
    "id": "Cs8GlQj2apQB"
   },
   "source": [
    "#### BEGIN SOLUTION\n",
    "Discussion: \"Are there any spikes in the number of retweets and do they correspond to world events?\"\n",
    "\n",
    "Answer: <strong> Yes, there are a few spikes in the number of retweets as can be seen from the graph above. One spike of many retweets occurs around November 2016, which makes sense because that was the month that Donald Trump was elected president. He probably received many retweets from his tweets about his victory. Another huge spike in retweets occurred in July 2017. Occurring to the news, this was because he tweeted an edited wrestling clip to show him beating up the CNN logo, his most popular tweet that year. This was also the month he met with Vladimir Putin. </strong>\n",
    "#### END SOLUTION"
   ]
  },
  {
   "cell_type": "markdown",
   "metadata": {
    "id": "mdfBoczTapQB"
   },
   "source": [
    "### Group Part - Find Something interesting (Optional for Individuals)\n",
    "Is there still something interesting to find in this data set? Use your own imagination to ask some good questions. Don't be bias and look for the answer in data. Don't ask us what we want, because we do not know either. This will be for EXTRA CREDIT for individuals but part of the regular assignment for groups. Add any cells below.\n"
   ]
  },
  {
   "cell_type": "code",
   "execution_count": 493,
   "metadata": {},
   "outputs": [
    {
     "data": {
      "image/png": "[encoded data removed]",
      "text/plain": [
       "<Figure size 432x288 with 1 Axes>"
      ]
     },
     "metadata": {},
     "output_type": "display_data"
    }
   ],
   "source": [
    "question = 'Does sentiment of the tweet change with time of day?'\n",
    "sentiment_by_hour = df_trump.groupby('roundhour').mean()['polarity']\n",
    "sentiment_by_hour = sentiment_by_hour.to_frame()\n",
    "ax =sns.barplot(x=sentiment_by_hour.index, y=sentiment_by_hour.polarity, data=sentiment_by_hour)\n",
    "ax.set_xticklabels(ax.get_xticklabels(),rotation = 90);"
   ]
  },
  {
   "cell_type": "markdown",
   "metadata": {
    "id": "WHDvFI8bapQB"
   },
   "source": [
    "<div class=\"alert alert-block alert-info\">\n",
    "<h2>Submission Instructions</h2> \n",
    "<b> File Name:</b> Please name the file as yourSection_yourNetID_midsemester.jpynb<br>\n",
    "<b> Group Projects:</b> Each person in the group must submit a copy with both names listed. If you are doing a group project, you must inform your TA prior to 11/3/21 that you intend to work as a group and submit your name and your partner name. We will <b>not accept group work</b> if your TA has not been notified.<br>\n",
    "<b> Submit To: </b> Canvas &rarr; Assignments &rarr; midsemester (remove all output. Do not submit data files<br>\n",
    "<b>Warning:</b> Failure to follow directions may result in loss points.<br>\n",
    "</div>"
   ]
  },
  {
   "cell_type": "markdown",
   "metadata": {
    "id": "gjF3QW2tapQB"
   },
   "source": [
    "Created by Andy Guna @2019-2021 Credits: Josh Hug, and Berkeley Data Science Group, Steve Skiena, David Rodreguez"
   ]
  }
 ],
 "metadata": {
  "colab": {
   "name": "MidSemester Project - F21.ipynb",
   "provenance": []
  },
  "kernelspec": {
   "display_name": "Python 3",
   "language": "python",
   "name": "python3"
  },
  "language_info": {
   "codemirror_mode": {
    "name": "ipython",
    "version": 3
   },
   "file_extension": ".py",
   "mimetype": "text/x-python",
   "name": "python",
   "nbconvert_exporter": "python",
   "pygments_lexer": "ipython3",
   "version": "3.8.8"
  }
 },
 "nbformat": 4,
 "nbformat_minor": 1
}
